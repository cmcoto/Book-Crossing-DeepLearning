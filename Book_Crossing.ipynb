{
  "nbformat": 4,
  "nbformat_minor": 0,
  "metadata": {
    "colab": {
      "name": "Book-Crossing.ipynb",
      "version": "0.3.2",
      "provenance": [],
      "collapsed_sections": [],
      "include_colab_link": true
    },
    "kernelspec": {
      "name": "python3",
      "display_name": "Python 3"
    },
    "accelerator": "GPU"
  },
  "cells": [
    {
      "cell_type": "markdown",
      "metadata": {
        "id": "view-in-github",
        "colab_type": "text"
      },
      "source": [
        "<a href=\"https://colab.research.google.com/github/cmcoto/Book-Crossing-DeepLearning/blob/master/Book_Crossing.ipynb\" target=\"_parent\"><img src=\"https://colab.research.google.com/assets/colab-badge.svg\" alt=\"Open In Colab\"/></a>"
      ]
    },
    {
      "metadata": {
        "id": "clDIOmE-Iybb",
        "colab_type": "text"
      },
      "cell_type": "markdown",
      "source": [
        "**First Import FAST.AI So I can use many tools...Don't know yet what I might need!**"
      ]
    },
    {
      "metadata": {
        "id": "c_9g3FCVJAsF",
        "colab_type": "code",
        "outputId": "fbd30352-6db5-437e-9b2c-d4c4549d2501",
        "colab": {
          "base_uri": "https://localhost:8080/",
          "height": 848
        }
      },
      "cell_type": "code",
      "source": [
        "!curl https://course-v3.fast.ai/setup/colab | bash"
      ],
      "execution_count": 1,
      "outputs": [
        {
          "output_type": "stream",
          "text": [
            "  % Total    % Received % Xferd  Average Speed   Time    Time     Time  Current\n",
            "                                 Dload  Upload   Total   Spent    Left  Speed\n",
            "\r  0     0    0     0    0     0      0      0 --:--:-- --:--:-- --:--:--     0\r100   665  100   665    0     0   3212      0 --:--:-- --:--:-- --:--:--  3212\n",
            "Requirement already up-to-date: fastai in /usr/local/lib/python3.6/dist-packages (1.0.28)\n",
            "Requirement already satisfied, skipping upgrade: spacy==2.0.16 in /usr/local/lib/python3.6/dist-packages (from fastai) (2.0.16)\n",
            "Requirement already satisfied, skipping upgrade: numpy>=1.12 in /usr/local/lib/python3.6/dist-packages (from fastai) (1.14.6)\n",
            "Requirement already satisfied, skipping upgrade: regex in /usr/local/lib/python3.6/dist-packages (from fastai) (2018.1.10)\n",
            "Requirement already satisfied, skipping upgrade: torchvision-nightly in /usr/local/lib/python3.6/dist-packages (from fastai) (0.2.1)\n",
            "Requirement already satisfied, skipping upgrade: fastprogress>=0.1.15 in /usr/local/lib/python3.6/dist-packages (from fastai) (0.1.15)\n",
            "Requirement already satisfied, skipping upgrade: pandas in /usr/local/lib/python3.6/dist-packages (from fastai) (0.22.0)\n",
            "Requirement already satisfied, skipping upgrade: requests in /usr/local/lib/python3.6/dist-packages (from fastai) (2.18.4)\n",
            "Requirement already satisfied, skipping upgrade: bottleneck in /usr/local/lib/python3.6/dist-packages (from fastai) (1.2.1)\n",
            "Requirement already satisfied, skipping upgrade: dataclasses in /usr/local/lib/python3.6/dist-packages (from fastai) (0.6)\n",
            "Requirement already satisfied, skipping upgrade: thinc==6.12.0 in /usr/local/lib/python3.6/dist-packages (from fastai) (6.12.0)\n",
            "Requirement already satisfied, skipping upgrade: typing in /usr/local/lib/python3.6/dist-packages (from fastai) (3.6.6)\n",
            "Requirement already satisfied, skipping upgrade: cymem==2.0.2 in /usr/local/lib/python3.6/dist-packages (from fastai) (2.0.2)\n",
            "Requirement already satisfied, skipping upgrade: scipy in /usr/local/lib/python3.6/dist-packages (from fastai) (1.1.0)\n",
            "Requirement already satisfied, skipping upgrade: matplotlib in /usr/local/lib/python3.6/dist-packages (from fastai) (2.1.2)\n",
            "Requirement already satisfied, skipping upgrade: pyyaml in /usr/local/lib/python3.6/dist-packages (from fastai) (3.13)\n",
            "Requirement already satisfied, skipping upgrade: numexpr in /usr/local/lib/python3.6/dist-packages (from fastai) (2.6.8)\n",
            "Requirement already satisfied, skipping upgrade: Pillow in /usr/local/lib/python3.6/dist-packages (from fastai) (4.1.1)\n",
            "Requirement already satisfied, skipping upgrade: dill<0.3,>=0.2 in /usr/local/lib/python3.6/dist-packages (from spacy==2.0.16->fastai) (0.2.8.2)\n",
            "Requirement already satisfied, skipping upgrade: msgpack-numpy<0.4.4 in /usr/local/lib/python3.6/dist-packages (from spacy==2.0.16->fastai) (0.4.3.2)\n",
            "Requirement already satisfied, skipping upgrade: murmurhash<1.1.0,>=0.28.0 in /usr/local/lib/python3.6/dist-packages (from spacy==2.0.16->fastai) (1.0.1)\n",
            "Requirement already satisfied, skipping upgrade: plac<1.0.0,>=0.9.6 in /usr/local/lib/python3.6/dist-packages (from spacy==2.0.16->fastai) (0.9.6)\n",
            "Requirement already satisfied, skipping upgrade: preshed<2.1.0,>=2.0.1 in /usr/local/lib/python3.6/dist-packages (from spacy==2.0.16->fastai) (2.0.1)\n",
            "Requirement already satisfied, skipping upgrade: ujson>=1.35 in /usr/local/lib/python3.6/dist-packages (from spacy==2.0.16->fastai) (1.35)\n",
            "Requirement already satisfied, skipping upgrade: tqdm in /usr/local/lib/python3.6/dist-packages (from torchvision-nightly->fastai) (4.28.1)\n",
            "Requirement already satisfied, skipping upgrade: six in /usr/local/lib/python3.6/dist-packages (from torchvision-nightly->fastai) (1.11.0)\n",
            "Requirement already satisfied, skipping upgrade: python-dateutil>=2 in /usr/local/lib/python3.6/dist-packages (from pandas->fastai) (2.5.3)\n",
            "Requirement already satisfied, skipping upgrade: pytz>=2011k in /usr/local/lib/python3.6/dist-packages (from pandas->fastai) (2018.7)\n",
            "Requirement already satisfied, skipping upgrade: urllib3<1.23,>=1.21.1 in /usr/local/lib/python3.6/dist-packages (from requests->fastai) (1.22)\n",
            "Requirement already satisfied, skipping upgrade: certifi>=2017.4.17 in /usr/local/lib/python3.6/dist-packages (from requests->fastai) (2018.10.15)\n",
            "Requirement already satisfied, skipping upgrade: chardet<3.1.0,>=3.0.2 in /usr/local/lib/python3.6/dist-packages (from requests->fastai) (3.0.4)\n",
            "Requirement already satisfied, skipping upgrade: idna<2.7,>=2.5 in /usr/local/lib/python3.6/dist-packages (from requests->fastai) (2.6)\n",
            "Requirement already satisfied, skipping upgrade: cytoolz<0.10,>=0.9.0 in /usr/local/lib/python3.6/dist-packages (from thinc==6.12.0->fastai) (0.9.0.1)\n",
            "Requirement already satisfied, skipping upgrade: msgpack<1.0.0,>=0.5.6 in /usr/local/lib/python3.6/dist-packages (from thinc==6.12.0->fastai) (0.5.6)\n",
            "Requirement already satisfied, skipping upgrade: wrapt<1.11.0,>=1.10.0 in /usr/local/lib/python3.6/dist-packages (from thinc==6.12.0->fastai) (1.10.11)\n",
            "Requirement already satisfied, skipping upgrade: pyparsing!=2.0.4,!=2.1.2,!=2.1.6,>=2.0.1 in /usr/local/lib/python3.6/dist-packages (from matplotlib->fastai) (2.3.0)\n",
            "Requirement already satisfied, skipping upgrade: cycler>=0.10 in /usr/local/lib/python3.6/dist-packages (from matplotlib->fastai) (0.10.0)\n",
            "Requirement already satisfied, skipping upgrade: olefile in /usr/local/lib/python3.6/dist-packages (from Pillow->fastai) (0.46)\n",
            "Requirement already satisfied, skipping upgrade: toolz>=0.8.0 in /usr/local/lib/python3.6/dist-packages (from cytoolz<0.10,>=0.9.0->thinc==6.12.0->fastai) (0.9.0)\n",
            "Already up to date.\n"
          ],
          "name": "stdout"
        }
      ]
    },
    {
      "metadata": {
        "id": "hSx7uLQUJxbA",
        "colab_type": "text"
      },
      "cell_type": "markdown",
      "source": [
        "**Connect Google Drive!**"
      ]
    },
    {
      "metadata": {
        "id": "wbQ-2HmfJ2wF",
        "colab_type": "code",
        "outputId": "7dbacc56-eef3-4b97-8911-a5e873d8cb4b",
        "colab": {
          "base_uri": "https://localhost:8080/",
          "height": 36
        }
      },
      "cell_type": "code",
      "source": [
        "from google.colab import *\n",
        "drive.mount('/content/gdrive', force_remount=True)"
      ],
      "execution_count": 2,
      "outputs": [
        {
          "output_type": "stream",
          "text": [
            "Mounted at /content/gdrive\n"
          ],
          "name": "stdout"
        }
      ]
    },
    {
      "metadata": {
        "id": "0-cWM6nsKKFd",
        "colab_type": "text"
      },
      "cell_type": "markdown",
      "source": [
        "Check that it mounted Correctly!"
      ]
    },
    {
      "metadata": {
        "id": "5ic3WBM-KNm8",
        "colab_type": "code",
        "outputId": "d86ef742-4f18-493a-e04a-56143037b190",
        "colab": {
          "base_uri": "https://localhost:8080/",
          "height": 36
        }
      },
      "cell_type": "code",
      "source": [
        "with open('/content/gdrive/My Drive/data/foo.txt', 'w') as f:\n",
        "  f.write('Hello Google Drive!')\n",
        "!cat /content/gdrive/My\\ Drive/foo.txt"
      ],
      "execution_count": 3,
      "outputs": [
        {
          "output_type": "stream",
          "text": [
            "Hello Google Drive!"
          ],
          "name": "stdout"
        }
      ]
    },
    {
      "metadata": {
        "id": "_jiFtBCdN2P_",
        "colab_type": "text"
      },
      "cell_type": "markdown",
      "source": [
        "Get Path! To read csv file"
      ]
    },
    {
      "metadata": {
        "id": "aSvtMbC8OhRk",
        "colab_type": "code",
        "outputId": "588c987e-3c01-447a-a282-7dc987e80363",
        "colab": {
          "base_uri": "https://localhost:8080/",
          "height": 36
        }
      },
      "cell_type": "code",
      "source": [
        "!ls \"/content/gdrive/My Drive/data/bookCrossing\""
      ],
      "execution_count": 4,
      "outputs": [
        {
          "output_type": "stream",
          "text": [
            "BX-Book-Ratings.csv  BX-Books.csv  BX-Users.csv\n"
          ],
          "name": "stdout"
        }
      ]
    },
    {
      "metadata": {
        "id": "ZGu749rEQjKF",
        "colab_type": "text"
      },
      "cell_type": "markdown",
      "source": [
        "GET THE **DATA**"
      ]
    },
    {
      "metadata": {
        "id": "P89E-EmORIPa",
        "colab_type": "code",
        "colab": {}
      },
      "cell_type": "code",
      "source": [
        "import pandas as pd\n",
        "import numpy as np\n"
      ],
      "execution_count": 0,
      "outputs": []
    },
    {
      "metadata": {
        "id": "KFJzWXTKQnBU",
        "colab_type": "code",
        "colab": {}
      },
      "cell_type": "code",
      "source": [
        "ratings = pd.read_csv('/content/gdrive/My Drive/data/bookCrossing/BX-Book-Ratings.csv', delimiter=\";\", encoding=\"latin1\")\n",
        "ratings.columns = ['userId', 'ISBN', 'bookRating']"
      ],
      "execution_count": 0,
      "outputs": []
    },
    {
      "metadata": {
        "id": "1p7If1U9Sg5p",
        "colab_type": "code",
        "outputId": "8f4c6595-a231-42ec-86b2-14e22849d4e5",
        "colab": {
          "base_uri": "https://localhost:8080/",
          "height": 206
        }
      },
      "cell_type": "code",
      "source": [
        "ratings.head(5)"
      ],
      "execution_count": 7,
      "outputs": [
        {
          "output_type": "execute_result",
          "data": {
            "text/html": [
              "<div>\n",
              "<style scoped>\n",
              "    .dataframe tbody tr th:only-of-type {\n",
              "        vertical-align: middle;\n",
              "    }\n",
              "\n",
              "    .dataframe tbody tr th {\n",
              "        vertical-align: top;\n",
              "    }\n",
              "\n",
              "    .dataframe thead th {\n",
              "        text-align: right;\n",
              "    }\n",
              "</style>\n",
              "<table border=\"1\" class=\"dataframe\">\n",
              "  <thead>\n",
              "    <tr style=\"text-align: right;\">\n",
              "      <th></th>\n",
              "      <th>userId</th>\n",
              "      <th>ISBN</th>\n",
              "      <th>bookRating</th>\n",
              "    </tr>\n",
              "  </thead>\n",
              "  <tbody>\n",
              "    <tr>\n",
              "      <th>0</th>\n",
              "      <td>276725</td>\n",
              "      <td>034545104X</td>\n",
              "      <td>0</td>\n",
              "    </tr>\n",
              "    <tr>\n",
              "      <th>1</th>\n",
              "      <td>276726</td>\n",
              "      <td>0155061224</td>\n",
              "      <td>5</td>\n",
              "    </tr>\n",
              "    <tr>\n",
              "      <th>2</th>\n",
              "      <td>276727</td>\n",
              "      <td>0446520802</td>\n",
              "      <td>0</td>\n",
              "    </tr>\n",
              "    <tr>\n",
              "      <th>3</th>\n",
              "      <td>276729</td>\n",
              "      <td>052165615X</td>\n",
              "      <td>3</td>\n",
              "    </tr>\n",
              "    <tr>\n",
              "      <th>4</th>\n",
              "      <td>276729</td>\n",
              "      <td>0521795028</td>\n",
              "      <td>6</td>\n",
              "    </tr>\n",
              "  </tbody>\n",
              "</table>\n",
              "</div>"
            ],
            "text/plain": [
              "   userId        ISBN  bookRating\n",
              "0  276725  034545104X           0\n",
              "1  276726  0155061224           5\n",
              "2  276727  0446520802           0\n",
              "3  276729  052165615X           3\n",
              "4  276729  0521795028           6"
            ]
          },
          "metadata": {
            "tags": []
          },
          "execution_count": 7
        }
      ]
    },
    {
      "metadata": {
        "id": "-Tz9khC0Y36R",
        "colab_type": "code",
        "colab": {}
      },
      "cell_type": "code",
      "source": [
        "users = pd.read_csv('/content/gdrive/My Drive/data/bookCrossing/BX-Users.csv', delimiter=\";\", encoding=\"latin1\")\n",
        "users.columns = ['userId', 'location', 'age']"
      ],
      "execution_count": 0,
      "outputs": []
    },
    {
      "metadata": {
        "id": "EQHReTz6Zrvm",
        "colab_type": "code",
        "outputId": "99d36850-2fc3-4f0d-d7fc-0b539cb6f1ee",
        "colab": {
          "base_uri": "https://localhost:8080/",
          "height": 206
        }
      },
      "cell_type": "code",
      "source": [
        "users.head()"
      ],
      "execution_count": 9,
      "outputs": [
        {
          "output_type": "execute_result",
          "data": {
            "text/html": [
              "<div>\n",
              "<style scoped>\n",
              "    .dataframe tbody tr th:only-of-type {\n",
              "        vertical-align: middle;\n",
              "    }\n",
              "\n",
              "    .dataframe tbody tr th {\n",
              "        vertical-align: top;\n",
              "    }\n",
              "\n",
              "    .dataframe thead th {\n",
              "        text-align: right;\n",
              "    }\n",
              "</style>\n",
              "<table border=\"1\" class=\"dataframe\">\n",
              "  <thead>\n",
              "    <tr style=\"text-align: right;\">\n",
              "      <th></th>\n",
              "      <th>userId</th>\n",
              "      <th>location</th>\n",
              "      <th>age</th>\n",
              "    </tr>\n",
              "  </thead>\n",
              "  <tbody>\n",
              "    <tr>\n",
              "      <th>0</th>\n",
              "      <td>1</td>\n",
              "      <td>nyc, new york, usa</td>\n",
              "      <td>NaN</td>\n",
              "    </tr>\n",
              "    <tr>\n",
              "      <th>1</th>\n",
              "      <td>2</td>\n",
              "      <td>stockton, california, usa</td>\n",
              "      <td>18.0</td>\n",
              "    </tr>\n",
              "    <tr>\n",
              "      <th>2</th>\n",
              "      <td>3</td>\n",
              "      <td>moscow, yukon territory, russia</td>\n",
              "      <td>NaN</td>\n",
              "    </tr>\n",
              "    <tr>\n",
              "      <th>3</th>\n",
              "      <td>4</td>\n",
              "      <td>porto, v.n.gaia, portugal</td>\n",
              "      <td>17.0</td>\n",
              "    </tr>\n",
              "    <tr>\n",
              "      <th>4</th>\n",
              "      <td>5</td>\n",
              "      <td>farnborough, hants, united kingdom</td>\n",
              "      <td>NaN</td>\n",
              "    </tr>\n",
              "  </tbody>\n",
              "</table>\n",
              "</div>"
            ],
            "text/plain": [
              "   userId                            location   age\n",
              "0       1                  nyc, new york, usa   NaN\n",
              "1       2           stockton, california, usa  18.0\n",
              "2       3     moscow, yukon territory, russia   NaN\n",
              "3       4           porto, v.n.gaia, portugal  17.0\n",
              "4       5  farnborough, hants, united kingdom   NaN"
            ]
          },
          "metadata": {
            "tags": []
          },
          "execution_count": 9
        }
      ]
    },
    {
      "metadata": {
        "id": "fwblV96-klbN",
        "colab_type": "code",
        "outputId": "eb297398-7617-4f4c-dfbc-fd07c8a7fe78",
        "colab": {
          "base_uri": "https://localhost:8080/",
          "height": 150
        }
      },
      "cell_type": "code",
      "source": [
        "books = pd.read_csv('/content/gdrive/My Drive/data/bookCrossing/BX-Books.csv', delimiter=\";\", encoding=\"latin-1\", error_bad_lines=False)\n",
        "books.columns = ['ISBN', 'bookTitle', 'bookAuthor', 'yearOfPublication', 'publisher', 'imageURLS', 'imageURLM', 'imageURLL']"
      ],
      "execution_count": 10,
      "outputs": [
        {
          "output_type": "stream",
          "text": [
            "b'Skipping line 6452: expected 8 fields, saw 9\\nSkipping line 43667: expected 8 fields, saw 10\\nSkipping line 51751: expected 8 fields, saw 9\\n'\n",
            "b'Skipping line 92038: expected 8 fields, saw 9\\nSkipping line 104319: expected 8 fields, saw 9\\nSkipping line 121768: expected 8 fields, saw 9\\n'\n",
            "b'Skipping line 144058: expected 8 fields, saw 9\\nSkipping line 150789: expected 8 fields, saw 9\\nSkipping line 157128: expected 8 fields, saw 9\\nSkipping line 180189: expected 8 fields, saw 9\\nSkipping line 185738: expected 8 fields, saw 9\\n'\n",
            "b'Skipping line 209388: expected 8 fields, saw 9\\nSkipping line 220626: expected 8 fields, saw 9\\nSkipping line 227933: expected 8 fields, saw 11\\nSkipping line 228957: expected 8 fields, saw 10\\nSkipping line 245933: expected 8 fields, saw 9\\nSkipping line 251296: expected 8 fields, saw 9\\nSkipping line 259941: expected 8 fields, saw 9\\nSkipping line 261529: expected 8 fields, saw 9\\n'\n",
            "/usr/local/lib/python3.6/dist-packages/IPython/core/interactiveshell.py:2718: DtypeWarning: Columns (3) have mixed types. Specify dtype option on import or set low_memory=False.\n",
            "  interactivity=interactivity, compiler=compiler, result=result)\n"
          ],
          "name": "stderr"
        }
      ]
    },
    {
      "metadata": {
        "id": "J4qKDQ0_lOag",
        "colab_type": "code",
        "outputId": "971a1f82-afe1-45ee-eb14-152e67a6eb62",
        "colab": {
          "base_uri": "https://localhost:8080/",
          "height": 415
        }
      },
      "cell_type": "code",
      "source": [
        "books.head()"
      ],
      "execution_count": 11,
      "outputs": [
        {
          "output_type": "execute_result",
          "data": {
            "text/html": [
              "<div>\n",
              "<style scoped>\n",
              "    .dataframe tbody tr th:only-of-type {\n",
              "        vertical-align: middle;\n",
              "    }\n",
              "\n",
              "    .dataframe tbody tr th {\n",
              "        vertical-align: top;\n",
              "    }\n",
              "\n",
              "    .dataframe thead th {\n",
              "        text-align: right;\n",
              "    }\n",
              "</style>\n",
              "<table border=\"1\" class=\"dataframe\">\n",
              "  <thead>\n",
              "    <tr style=\"text-align: right;\">\n",
              "      <th></th>\n",
              "      <th>ISBN</th>\n",
              "      <th>bookTitle</th>\n",
              "      <th>bookAuthor</th>\n",
              "      <th>yearOfPublication</th>\n",
              "      <th>publisher</th>\n",
              "      <th>imageURLS</th>\n",
              "      <th>imageURLM</th>\n",
              "      <th>imageURLL</th>\n",
              "    </tr>\n",
              "  </thead>\n",
              "  <tbody>\n",
              "    <tr>\n",
              "      <th>0</th>\n",
              "      <td>0195153448</td>\n",
              "      <td>Classical Mythology</td>\n",
              "      <td>Mark P. O. Morford</td>\n",
              "      <td>2002</td>\n",
              "      <td>Oxford University Press</td>\n",
              "      <td>http://images.amazon.com/images/P/0195153448.0...</td>\n",
              "      <td>http://images.amazon.com/images/P/0195153448.0...</td>\n",
              "      <td>http://images.amazon.com/images/P/0195153448.0...</td>\n",
              "    </tr>\n",
              "    <tr>\n",
              "      <th>1</th>\n",
              "      <td>0002005018</td>\n",
              "      <td>Clara Callan</td>\n",
              "      <td>Richard Bruce Wright</td>\n",
              "      <td>2001</td>\n",
              "      <td>HarperFlamingo Canada</td>\n",
              "      <td>http://images.amazon.com/images/P/0002005018.0...</td>\n",
              "      <td>http://images.amazon.com/images/P/0002005018.0...</td>\n",
              "      <td>http://images.amazon.com/images/P/0002005018.0...</td>\n",
              "    </tr>\n",
              "    <tr>\n",
              "      <th>2</th>\n",
              "      <td>0060973129</td>\n",
              "      <td>Decision in Normandy</td>\n",
              "      <td>Carlo D'Este</td>\n",
              "      <td>1991</td>\n",
              "      <td>HarperPerennial</td>\n",
              "      <td>http://images.amazon.com/images/P/0060973129.0...</td>\n",
              "      <td>http://images.amazon.com/images/P/0060973129.0...</td>\n",
              "      <td>http://images.amazon.com/images/P/0060973129.0...</td>\n",
              "    </tr>\n",
              "    <tr>\n",
              "      <th>3</th>\n",
              "      <td>0374157065</td>\n",
              "      <td>Flu: The Story of the Great Influenza Pandemic...</td>\n",
              "      <td>Gina Bari Kolata</td>\n",
              "      <td>1999</td>\n",
              "      <td>Farrar Straus Giroux</td>\n",
              "      <td>http://images.amazon.com/images/P/0374157065.0...</td>\n",
              "      <td>http://images.amazon.com/images/P/0374157065.0...</td>\n",
              "      <td>http://images.amazon.com/images/P/0374157065.0...</td>\n",
              "    </tr>\n",
              "    <tr>\n",
              "      <th>4</th>\n",
              "      <td>0393045218</td>\n",
              "      <td>The Mummies of Urumchi</td>\n",
              "      <td>E. J. W. Barber</td>\n",
              "      <td>1999</td>\n",
              "      <td>W. W. Norton &amp;amp; Company</td>\n",
              "      <td>http://images.amazon.com/images/P/0393045218.0...</td>\n",
              "      <td>http://images.amazon.com/images/P/0393045218.0...</td>\n",
              "      <td>http://images.amazon.com/images/P/0393045218.0...</td>\n",
              "    </tr>\n",
              "  </tbody>\n",
              "</table>\n",
              "</div>"
            ],
            "text/plain": [
              "         ISBN                                          bookTitle  \\\n",
              "0  0195153448                                Classical Mythology   \n",
              "1  0002005018                                       Clara Callan   \n",
              "2  0060973129                               Decision in Normandy   \n",
              "3  0374157065  Flu: The Story of the Great Influenza Pandemic...   \n",
              "4  0393045218                             The Mummies of Urumchi   \n",
              "\n",
              "             bookAuthor yearOfPublication                   publisher  \\\n",
              "0    Mark P. O. Morford              2002     Oxford University Press   \n",
              "1  Richard Bruce Wright              2001       HarperFlamingo Canada   \n",
              "2          Carlo D'Este              1991             HarperPerennial   \n",
              "3      Gina Bari Kolata              1999        Farrar Straus Giroux   \n",
              "4       E. J. W. Barber              1999  W. W. Norton &amp; Company   \n",
              "\n",
              "                                           imageURLS  \\\n",
              "0  http://images.amazon.com/images/P/0195153448.0...   \n",
              "1  http://images.amazon.com/images/P/0002005018.0...   \n",
              "2  http://images.amazon.com/images/P/0060973129.0...   \n",
              "3  http://images.amazon.com/images/P/0374157065.0...   \n",
              "4  http://images.amazon.com/images/P/0393045218.0...   \n",
              "\n",
              "                                           imageURLM  \\\n",
              "0  http://images.amazon.com/images/P/0195153448.0...   \n",
              "1  http://images.amazon.com/images/P/0002005018.0...   \n",
              "2  http://images.amazon.com/images/P/0060973129.0...   \n",
              "3  http://images.amazon.com/images/P/0374157065.0...   \n",
              "4  http://images.amazon.com/images/P/0393045218.0...   \n",
              "\n",
              "                                           imageURLL  \n",
              "0  http://images.amazon.com/images/P/0195153448.0...  \n",
              "1  http://images.amazon.com/images/P/0002005018.0...  \n",
              "2  http://images.amazon.com/images/P/0060973129.0...  \n",
              "3  http://images.amazon.com/images/P/0374157065.0...  \n",
              "4  http://images.amazon.com/images/P/0393045218.0...  "
            ]
          },
          "metadata": {
            "tags": []
          },
          "execution_count": 11
        }
      ]
    },
    {
      "metadata": {
        "id": "-ddZtFaOYaa6",
        "colab_type": "code",
        "outputId": "0edb692b-1542-4cee-ecae-468b708a02d2",
        "colab": {
          "base_uri": "https://localhost:8080/",
          "height": 74
        }
      },
      "cell_type": "code",
      "source": [
        "print(ratings.shape)\n",
        "print(users.shape)\n",
        "print(books.shape)\n"
      ],
      "execution_count": 12,
      "outputs": [
        {
          "output_type": "stream",
          "text": [
            "(1149780, 3)\n",
            "(278858, 3)\n",
            "(271360, 8)\n"
          ],
          "name": "stdout"
        }
      ]
    },
    {
      "metadata": {
        "id": "UuAuds91b3HO",
        "colab_type": "text"
      },
      "cell_type": "markdown",
      "source": [
        "Do we need the images column in Books? Probably not."
      ]
    },
    {
      "metadata": {
        "id": "d1tGoaG1b2NL",
        "colab_type": "code",
        "colab": {}
      },
      "cell_type": "code",
      "source": [
        "books.drop(['imageURLS','imageURLM','imageURLL'], axis=1, inplace=True)"
      ],
      "execution_count": 0,
      "outputs": []
    },
    {
      "metadata": {
        "id": "2VnxugpxfIVL",
        "colab_type": "code",
        "outputId": "0db4b73a-9a58-49f8-9d58-0392d8322fe5",
        "colab": {
          "base_uri": "https://localhost:8080/",
          "height": 206
        }
      },
      "cell_type": "code",
      "source": [
        "books.head()"
      ],
      "execution_count": 14,
      "outputs": [
        {
          "output_type": "execute_result",
          "data": {
            "text/html": [
              "<div>\n",
              "<style scoped>\n",
              "    .dataframe tbody tr th:only-of-type {\n",
              "        vertical-align: middle;\n",
              "    }\n",
              "\n",
              "    .dataframe tbody tr th {\n",
              "        vertical-align: top;\n",
              "    }\n",
              "\n",
              "    .dataframe thead th {\n",
              "        text-align: right;\n",
              "    }\n",
              "</style>\n",
              "<table border=\"1\" class=\"dataframe\">\n",
              "  <thead>\n",
              "    <tr style=\"text-align: right;\">\n",
              "      <th></th>\n",
              "      <th>ISBN</th>\n",
              "      <th>bookTitle</th>\n",
              "      <th>bookAuthor</th>\n",
              "      <th>yearOfPublication</th>\n",
              "      <th>publisher</th>\n",
              "    </tr>\n",
              "  </thead>\n",
              "  <tbody>\n",
              "    <tr>\n",
              "      <th>0</th>\n",
              "      <td>0195153448</td>\n",
              "      <td>Classical Mythology</td>\n",
              "      <td>Mark P. O. Morford</td>\n",
              "      <td>2002</td>\n",
              "      <td>Oxford University Press</td>\n",
              "    </tr>\n",
              "    <tr>\n",
              "      <th>1</th>\n",
              "      <td>0002005018</td>\n",
              "      <td>Clara Callan</td>\n",
              "      <td>Richard Bruce Wright</td>\n",
              "      <td>2001</td>\n",
              "      <td>HarperFlamingo Canada</td>\n",
              "    </tr>\n",
              "    <tr>\n",
              "      <th>2</th>\n",
              "      <td>0060973129</td>\n",
              "      <td>Decision in Normandy</td>\n",
              "      <td>Carlo D'Este</td>\n",
              "      <td>1991</td>\n",
              "      <td>HarperPerennial</td>\n",
              "    </tr>\n",
              "    <tr>\n",
              "      <th>3</th>\n",
              "      <td>0374157065</td>\n",
              "      <td>Flu: The Story of the Great Influenza Pandemic...</td>\n",
              "      <td>Gina Bari Kolata</td>\n",
              "      <td>1999</td>\n",
              "      <td>Farrar Straus Giroux</td>\n",
              "    </tr>\n",
              "    <tr>\n",
              "      <th>4</th>\n",
              "      <td>0393045218</td>\n",
              "      <td>The Mummies of Urumchi</td>\n",
              "      <td>E. J. W. Barber</td>\n",
              "      <td>1999</td>\n",
              "      <td>W. W. Norton &amp;amp; Company</td>\n",
              "    </tr>\n",
              "  </tbody>\n",
              "</table>\n",
              "</div>"
            ],
            "text/plain": [
              "         ISBN                                          bookTitle  \\\n",
              "0  0195153448                                Classical Mythology   \n",
              "1  0002005018                                       Clara Callan   \n",
              "2  0060973129                               Decision in Normandy   \n",
              "3  0374157065  Flu: The Story of the Great Influenza Pandemic...   \n",
              "4  0393045218                             The Mummies of Urumchi   \n",
              "\n",
              "             bookAuthor yearOfPublication                   publisher  \n",
              "0    Mark P. O. Morford              2002     Oxford University Press  \n",
              "1  Richard Bruce Wright              2001       HarperFlamingo Canada  \n",
              "2          Carlo D'Este              1991             HarperPerennial  \n",
              "3      Gina Bari Kolata              1999        Farrar Straus Giroux  \n",
              "4       E. J. W. Barber              1999  W. W. Norton &amp; Company  "
            ]
          },
          "metadata": {
            "tags": []
          },
          "execution_count": 14
        }
      ]
    },
    {
      "metadata": {
        "id": "WAiJt0zPrYHp",
        "colab_type": "text"
      },
      "cell_type": "markdown",
      "source": [
        "**DATA WRANGLING**"
      ]
    },
    {
      "metadata": {
        "id": "nkR5TUrYfg8-",
        "colab_type": "text"
      },
      "cell_type": "markdown",
      "source": [
        "Let's check the Data Types... \n"
      ]
    },
    {
      "metadata": {
        "id": "om-_iaB_fgIN",
        "colab_type": "code",
        "outputId": "8a628098-d7da-415a-e4a3-28ff503503fd",
        "colab": {
          "base_uri": "https://localhost:8080/",
          "height": 92
        }
      },
      "cell_type": "code",
      "source": [
        "ratings.dtypes"
      ],
      "execution_count": 15,
      "outputs": [
        {
          "output_type": "execute_result",
          "data": {
            "text/plain": [
              "userId         int64\n",
              "ISBN          object\n",
              "bookRating     int64\n",
              "dtype: object"
            ]
          },
          "metadata": {
            "tags": []
          },
          "execution_count": 15
        }
      ]
    },
    {
      "metadata": {
        "id": "vOqUAxuHlBA3",
        "colab_type": "code",
        "colab": {}
      },
      "cell_type": "code",
      "source": [
        "pd.set_option('display.max_colwidth', -1)"
      ],
      "execution_count": 0,
      "outputs": []
    },
    {
      "metadata": {
        "id": "5g6NsJRCjvke",
        "colab_type": "code",
        "outputId": "10fde301-dcab-426a-c783-8c3f60c200dd",
        "colab": {
          "base_uri": "https://localhost:8080/",
          "height": 36
        }
      },
      "cell_type": "code",
      "source": [
        "ratings['bookRating'].unique()"
      ],
      "execution_count": 17,
      "outputs": [
        {
          "output_type": "execute_result",
          "data": {
            "text/plain": [
              "array([ 0,  5,  3,  6,  8,  7, 10,  9,  4,  1,  2])"
            ]
          },
          "metadata": {
            "tags": []
          },
          "execution_count": 17
        }
      ]
    },
    {
      "metadata": {
        "id": "9rgORuj1rlpc",
        "colab_type": "code",
        "outputId": "68f8020e-53b8-437a-9b2b-22e583b0be05",
        "colab": {
          "base_uri": "https://localhost:8080/",
          "height": 92
        }
      },
      "cell_type": "code",
      "source": [
        "users.dtypes"
      ],
      "execution_count": 18,
      "outputs": [
        {
          "output_type": "execute_result",
          "data": {
            "text/plain": [
              "userId      int64  \n",
              "location    object \n",
              "age         float64\n",
              "dtype: object"
            ]
          },
          "metadata": {
            "tags": []
          },
          "execution_count": 18
        }
      ]
    },
    {
      "metadata": {
        "id": "zrjsuiG9rrlZ",
        "colab_type": "code",
        "outputId": "ae256a7e-1698-4e86-abf0-55eb25a30e3b",
        "colab": {
          "base_uri": "https://localhost:8080/",
          "height": 130
        }
      },
      "cell_type": "code",
      "source": [
        "books.dtypes\n"
      ],
      "execution_count": 19,
      "outputs": [
        {
          "output_type": "execute_result",
          "data": {
            "text/plain": [
              "ISBN                 object\n",
              "bookTitle            object\n",
              "bookAuthor           object\n",
              "yearOfPublication    object\n",
              "publisher            object\n",
              "dtype: object"
            ]
          },
          "metadata": {
            "tags": []
          },
          "execution_count": 19
        }
      ]
    },
    {
      "metadata": {
        "id": "2455-ehotj3l",
        "colab_type": "text"
      },
      "cell_type": "markdown",
      "source": [
        "For Data wrangling, I will follow some of the steps used by Chhavi Saluja, in: [TowardsDataScience](https://towardsdatascience.com/my-journey-to-building-book-recommendation-system-5ec959c41847)"
      ]
    },
    {
      "metadata": {
        "id": "qVaht6-Jr6GZ",
        "colab_type": "code",
        "outputId": "487723c2-8509-41a5-fa60-5aa516516f1d",
        "colab": {
          "base_uri": "https://localhost:8080/",
          "height": 451
        }
      },
      "cell_type": "code",
      "source": [
        "books.yearOfPublication.unique()"
      ],
      "execution_count": 20,
      "outputs": [
        {
          "output_type": "execute_result",
          "data": {
            "text/plain": [
              "array([2002, 2001, 1991, 1999, 2000, 1993, 1996, 1988, 2004, 1998, 1994,\n",
              "       2003, 1997, 1983, 1979, 1995, 1982, 1985, 1992, 1986, 1978, 1980,\n",
              "       1952, 1987, 1990, 1981, 1989, 1984, 0, 1968, 1961, 1958, 1974,\n",
              "       1976, 1971, 1977, 1975, 1965, 1941, 1970, 1962, 1973, 1972, 1960,\n",
              "       1966, 1920, 1956, 1959, 1953, 1951, 1942, 1963, 1964, 1969, 1954,\n",
              "       1950, 1967, 2005, 1957, 1940, 1937, 1955, 1946, 1936, 1930, 2011,\n",
              "       1925, 1948, 1943, 1947, 1945, 1923, 2020, 1939, 1926, 1938, 2030,\n",
              "       1911, 1904, 1949, 1932, 1928, 1929, 1927, 1931, 1914, 2050, 1934,\n",
              "       1910, 1933, 1902, 1924, 1921, 1900, 2038, 2026, 1944, 1917, 1901,\n",
              "       2010, 1908, 1906, 1935, 1806, 2021, '2000', '1995', '1999', '2004',\n",
              "       '2003', '1990', '1994', '1986', '1989', '2002', '1981', '1993',\n",
              "       '1983', '1982', '1976', '1991', '1977', '1998', '1992', '1996',\n",
              "       '0', '1997', '2001', '1974', '1968', '1987', '1984', '1988',\n",
              "       '1963', '1956', '1970', '1985', '1978', '1973', '1980', '1979',\n",
              "       '1975', '1969', '1961', '1965', '1939', '1958', '1950', '1953',\n",
              "       '1966', '1971', '1959', '1972', '1955', '1957', '1945', '1960',\n",
              "       '1967', '1932', '1924', '1964', '2012', '1911', '1927', '1948',\n",
              "       '1962', '2006', '1952', '1940', '1951', '1931', '1954', '2005',\n",
              "       '1930', '1941', '1944', 'DK Publishing Inc', '1943', '1938',\n",
              "       '1900', '1942', '1923', '1920', '1933', 'Gallimard', '1909',\n",
              "       '1946', '2008', '1378', '2030', '1936', '1947', '2011', '2020',\n",
              "       '1919', '1949', '1922', '1897', '2024', '1376', '1926', '2037'],\n",
              "      dtype=object)"
            ]
          },
          "metadata": {
            "tags": []
          },
          "execution_count": 20
        }
      ]
    },
    {
      "metadata": {
        "id": "EA9AHbLTJLKW",
        "colab_type": "text"
      },
      "cell_type": "markdown",
      "source": [
        "The Types are mixed, between Integers and Strings... Must set one type. Then there are wrong Data, in that they have set Publisher instead of year of publication 'Dk Publishing' and ''Gallimard'. There are also some numbers that make no sense...like 0, # > 2004... Need to take care of them also."
      ]
    },
    {
      "metadata": {
        "id": "9wMDtFzkIy8g",
        "colab_type": "code",
        "outputId": "5ecde493-cd94-43f9-f823-d27430b8caed",
        "colab": {
          "base_uri": "https://localhost:8080/",
          "height": 147
        }
      },
      "cell_type": "code",
      "source": [
        "books.loc[books.yearOfPublication == 'DK Publishing Inc',:]"
      ],
      "execution_count": 21,
      "outputs": [
        {
          "output_type": "execute_result",
          "data": {
            "text/html": [
              "<div>\n",
              "<style scoped>\n",
              "    .dataframe tbody tr th:only-of-type {\n",
              "        vertical-align: middle;\n",
              "    }\n",
              "\n",
              "    .dataframe tbody tr th {\n",
              "        vertical-align: top;\n",
              "    }\n",
              "\n",
              "    .dataframe thead th {\n",
              "        text-align: right;\n",
              "    }\n",
              "</style>\n",
              "<table border=\"1\" class=\"dataframe\">\n",
              "  <thead>\n",
              "    <tr style=\"text-align: right;\">\n",
              "      <th></th>\n",
              "      <th>ISBN</th>\n",
              "      <th>bookTitle</th>\n",
              "      <th>bookAuthor</th>\n",
              "      <th>yearOfPublication</th>\n",
              "      <th>publisher</th>\n",
              "    </tr>\n",
              "  </thead>\n",
              "  <tbody>\n",
              "    <tr>\n",
              "      <th>209538</th>\n",
              "      <td>078946697X</td>\n",
              "      <td>DK Readers: Creating the X-Men, How It All Began (Level 4: Proficient Readers)\\\";Michael Teitelbaum\"</td>\n",
              "      <td>2000</td>\n",
              "      <td>DK Publishing Inc</td>\n",
              "      <td>http://images.amazon.com/images/P/078946697X.01.THUMBZZZ.jpg</td>\n",
              "    </tr>\n",
              "    <tr>\n",
              "      <th>221678</th>\n",
              "      <td>0789466953</td>\n",
              "      <td>DK Readers: Creating the X-Men, How Comic Books Come to Life (Level 4: Proficient Readers)\\\";James Buckley\"</td>\n",
              "      <td>2000</td>\n",
              "      <td>DK Publishing Inc</td>\n",
              "      <td>http://images.amazon.com/images/P/0789466953.01.THUMBZZZ.jpg</td>\n",
              "    </tr>\n",
              "  </tbody>\n",
              "</table>\n",
              "</div>"
            ],
            "text/plain": [
              "              ISBN  \\\n",
              "209538  078946697X   \n",
              "221678  0789466953   \n",
              "\n",
              "                                                                                                          bookTitle  \\\n",
              "209538  DK Readers: Creating the X-Men, How It All Began (Level 4: Proficient Readers)\\\";Michael Teitelbaum\"          \n",
              "221678  DK Readers: Creating the X-Men, How Comic Books Come to Life (Level 4: Proficient Readers)\\\";James Buckley\"   \n",
              "\n",
              "       bookAuthor  yearOfPublication  \\\n",
              "209538  2000       DK Publishing Inc   \n",
              "221678  2000       DK Publishing Inc   \n",
              "\n",
              "                                                           publisher  \n",
              "209538  http://images.amazon.com/images/P/078946697X.01.THUMBZZZ.jpg  \n",
              "221678  http://images.amazon.com/images/P/0789466953.01.THUMBZZZ.jpg  "
            ]
          },
          "metadata": {
            "tags": []
          },
          "execution_count": 21
        }
      ]
    },
    {
      "metadata": {
        "id": "SUL52CLVNp4n",
        "colab_type": "code",
        "colab": {}
      },
      "cell_type": "code",
      "source": [
        "books.loc[books.ISBN == '078946697X','yearOfPublication'] = 2000\n",
        "books.loc[books.ISBN == '078946697X','bookAuthor'] = \"Michael Teitelbaum\"\n",
        "books.loc[books.ISBN == '078946697X','publisher'] = \"DK Publishing Inc\"\n",
        "\n"
      ],
      "execution_count": 0,
      "outputs": []
    },
    {
      "metadata": {
        "id": "eCullCcBPCWq",
        "colab_type": "code",
        "colab": {}
      },
      "cell_type": "code",
      "source": [
        "books.loc[books.ISBN == '0789466953', 'yearOfPublication'] = 2000\n",
        "books.loc[books.ISBN == '0789466953', 'bookAuthor'] = \"James Buckley\"\n",
        "books.loc[books.ISBN == '0789466953', 'publisher'] = \"DK Publishing Inc\""
      ],
      "execution_count": 0,
      "outputs": []
    },
    {
      "metadata": {
        "id": "IK936XN1MxcP",
        "colab_type": "code",
        "outputId": "002ed699-af54-4fbc-92a0-5932b2733de9",
        "colab": {
          "base_uri": "https://localhost:8080/",
          "height": 98
        }
      },
      "cell_type": "code",
      "source": [
        "books.loc[books.yearOfPublication == 'Gallimard']"
      ],
      "execution_count": 24,
      "outputs": [
        {
          "output_type": "execute_result",
          "data": {
            "text/html": [
              "<div>\n",
              "<style scoped>\n",
              "    .dataframe tbody tr th:only-of-type {\n",
              "        vertical-align: middle;\n",
              "    }\n",
              "\n",
              "    .dataframe tbody tr th {\n",
              "        vertical-align: top;\n",
              "    }\n",
              "\n",
              "    .dataframe thead th {\n",
              "        text-align: right;\n",
              "    }\n",
              "</style>\n",
              "<table border=\"1\" class=\"dataframe\">\n",
              "  <thead>\n",
              "    <tr style=\"text-align: right;\">\n",
              "      <th></th>\n",
              "      <th>ISBN</th>\n",
              "      <th>bookTitle</th>\n",
              "      <th>bookAuthor</th>\n",
              "      <th>yearOfPublication</th>\n",
              "      <th>publisher</th>\n",
              "    </tr>\n",
              "  </thead>\n",
              "  <tbody>\n",
              "    <tr>\n",
              "      <th>220731</th>\n",
              "      <td>2070426769</td>\n",
              "      <td>Peuple du ciel, suivi de 'Les Bergers\\\";Jean-Marie Gustave Le ClÃ?Â©zio\"</td>\n",
              "      <td>2003</td>\n",
              "      <td>Gallimard</td>\n",
              "      <td>http://images.amazon.com/images/P/2070426769.01.THUMBZZZ.jpg</td>\n",
              "    </tr>\n",
              "  </tbody>\n",
              "</table>\n",
              "</div>"
            ],
            "text/plain": [
              "              ISBN  \\\n",
              "220731  2070426769   \n",
              "\n",
              "                                                                       bookTitle  \\\n",
              "220731  Peuple du ciel, suivi de 'Les Bergers\\\";Jean-Marie Gustave Le ClÃ?Â©zio\"   \n",
              "\n",
              "       bookAuthor yearOfPublication  \\\n",
              "220731  2003       Gallimard          \n",
              "\n",
              "                                                           publisher  \n",
              "220731  http://images.amazon.com/images/P/2070426769.01.THUMBZZZ.jpg  "
            ]
          },
          "metadata": {
            "tags": []
          },
          "execution_count": 24
        }
      ]
    },
    {
      "metadata": {
        "id": "le8IrzlxRpZj",
        "colab_type": "code",
        "colab": {}
      },
      "cell_type": "code",
      "source": [
        "books.loc[books.ISBN == '2070426769','yearOfPublication'] = 2003\n",
        "books.loc[books.ISBN == '2070426769','bookAuthor'] = 'Jean-Marie Gustave Le ClÃ?Â©zio'\n",
        "books.loc[books.ISBN == '2070426769','publisher'] = 'Gallimard'"
      ],
      "execution_count": 0,
      "outputs": []
    },
    {
      "metadata": {
        "id": "mt80HYp5TY0R",
        "colab_type": "code",
        "colab": {}
      },
      "cell_type": "code",
      "source": [
        "books.yearOfPublication = pd.to_numeric(books.yearOfPublication)"
      ],
      "execution_count": 0,
      "outputs": []
    },
    {
      "metadata": {
        "id": "2b7WY7PdsWE7",
        "colab_type": "code",
        "outputId": "9395fde2-c627-4fbb-c8ae-4c8fb6491458",
        "colab": {
          "base_uri": "https://localhost:8080/",
          "height": 2206
        }
      },
      "cell_type": "code",
      "source": [
        "sorted(books['yearOfPublication'].unique())"
      ],
      "execution_count": 27,
      "outputs": [
        {
          "output_type": "execute_result",
          "data": {
            "text/plain": [
              "[0,\n",
              " 1376,\n",
              " 1378,\n",
              " 1806,\n",
              " 1897,\n",
              " 1900,\n",
              " 1901,\n",
              " 1902,\n",
              " 1904,\n",
              " 1906,\n",
              " 1908,\n",
              " 1909,\n",
              " 1910,\n",
              " 1911,\n",
              " 1914,\n",
              " 1917,\n",
              " 1919,\n",
              " 1920,\n",
              " 1921,\n",
              " 1922,\n",
              " 1923,\n",
              " 1924,\n",
              " 1925,\n",
              " 1926,\n",
              " 1927,\n",
              " 1928,\n",
              " 1929,\n",
              " 1930,\n",
              " 1931,\n",
              " 1932,\n",
              " 1933,\n",
              " 1934,\n",
              " 1935,\n",
              " 1936,\n",
              " 1937,\n",
              " 1938,\n",
              " 1939,\n",
              " 1940,\n",
              " 1941,\n",
              " 1942,\n",
              " 1943,\n",
              " 1944,\n",
              " 1945,\n",
              " 1946,\n",
              " 1947,\n",
              " 1948,\n",
              " 1949,\n",
              " 1950,\n",
              " 1951,\n",
              " 1952,\n",
              " 1953,\n",
              " 1954,\n",
              " 1955,\n",
              " 1956,\n",
              " 1957,\n",
              " 1958,\n",
              " 1959,\n",
              " 1960,\n",
              " 1961,\n",
              " 1962,\n",
              " 1963,\n",
              " 1964,\n",
              " 1965,\n",
              " 1966,\n",
              " 1967,\n",
              " 1968,\n",
              " 1969,\n",
              " 1970,\n",
              " 1971,\n",
              " 1972,\n",
              " 1973,\n",
              " 1974,\n",
              " 1975,\n",
              " 1976,\n",
              " 1977,\n",
              " 1978,\n",
              " 1979,\n",
              " 1980,\n",
              " 1981,\n",
              " 1982,\n",
              " 1983,\n",
              " 1984,\n",
              " 1985,\n",
              " 1986,\n",
              " 1987,\n",
              " 1988,\n",
              " 1989,\n",
              " 1990,\n",
              " 1991,\n",
              " 1992,\n",
              " 1993,\n",
              " 1994,\n",
              " 1995,\n",
              " 1996,\n",
              " 1997,\n",
              " 1998,\n",
              " 1999,\n",
              " 2000,\n",
              " 2001,\n",
              " 2002,\n",
              " 2003,\n",
              " 2004,\n",
              " 2005,\n",
              " 2006,\n",
              " 2008,\n",
              " 2010,\n",
              " 2011,\n",
              " 2012,\n",
              " 2020,\n",
              " 2021,\n",
              " 2024,\n",
              " 2026,\n",
              " 2030,\n",
              " 2037,\n",
              " 2038,\n",
              " 2050]"
            ]
          },
          "metadata": {
            "tags": []
          },
          "execution_count": 27
        }
      ]
    },
    {
      "metadata": {
        "id": "ZuWc8wpQVKqg",
        "colab_type": "code",
        "outputId": "351ead49-50a5-46fb-b102-3d7aa9d3b958",
        "colab": {
          "base_uri": "https://localhost:8080/",
          "height": 2027
        }
      },
      "cell_type": "code",
      "source": [
        "books.loc[books.yearOfPublication == 0,:]"
      ],
      "execution_count": 28,
      "outputs": [
        {
          "output_type": "execute_result",
          "data": {
            "text/html": [
              "<div>\n",
              "<style scoped>\n",
              "    .dataframe tbody tr th:only-of-type {\n",
              "        vertical-align: middle;\n",
              "    }\n",
              "\n",
              "    .dataframe tbody tr th {\n",
              "        vertical-align: top;\n",
              "    }\n",
              "\n",
              "    .dataframe thead th {\n",
              "        text-align: right;\n",
              "    }\n",
              "</style>\n",
              "<table border=\"1\" class=\"dataframe\">\n",
              "  <thead>\n",
              "    <tr style=\"text-align: right;\">\n",
              "      <th></th>\n",
              "      <th>ISBN</th>\n",
              "      <th>bookTitle</th>\n",
              "      <th>bookAuthor</th>\n",
              "      <th>yearOfPublication</th>\n",
              "      <th>publisher</th>\n",
              "    </tr>\n",
              "  </thead>\n",
              "  <tbody>\n",
              "    <tr>\n",
              "      <th>176</th>\n",
              "      <td>3150000335</td>\n",
              "      <td>Kabale Und Liebe</td>\n",
              "      <td>Schiller</td>\n",
              "      <td>0</td>\n",
              "      <td>Philipp Reclam, Jun Verlag GmbH</td>\n",
              "    </tr>\n",
              "    <tr>\n",
              "      <th>188</th>\n",
              "      <td>342311360X</td>\n",
              "      <td>Die Liebe in Den Zelten</td>\n",
              "      <td>Gabriel Garcia Marquez</td>\n",
              "      <td>0</td>\n",
              "      <td>Deutscher Taschenbuch Verlag (DTV)</td>\n",
              "    </tr>\n",
              "    <tr>\n",
              "      <th>288</th>\n",
              "      <td>0571197639</td>\n",
              "      <td>Poisonwood Bible Edition Uk</td>\n",
              "      <td>Barbara Kingsolver</td>\n",
              "      <td>0</td>\n",
              "      <td>Faber Faber Inc</td>\n",
              "    </tr>\n",
              "    <tr>\n",
              "      <th>351</th>\n",
              "      <td>3596214629</td>\n",
              "      <td>Herr Der Fliegen (Fiction, Poetry and Drama)</td>\n",
              "      <td>Golding</td>\n",
              "      <td>0</td>\n",
              "      <td>Fischer Taschenbuch Verlag GmbH</td>\n",
              "    </tr>\n",
              "    <tr>\n",
              "      <th>542</th>\n",
              "      <td>8845229041</td>\n",
              "      <td>Biblioteca Universale Rizzoli: Sulla Sponda Del Fiume Piedra</td>\n",
              "      <td>P Coelho</td>\n",
              "      <td>0</td>\n",
              "      <td>Fabbri - RCS Libri</td>\n",
              "    </tr>\n",
              "    <tr>\n",
              "      <th>641</th>\n",
              "      <td>0345251733</td>\n",
              "      <td>Rainbow the Stormy Life of Judy Garland</td>\n",
              "      <td>Christopher Finch</td>\n",
              "      <td>0</td>\n",
              "      <td>Ballantine Books</td>\n",
              "    </tr>\n",
              "    <tr>\n",
              "      <th>646</th>\n",
              "      <td>0590021117</td>\n",
              "      <td>Little House On the Prairie</td>\n",
              "      <td>Laura Ingall Wilder</td>\n",
              "      <td>0</td>\n",
              "      <td>Scholastic Inc</td>\n",
              "    </tr>\n",
              "    <tr>\n",
              "      <th>728</th>\n",
              "      <td>2070362388</td>\n",
              "      <td>Ravage</td>\n",
              "      <td>Rene Barjavel</td>\n",
              "      <td>0</td>\n",
              "      <td>Gallimard French</td>\n",
              "    </tr>\n",
              "    <tr>\n",
              "      <th>732</th>\n",
              "      <td>2266033689</td>\n",
              "      <td>Le Diable Au Corps</td>\n",
              "      <td>Raymond Radiguet</td>\n",
              "      <td>0</td>\n",
              "      <td>Presses Pocket French</td>\n",
              "    </tr>\n",
              "    <tr>\n",
              "      <th>735</th>\n",
              "      <td>2070334368</td>\n",
              "      <td>La Guerre Des Boutons</td>\n",
              "      <td>Pergaud</td>\n",
              "      <td>0</td>\n",
              "      <td>Livre de Poche</td>\n",
              "    </tr>\n",
              "    <tr>\n",
              "      <th>797</th>\n",
              "      <td>0718144538</td>\n",
              "      <td>Shattered Uk</td>\n",
              "      <td>Dick Francis</td>\n",
              "      <td>0</td>\n",
              "      <td>Michael Joseph Ltd</td>\n",
              "    </tr>\n",
              "    <tr>\n",
              "      <th>810</th>\n",
              "      <td>0349101779</td>\n",
              "      <td>The Wasp Factory</td>\n",
              "      <td>Iain Banks</td>\n",
              "      <td>0</td>\n",
              "      <td>Abacus</td>\n",
              "    </tr>\n",
              "    <tr>\n",
              "      <th>820</th>\n",
              "      <td>1860198597</td>\n",
              "      <td>How to Draw Celtic Knotwork: A Practical Handbook</td>\n",
              "      <td>Andy Sloss</td>\n",
              "      <td>0</td>\n",
              "      <td>Brockhampton Press</td>\n",
              "    </tr>\n",
              "    <tr>\n",
              "      <th>924</th>\n",
              "      <td>0753804700</td>\n",
              "      <td>Reader</td>\n",
              "      <td>Bernhard Schlink</td>\n",
              "      <td>0</td>\n",
              "      <td>Phoenix Books</td>\n",
              "    </tr>\n",
              "    <tr>\n",
              "      <th>1058</th>\n",
              "      <td>3473540420</td>\n",
              "      <td>Das Kurze Leben Der Sophie Scholl (Fiction, Poetry and Drama)</td>\n",
              "      <td>Vinke</td>\n",
              "      <td>0</td>\n",
              "      <td>Ravensburger Buchverlag Otto Maier GmbH</td>\n",
              "    </tr>\n",
              "    <tr>\n",
              "      <th>1095</th>\n",
              "      <td>1566193966</td>\n",
              "      <td>History of Croatia</td>\n",
              "      <td>Stephen Gazi</td>\n",
              "      <td>0</td>\n",
              "      <td>Barnes Noble Books</td>\n",
              "    </tr>\n",
              "    <tr>\n",
              "      <th>1165</th>\n",
              "      <td>3423009152</td>\n",
              "      <td>Der Geteilte Himmel</td>\n",
              "      <td>Christa Wolf</td>\n",
              "      <td>0</td>\n",
              "      <td>Deutscher Taschenbuch Verlag</td>\n",
              "    </tr>\n",
              "    <tr>\n",
              "      <th>1227</th>\n",
              "      <td>0140620338</td>\n",
              "      <td>Picture of Dorian Gray</td>\n",
              "      <td>Oscar Wilde</td>\n",
              "      <td>0</td>\n",
              "      <td>Penguin Putnam~mass</td>\n",
              "    </tr>\n",
              "    <tr>\n",
              "      <th>1253</th>\n",
              "      <td>0571200389</td>\n",
              "      <td>Golden Gate</td>\n",
              "      <td>Vikram Seth</td>\n",
              "      <td>0</td>\n",
              "      <td>Faber Faber Inc</td>\n",
              "    </tr>\n",
              "    <tr>\n",
              "      <th>1261</th>\n",
              "      <td>000649840X</td>\n",
              "      <td>Angelas Ashes</td>\n",
              "      <td>Frank Mccourt</td>\n",
              "      <td>0</td>\n",
              "      <td>Harpercollins Uk</td>\n",
              "    </tr>\n",
              "    <tr>\n",
              "      <th>1263</th>\n",
              "      <td>0099771519</td>\n",
              "      <td>Memoirs of a Geisha Uk</td>\n",
              "      <td>Arthur Golden</td>\n",
              "      <td>0</td>\n",
              "      <td>Trafalgar Square</td>\n",
              "    </tr>\n",
              "    <tr>\n",
              "      <th>1381</th>\n",
              "      <td>0552996009</td>\n",
              "      <td>Notes From a Small Planet</td>\n",
              "      <td>Bill Bryson</td>\n",
              "      <td>0</td>\n",
              "      <td>Bantam Doubleday Dell</td>\n",
              "    </tr>\n",
              "    <tr>\n",
              "      <th>1390</th>\n",
              "      <td>0855030224</td>\n",
              "      <td>An ABC for You and Me</td>\n",
              "      <td>Margaret Tempest</td>\n",
              "      <td>0</td>\n",
              "      <td>The Medici Society Ltd</td>\n",
              "    </tr>\n",
              "    <tr>\n",
              "      <th>1448</th>\n",
              "      <td>1566197155</td>\n",
              "      <td>Little Princess</td>\n",
              "      <td>Frances Hodgson Burnett</td>\n",
              "      <td>0</td>\n",
              "      <td>Barnes Noble Books</td>\n",
              "    </tr>\n",
              "    <tr>\n",
              "      <th>1623</th>\n",
              "      <td>2070363104</td>\n",
              "      <td>Histoires Extraordinaires</td>\n",
              "      <td>Edgar Allan Poe</td>\n",
              "      <td>0</td>\n",
              "      <td>Gallimard French</td>\n",
              "    </tr>\n",
              "    <tr>\n",
              "      <th>1631</th>\n",
              "      <td>2266000489</td>\n",
              "      <td>La Nuit Des Temps</td>\n",
              "      <td>Rene Barjavel</td>\n",
              "      <td>0</td>\n",
              "      <td>Presses De La Cite French</td>\n",
              "    </tr>\n",
              "    <tr>\n",
              "      <th>1637</th>\n",
              "      <td>0307177092</td>\n",
              "      <td>Peters Welcom Tell a Tale Book</td>\n",
              "      <td>Maida Silverman</td>\n",
              "      <td>0</td>\n",
              "      <td>Golden Books</td>\n",
              "    </tr>\n",
              "    <tr>\n",
              "      <th>1734</th>\n",
              "      <td>3518368540</td>\n",
              "      <td>Homo Faber</td>\n",
              "      <td>Max Frisch</td>\n",
              "      <td>0</td>\n",
              "      <td>Distribooks Int'l+inc</td>\n",
              "    </tr>\n",
              "    <tr>\n",
              "      <th>1743</th>\n",
              "      <td>0450542912</td>\n",
              "      <td>Rain Uk</td>\n",
              "      <td>Stephen Gallagher</td>\n",
              "      <td>0</td>\n",
              "      <td>Trafalgar Square</td>\n",
              "    </tr>\n",
              "    <tr>\n",
              "      <th>1814</th>\n",
              "      <td>0684821192</td>\n",
              "      <td>Ramses the Son of Light</td>\n",
              "      <td>Christian Jacq</td>\n",
              "      <td>0</td>\n",
              "      <td>Simon Schuster Trade</td>\n",
              "    </tr>\n",
              "    <tr>\n",
              "      <th>...</th>\n",
              "      <td>...</td>\n",
              "      <td>...</td>\n",
              "      <td>...</td>\n",
              "      <td>...</td>\n",
              "      <td>...</td>\n",
              "    </tr>\n",
              "    <tr>\n",
              "      <th>268819</th>\n",
              "      <td>2038700648</td>\n",
              "      <td>Les Miserables 1*</td>\n",
              "      <td>Hugo</td>\n",
              "      <td>0</td>\n",
              "      <td>Editions Larousse</td>\n",
              "    </tr>\n",
              "    <tr>\n",
              "      <th>268820</th>\n",
              "      <td>2038700656</td>\n",
              "      <td>Les Miserables 2*</td>\n",
              "      <td>Hugo</td>\n",
              "      <td>0</td>\n",
              "      <td>Editions Larousse</td>\n",
              "    </tr>\n",
              "    <tr>\n",
              "      <th>268822</th>\n",
              "      <td>2070360172</td>\n",
              "      <td>Le Rouge Et Le Noir</td>\n",
              "      <td>Stendhal</td>\n",
              "      <td>0</td>\n",
              "      <td>Folio</td>\n",
              "    </tr>\n",
              "    <tr>\n",
              "      <th>268824</th>\n",
              "      <td>2253034304</td>\n",
              "      <td>Les Allumettes Suedoises</td>\n",
              "      <td>Robert Sabatier</td>\n",
              "      <td>0</td>\n",
              "      <td>Livre De Poche French</td>\n",
              "    </tr>\n",
              "    <tr>\n",
              "      <th>269023</th>\n",
              "      <td>1579900445</td>\n",
              "      <td>Weekend Crafter Painting Glass</td>\n",
              "      <td>Moira Neal</td>\n",
              "      <td>0</td>\n",
              "      <td>Lark Books(sterling Publ Co</td>\n",
              "    </tr>\n",
              "    <tr>\n",
              "      <th>269031</th>\n",
              "      <td>1858370116</td>\n",
              "      <td>Soups and Starters the Country Kitchen</td>\n",
              "      <td>Anne Chapman</td>\n",
              "      <td>0</td>\n",
              "      <td>Aidc</td>\n",
              "    </tr>\n",
              "    <tr>\n",
              "      <th>269386</th>\n",
              "      <td>0965455130</td>\n",
              "      <td>Me Five Years From Now the Life Planning</td>\n",
              "      <td>Sheree Bykofsky</td>\n",
              "      <td>0</td>\n",
              "      <td>Hyperion</td>\n",
              "    </tr>\n",
              "    <tr>\n",
              "      <th>269663</th>\n",
              "      <td>0345277074</td>\n",
              "      <td>Bridge at Remagen Prem</td>\n",
              "      <td>Ken Hechler</td>\n",
              "      <td>0</td>\n",
              "      <td>Ballantine Books</td>\n",
              "    </tr>\n",
              "    <tr>\n",
              "      <th>269834</th>\n",
              "      <td>2070334384</td>\n",
              "      <td>Le Poney Rouge</td>\n",
              "      <td>Steinbeck</td>\n",
              "      <td>0</td>\n",
              "      <td>Livre de Poche</td>\n",
              "    </tr>\n",
              "    <tr>\n",
              "      <th>269840</th>\n",
              "      <td>2277125180</td>\n",
              "      <td>Maxime Ou La Dechirure</td>\n",
              "      <td>F Groult</td>\n",
              "      <td>0</td>\n",
              "      <td>Editions 84</td>\n",
              "    </tr>\n",
              "    <tr>\n",
              "      <th>269841</th>\n",
              "      <td>2277211745</td>\n",
              "      <td>Ni Tout a Fait La Meme Ni Tout a Fait Une Autre</td>\n",
              "      <td>F Groult</td>\n",
              "      <td>0</td>\n",
              "      <td>Editions 84</td>\n",
              "    </tr>\n",
              "    <tr>\n",
              "      <th>269962</th>\n",
              "      <td>3442075750</td>\n",
              "      <td>Effi Briest</td>\n",
              "      <td>Fontane</td>\n",
              "      <td>0</td>\n",
              "      <td>Wilhelm Goldmann Verlag GmbH</td>\n",
              "    </tr>\n",
              "    <tr>\n",
              "      <th>270247</th>\n",
              "      <td>0760702535</td>\n",
              "      <td>Cthulu Mythos</td>\n",
              "      <td>August Derleth</td>\n",
              "      <td>0</td>\n",
              "      <td>Barnes Noble Books</td>\n",
              "    </tr>\n",
              "    <tr>\n",
              "      <th>270312</th>\n",
              "      <td>1852791578</td>\n",
              "      <td>Your First Kitten (Your First...series)</td>\n",
              "      <td>Marianne Mays</td>\n",
              "      <td>0</td>\n",
              "      <td>TFH Publications</td>\n",
              "    </tr>\n",
              "    <tr>\n",
              "      <th>270320</th>\n",
              "      <td>0713715200</td>\n",
              "      <td>American Filmmakers Today</td>\n",
              "      <td>Dian Smith</td>\n",
              "      <td>0</td>\n",
              "      <td>Sterling*+ Publishing Company</td>\n",
              "    </tr>\n",
              "    <tr>\n",
              "      <th>270358</th>\n",
              "      <td>3126752004</td>\n",
              "      <td>Wirtschaft Im Ohr - Level 1: Ubungsbuch 1</td>\n",
              "      <td>Dondoux-Liberge</td>\n",
              "      <td>0</td>\n",
              "      <td>Ernst Klett Verlag GmbH</td>\n",
              "    </tr>\n",
              "    <tr>\n",
              "      <th>270359</th>\n",
              "      <td>3126752020</td>\n",
              "      <td>Wirtschaft Im Ohr - Level 1: Cassetten 1 (2)</td>\n",
              "      <td>Dondoux-Liberge</td>\n",
              "      <td>0</td>\n",
              "      <td>Ernst Klett Verlag GmbH</td>\n",
              "    </tr>\n",
              "    <tr>\n",
              "      <th>270360</th>\n",
              "      <td>3126752055</td>\n",
              "      <td>Wirtschaft Im Ohr - Level 2: Cassette 2</td>\n",
              "      <td>Dondoux-Liberge</td>\n",
              "      <td>0</td>\n",
              "      <td>Ernst Klett Verlag GmbH</td>\n",
              "    </tr>\n",
              "    <tr>\n",
              "      <th>270374</th>\n",
              "      <td>0553026828</td>\n",
              "      <td>Dissertation</td>\n",
              "      <td>R M Koster</td>\n",
              "      <td>0</td>\n",
              "      <td>Bantam Doubleday Dell</td>\n",
              "    </tr>\n",
              "    <tr>\n",
              "      <th>270397</th>\n",
              "      <td>0517209802</td>\n",
              "      <td>Christmas Memories With Recipes</td>\n",
              "      <td>Compilation</td>\n",
              "      <td>0</td>\n",
              "      <td>Random House</td>\n",
              "    </tr>\n",
              "    <tr>\n",
              "      <th>270484</th>\n",
              "      <td>0571204163</td>\n",
              "      <td>Headlong</td>\n",
              "      <td>Michael Frayn</td>\n",
              "      <td>0</td>\n",
              "      <td>Faber Faber Inc</td>\n",
              "    </tr>\n",
              "    <tr>\n",
              "      <th>270524</th>\n",
              "      <td>0747512302</td>\n",
              "      <td>Clockers</td>\n",
              "      <td>Richard Price</td>\n",
              "      <td>0</td>\n",
              "      <td>Bloomsbury Pub Ltd, London</td>\n",
              "    </tr>\n",
              "    <tr>\n",
              "      <th>270637</th>\n",
              "      <td>0710510683</td>\n",
              "      <td>Stories to Treasure</td>\n",
              "      <td>Haddock Peter</td>\n",
              "      <td>0</td>\n",
              "      <td>Peter Haddock</td>\n",
              "    </tr>\n",
              "    <tr>\n",
              "      <th>270679</th>\n",
              "      <td>0752841092</td>\n",
              "      <td>The Ex-files</td>\n",
              "      <td>Jane Moore</td>\n",
              "      <td>0</td>\n",
              "      <td>Orion mass market paperback</td>\n",
              "    </tr>\n",
              "    <tr>\n",
              "      <th>270777</th>\n",
              "      <td>207036318X</td>\n",
              "      <td>Trou</td>\n",
              "      <td>Jose Giovanni</td>\n",
              "      <td>0</td>\n",
              "      <td>Gallimard French</td>\n",
              "    </tr>\n",
              "    <tr>\n",
              "      <th>270794</th>\n",
              "      <td>014029953X</td>\n",
              "      <td>Foe (Essential.penguin S.)</td>\n",
              "      <td>J.M. Coetzee</td>\n",
              "      <td>0</td>\n",
              "      <td>Penguin Books Ltd</td>\n",
              "    </tr>\n",
              "    <tr>\n",
              "      <th>270913</th>\n",
              "      <td>0340571187</td>\n",
              "      <td>Postmens House</td>\n",
              "      <td>Maggie Hemingway</td>\n",
              "      <td>0</td>\n",
              "      <td>Trafalgar Square</td>\n",
              "    </tr>\n",
              "    <tr>\n",
              "      <th>271094</th>\n",
              "      <td>8427201079</td>\n",
              "      <td>El Misterio De Sittaford</td>\n",
              "      <td>Agatha Christie</td>\n",
              "      <td>0</td>\n",
              "      <td>Editorial Molino</td>\n",
              "    </tr>\n",
              "    <tr>\n",
              "      <th>271182</th>\n",
              "      <td>0887781721</td>\n",
              "      <td>Tom Penny</td>\n",
              "      <td>Tony German</td>\n",
              "      <td>0</td>\n",
              "      <td>P. Martin Associates</td>\n",
              "    </tr>\n",
              "    <tr>\n",
              "      <th>271196</th>\n",
              "      <td>3150013763</td>\n",
              "      <td>Der Hofmeister</td>\n",
              "      <td>Jakob Lenz</td>\n",
              "      <td>0</td>\n",
              "      <td>Philipp Reclam, Jun Verlag GmbH</td>\n",
              "    </tr>\n",
              "  </tbody>\n",
              "</table>\n",
              "<p>4618 rows × 5 columns</p>\n",
              "</div>"
            ],
            "text/plain": [
              "              ISBN  \\\n",
              "176     3150000335   \n",
              "188     342311360X   \n",
              "288     0571197639   \n",
              "351     3596214629   \n",
              "542     8845229041   \n",
              "641     0345251733   \n",
              "646     0590021117   \n",
              "728     2070362388   \n",
              "732     2266033689   \n",
              "735     2070334368   \n",
              "797     0718144538   \n",
              "810     0349101779   \n",
              "820     1860198597   \n",
              "924     0753804700   \n",
              "1058    3473540420   \n",
              "1095    1566193966   \n",
              "1165    3423009152   \n",
              "1227    0140620338   \n",
              "1253    0571200389   \n",
              "1261    000649840X   \n",
              "1263    0099771519   \n",
              "1381    0552996009   \n",
              "1390    0855030224   \n",
              "1448    1566197155   \n",
              "1623    2070363104   \n",
              "1631    2266000489   \n",
              "1637    0307177092   \n",
              "1734    3518368540   \n",
              "1743    0450542912   \n",
              "1814    0684821192   \n",
              "...            ...   \n",
              "268819  2038700648   \n",
              "268820  2038700656   \n",
              "268822  2070360172   \n",
              "268824  2253034304   \n",
              "269023  1579900445   \n",
              "269031  1858370116   \n",
              "269386  0965455130   \n",
              "269663  0345277074   \n",
              "269834  2070334384   \n",
              "269840  2277125180   \n",
              "269841  2277211745   \n",
              "269962  3442075750   \n",
              "270247  0760702535   \n",
              "270312  1852791578   \n",
              "270320  0713715200   \n",
              "270358  3126752004   \n",
              "270359  3126752020   \n",
              "270360  3126752055   \n",
              "270374  0553026828   \n",
              "270397  0517209802   \n",
              "270484  0571204163   \n",
              "270524  0747512302   \n",
              "270637  0710510683   \n",
              "270679  0752841092   \n",
              "270777  207036318X   \n",
              "270794  014029953X   \n",
              "270913  0340571187   \n",
              "271094  8427201079   \n",
              "271182  0887781721   \n",
              "271196  3150013763   \n",
              "\n",
              "                                                            bookTitle  \\\n",
              "176     Kabale Und Liebe                                                \n",
              "188     Die Liebe in Den Zelten                                         \n",
              "288     Poisonwood Bible Edition Uk                                     \n",
              "351     Herr Der Fliegen (Fiction, Poetry and Drama)                    \n",
              "542     Biblioteca Universale Rizzoli: Sulla Sponda Del Fiume Piedra    \n",
              "641     Rainbow the Stormy Life of Judy Garland                         \n",
              "646     Little House On the Prairie                                     \n",
              "728     Ravage                                                          \n",
              "732     Le Diable Au Corps                                              \n",
              "735     La Guerre Des Boutons                                           \n",
              "797     Shattered Uk                                                    \n",
              "810     The Wasp Factory                                                \n",
              "820     How to Draw Celtic Knotwork: A Practical Handbook               \n",
              "924     Reader                                                          \n",
              "1058    Das Kurze Leben Der Sophie Scholl (Fiction, Poetry and Drama)   \n",
              "1095    History of Croatia                                              \n",
              "1165    Der Geteilte Himmel                                             \n",
              "1227    Picture of Dorian Gray                                          \n",
              "1253    Golden Gate                                                     \n",
              "1261    Angelas Ashes                                                   \n",
              "1263    Memoirs of a Geisha Uk                                          \n",
              "1381    Notes From a Small Planet                                       \n",
              "1390    An ABC for You and Me                                           \n",
              "1448    Little Princess                                                 \n",
              "1623    Histoires Extraordinaires                                       \n",
              "1631    La Nuit Des Temps                                               \n",
              "1637    Peters Welcom Tell a Tale Book                                  \n",
              "1734    Homo Faber                                                      \n",
              "1743    Rain Uk                                                         \n",
              "1814    Ramses the Son of Light                                         \n",
              "...                         ...                                         \n",
              "268819  Les Miserables 1*                                               \n",
              "268820  Les Miserables 2*                                               \n",
              "268822  Le Rouge Et Le Noir                                             \n",
              "268824  Les Allumettes Suedoises                                        \n",
              "269023  Weekend Crafter Painting Glass                                  \n",
              "269031  Soups and Starters the Country Kitchen                          \n",
              "269386  Me Five Years From Now the Life Planning                        \n",
              "269663  Bridge at Remagen Prem                                          \n",
              "269834  Le Poney Rouge                                                  \n",
              "269840  Maxime Ou La Dechirure                                          \n",
              "269841  Ni Tout a Fait La Meme Ni Tout a Fait Une Autre                 \n",
              "269962  Effi Briest                                                     \n",
              "270247  Cthulu Mythos                                                   \n",
              "270312  Your First Kitten (Your First...series)                         \n",
              "270320  American Filmmakers Today                                       \n",
              "270358  Wirtschaft Im Ohr - Level 1: Ubungsbuch 1                       \n",
              "270359  Wirtschaft Im Ohr - Level 1: Cassetten 1 (2)                    \n",
              "270360  Wirtschaft Im Ohr - Level 2: Cassette 2                         \n",
              "270374  Dissertation                                                    \n",
              "270397  Christmas Memories With Recipes                                 \n",
              "270484  Headlong                                                        \n",
              "270524  Clockers                                                        \n",
              "270637  Stories to Treasure                                             \n",
              "270679  The Ex-files                                                    \n",
              "270777  Trou                                                            \n",
              "270794  Foe (Essential.penguin S.)                                      \n",
              "270913  Postmens House                                                  \n",
              "271094  El Misterio De Sittaford                                        \n",
              "271182  Tom Penny                                                       \n",
              "271196  Der Hofmeister                                                  \n",
              "\n",
              "                     bookAuthor  yearOfPublication  \\\n",
              "176     Schiller                 0                   \n",
              "188     Gabriel Garcia Marquez   0                   \n",
              "288     Barbara Kingsolver       0                   \n",
              "351     Golding                  0                   \n",
              "542     P Coelho                 0                   \n",
              "641     Christopher Finch        0                   \n",
              "646     Laura Ingall Wilder      0                   \n",
              "728     Rene Barjavel            0                   \n",
              "732     Raymond Radiguet         0                   \n",
              "735     Pergaud                  0                   \n",
              "797     Dick Francis             0                   \n",
              "810     Iain Banks               0                   \n",
              "820     Andy Sloss               0                   \n",
              "924     Bernhard Schlink         0                   \n",
              "1058    Vinke                    0                   \n",
              "1095    Stephen Gazi             0                   \n",
              "1165    Christa Wolf             0                   \n",
              "1227    Oscar Wilde              0                   \n",
              "1253    Vikram Seth              0                   \n",
              "1261    Frank Mccourt            0                   \n",
              "1263    Arthur Golden            0                   \n",
              "1381    Bill Bryson              0                   \n",
              "1390    Margaret Tempest         0                   \n",
              "1448    Frances Hodgson Burnett  0                   \n",
              "1623    Edgar Allan Poe          0                   \n",
              "1631    Rene Barjavel            0                   \n",
              "1637    Maida Silverman          0                   \n",
              "1734    Max Frisch               0                   \n",
              "1743    Stephen Gallagher        0                   \n",
              "1814    Christian Jacq           0                   \n",
              "...                ...          ..                   \n",
              "268819  Hugo                     0                   \n",
              "268820  Hugo                     0                   \n",
              "268822  Stendhal                 0                   \n",
              "268824  Robert Sabatier          0                   \n",
              "269023  Moira Neal               0                   \n",
              "269031  Anne Chapman             0                   \n",
              "269386  Sheree Bykofsky          0                   \n",
              "269663  Ken Hechler              0                   \n",
              "269834  Steinbeck                0                   \n",
              "269840  F Groult                 0                   \n",
              "269841  F Groult                 0                   \n",
              "269962  Fontane                  0                   \n",
              "270247  August Derleth           0                   \n",
              "270312  Marianne Mays            0                   \n",
              "270320  Dian Smith               0                   \n",
              "270358  Dondoux-Liberge          0                   \n",
              "270359  Dondoux-Liberge          0                   \n",
              "270360  Dondoux-Liberge          0                   \n",
              "270374  R M Koster               0                   \n",
              "270397  Compilation              0                   \n",
              "270484  Michael Frayn            0                   \n",
              "270524  Richard Price            0                   \n",
              "270637  Haddock Peter            0                   \n",
              "270679  Jane Moore               0                   \n",
              "270777  Jose Giovanni            0                   \n",
              "270794  J.M. Coetzee             0                   \n",
              "270913  Maggie Hemingway         0                   \n",
              "271094  Agatha Christie          0                   \n",
              "271182  Tony German              0                   \n",
              "271196  Jakob Lenz               0                   \n",
              "\n",
              "                                      publisher  \n",
              "176     Philipp Reclam, Jun Verlag GmbH          \n",
              "188     Deutscher Taschenbuch Verlag (DTV)       \n",
              "288     Faber Faber Inc                          \n",
              "351     Fischer Taschenbuch Verlag GmbH          \n",
              "542     Fabbri - RCS Libri                       \n",
              "641     Ballantine Books                         \n",
              "646     Scholastic Inc                           \n",
              "728     Gallimard French                         \n",
              "732     Presses Pocket French                    \n",
              "735     Livre de Poche                           \n",
              "797     Michael Joseph Ltd                       \n",
              "810     Abacus                                   \n",
              "820     Brockhampton Press                       \n",
              "924     Phoenix Books                            \n",
              "1058    Ravensburger Buchverlag Otto Maier GmbH  \n",
              "1095    Barnes Noble Books                       \n",
              "1165    Deutscher Taschenbuch Verlag             \n",
              "1227    Penguin Putnam~mass                      \n",
              "1253    Faber Faber Inc                          \n",
              "1261    Harpercollins Uk                         \n",
              "1263    Trafalgar Square                         \n",
              "1381    Bantam Doubleday Dell                    \n",
              "1390    The Medici Society Ltd                   \n",
              "1448    Barnes Noble Books                       \n",
              "1623    Gallimard French                         \n",
              "1631    Presses De La Cite French                \n",
              "1637    Golden Books                             \n",
              "1734    Distribooks Int'l+inc                    \n",
              "1743    Trafalgar Square                         \n",
              "1814    Simon Schuster Trade                     \n",
              "...                      ...                     \n",
              "268819  Editions Larousse                        \n",
              "268820  Editions Larousse                        \n",
              "268822  Folio                                    \n",
              "268824  Livre De Poche French                    \n",
              "269023  Lark Books(sterling Publ Co              \n",
              "269031  Aidc                                     \n",
              "269386  Hyperion                                 \n",
              "269663  Ballantine Books                         \n",
              "269834  Livre de Poche                           \n",
              "269840  Editions 84                              \n",
              "269841  Editions 84                              \n",
              "269962  Wilhelm Goldmann Verlag GmbH             \n",
              "270247  Barnes Noble Books                       \n",
              "270312  TFH Publications                         \n",
              "270320  Sterling*+ Publishing Company            \n",
              "270358  Ernst Klett Verlag GmbH                  \n",
              "270359  Ernst Klett Verlag GmbH                  \n",
              "270360  Ernst Klett Verlag GmbH                  \n",
              "270374  Bantam Doubleday Dell                    \n",
              "270397  Random House                             \n",
              "270484  Faber Faber Inc                          \n",
              "270524  Bloomsbury Pub Ltd, London               \n",
              "270637  Peter Haddock                            \n",
              "270679  Orion mass market paperback              \n",
              "270777  Gallimard French                         \n",
              "270794  Penguin Books Ltd                        \n",
              "270913  Trafalgar Square                         \n",
              "271094  Editorial Molino                         \n",
              "271182  P. Martin Associates                     \n",
              "271196  Philipp Reclam, Jun Verlag GmbH          \n",
              "\n",
              "[4618 rows x 5 columns]"
            ]
          },
          "metadata": {
            "tags": []
          },
          "execution_count": 28
        }
      ]
    },
    {
      "metadata": {
        "id": "R1SfPMpiVmiB",
        "colab_type": "text"
      },
      "cell_type": "markdown",
      "source": [
        "O.k. so there are a lot of books with yearOfPublication == 0. "
      ]
    },
    {
      "metadata": {
        "id": "kR-lX6o4U2dy",
        "colab_type": "code",
        "outputId": "764b05e1-3087-4090-f080-998033f1c29b",
        "colab": {
          "base_uri": "https://localhost:8080/",
          "height": 81
        }
      },
      "cell_type": "code",
      "source": [
        "books.loc[books.yearOfPublication == 1376,:]\n"
      ],
      "execution_count": 29,
      "outputs": [
        {
          "output_type": "execute_result",
          "data": {
            "text/html": [
              "<div>\n",
              "<style scoped>\n",
              "    .dataframe tbody tr th:only-of-type {\n",
              "        vertical-align: middle;\n",
              "    }\n",
              "\n",
              "    .dataframe tbody tr th {\n",
              "        vertical-align: top;\n",
              "    }\n",
              "\n",
              "    .dataframe thead th {\n",
              "        text-align: right;\n",
              "    }\n",
              "</style>\n",
              "<table border=\"1\" class=\"dataframe\">\n",
              "  <thead>\n",
              "    <tr style=\"text-align: right;\">\n",
              "      <th></th>\n",
              "      <th>ISBN</th>\n",
              "      <th>bookTitle</th>\n",
              "      <th>bookAuthor</th>\n",
              "      <th>yearOfPublication</th>\n",
              "      <th>publisher</th>\n",
              "    </tr>\n",
              "  </thead>\n",
              "  <tbody>\n",
              "    <tr>\n",
              "      <th>253750</th>\n",
              "      <td>964442011X</td>\n",
              "      <td>Tasht-i khun</td>\n",
              "      <td>IsmaÂ°il Fasih</td>\n",
              "      <td>1376</td>\n",
              "      <td>Nashr-i Alburz</td>\n",
              "    </tr>\n",
              "  </tbody>\n",
              "</table>\n",
              "</div>"
            ],
            "text/plain": [
              "              ISBN     bookTitle      bookAuthor  yearOfPublication  \\\n",
              "253750  964442011X  Tasht-i khun  IsmaÂ°il Fasih  1376                \n",
              "\n",
              "             publisher  \n",
              "253750  Nashr-i Alburz  "
            ]
          },
          "metadata": {
            "tags": []
          },
          "execution_count": 29
        }
      ]
    },
    {
      "metadata": {
        "id": "pzpYUOptrUbN",
        "colab_type": "text"
      },
      "cell_type": "markdown",
      "source": [
        "O.k. So Now that we have the data ready... let's prepare our dataset, combining some parts of the three tables into one that means something, at least to me...?!"
      ]
    },
    {
      "metadata": {
        "id": "xs0dbOLBrlO3",
        "colab_type": "text"
      },
      "cell_type": "markdown",
      "source": [
        "Let's use Pandas merge function to merge the ratings table with parts of the book table... "
      ]
    },
    {
      "metadata": {
        "id": "K8gr6k6Fri79",
        "colab_type": "code",
        "colab": {}
      },
      "cell_type": "code",
      "source": [
        "rating_book = pd.merge(ratings, books, on='ISBN')"
      ],
      "execution_count": 0,
      "outputs": []
    },
    {
      "metadata": {
        "id": "-Dncqo73vgsz",
        "colab_type": "code",
        "outputId": "8aece244-aa3b-4534-d927-5d3bb882b006",
        "colab": {
          "base_uri": "https://localhost:8080/",
          "height": 206
        }
      },
      "cell_type": "code",
      "source": [
        "rating_book.head()"
      ],
      "execution_count": 31,
      "outputs": [
        {
          "output_type": "execute_result",
          "data": {
            "text/html": [
              "<div>\n",
              "<style scoped>\n",
              "    .dataframe tbody tr th:only-of-type {\n",
              "        vertical-align: middle;\n",
              "    }\n",
              "\n",
              "    .dataframe tbody tr th {\n",
              "        vertical-align: top;\n",
              "    }\n",
              "\n",
              "    .dataframe thead th {\n",
              "        text-align: right;\n",
              "    }\n",
              "</style>\n",
              "<table border=\"1\" class=\"dataframe\">\n",
              "  <thead>\n",
              "    <tr style=\"text-align: right;\">\n",
              "      <th></th>\n",
              "      <th>userId</th>\n",
              "      <th>ISBN</th>\n",
              "      <th>bookRating</th>\n",
              "      <th>bookTitle</th>\n",
              "      <th>bookAuthor</th>\n",
              "      <th>yearOfPublication</th>\n",
              "      <th>publisher</th>\n",
              "    </tr>\n",
              "  </thead>\n",
              "  <tbody>\n",
              "    <tr>\n",
              "      <th>0</th>\n",
              "      <td>276725</td>\n",
              "      <td>034545104X</td>\n",
              "      <td>0</td>\n",
              "      <td>Flesh Tones: A Novel</td>\n",
              "      <td>M. J. Rose</td>\n",
              "      <td>2002</td>\n",
              "      <td>Ballantine Books</td>\n",
              "    </tr>\n",
              "    <tr>\n",
              "      <th>1</th>\n",
              "      <td>2313</td>\n",
              "      <td>034545104X</td>\n",
              "      <td>5</td>\n",
              "      <td>Flesh Tones: A Novel</td>\n",
              "      <td>M. J. Rose</td>\n",
              "      <td>2002</td>\n",
              "      <td>Ballantine Books</td>\n",
              "    </tr>\n",
              "    <tr>\n",
              "      <th>2</th>\n",
              "      <td>6543</td>\n",
              "      <td>034545104X</td>\n",
              "      <td>0</td>\n",
              "      <td>Flesh Tones: A Novel</td>\n",
              "      <td>M. J. Rose</td>\n",
              "      <td>2002</td>\n",
              "      <td>Ballantine Books</td>\n",
              "    </tr>\n",
              "    <tr>\n",
              "      <th>3</th>\n",
              "      <td>8680</td>\n",
              "      <td>034545104X</td>\n",
              "      <td>5</td>\n",
              "      <td>Flesh Tones: A Novel</td>\n",
              "      <td>M. J. Rose</td>\n",
              "      <td>2002</td>\n",
              "      <td>Ballantine Books</td>\n",
              "    </tr>\n",
              "    <tr>\n",
              "      <th>4</th>\n",
              "      <td>10314</td>\n",
              "      <td>034545104X</td>\n",
              "      <td>9</td>\n",
              "      <td>Flesh Tones: A Novel</td>\n",
              "      <td>M. J. Rose</td>\n",
              "      <td>2002</td>\n",
              "      <td>Ballantine Books</td>\n",
              "    </tr>\n",
              "  </tbody>\n",
              "</table>\n",
              "</div>"
            ],
            "text/plain": [
              "   userId        ISBN  bookRating             bookTitle  bookAuthor  \\\n",
              "0  276725  034545104X  0           Flesh Tones: A Novel  M. J. Rose   \n",
              "1  2313    034545104X  5           Flesh Tones: A Novel  M. J. Rose   \n",
              "2  6543    034545104X  0           Flesh Tones: A Novel  M. J. Rose   \n",
              "3  8680    034545104X  5           Flesh Tones: A Novel  M. J. Rose   \n",
              "4  10314   034545104X  9           Flesh Tones: A Novel  M. J. Rose   \n",
              "\n",
              "   yearOfPublication         publisher  \n",
              "0  2002               Ballantine Books  \n",
              "1  2002               Ballantine Books  \n",
              "2  2002               Ballantine Books  \n",
              "3  2002               Ballantine Books  \n",
              "4  2002               Ballantine Books  "
            ]
          },
          "metadata": {
            "tags": []
          },
          "execution_count": 31
        }
      ]
    },
    {
      "metadata": {
        "id": "pPfQ61ZewAc7",
        "colab_type": "text"
      },
      "cell_type": "markdown",
      "source": [
        "Keep merging the Tables..."
      ]
    },
    {
      "metadata": {
        "id": "OZ_ygWMOwFQr",
        "colab_type": "code",
        "colab": {}
      },
      "cell_type": "code",
      "source": [
        "all_ratings = pd.merge(rating_book, users, on='userId')"
      ],
      "execution_count": 0,
      "outputs": []
    },
    {
      "metadata": {
        "id": "dC2iop5rxgha",
        "colab_type": "text"
      },
      "cell_type": "markdown",
      "source": [
        "**Check the new Data Set...**"
      ]
    },
    {
      "metadata": {
        "id": "54OJWUiJxk_Y",
        "colab_type": "code",
        "outputId": "5ceb2002-11ac-4aec-e11e-1c62f1dbb31b",
        "colab": {
          "base_uri": "https://localhost:8080/",
          "height": 293
        }
      },
      "cell_type": "code",
      "source": [
        "all_ratings.head()"
      ],
      "execution_count": 33,
      "outputs": [
        {
          "output_type": "execute_result",
          "data": {
            "text/html": [
              "<div>\n",
              "<style scoped>\n",
              "    .dataframe tbody tr th:only-of-type {\n",
              "        vertical-align: middle;\n",
              "    }\n",
              "\n",
              "    .dataframe tbody tr th {\n",
              "        vertical-align: top;\n",
              "    }\n",
              "\n",
              "    .dataframe thead th {\n",
              "        text-align: right;\n",
              "    }\n",
              "</style>\n",
              "<table border=\"1\" class=\"dataframe\">\n",
              "  <thead>\n",
              "    <tr style=\"text-align: right;\">\n",
              "      <th></th>\n",
              "      <th>userId</th>\n",
              "      <th>ISBN</th>\n",
              "      <th>bookRating</th>\n",
              "      <th>bookTitle</th>\n",
              "      <th>bookAuthor</th>\n",
              "      <th>yearOfPublication</th>\n",
              "      <th>publisher</th>\n",
              "      <th>location</th>\n",
              "      <th>age</th>\n",
              "    </tr>\n",
              "  </thead>\n",
              "  <tbody>\n",
              "    <tr>\n",
              "      <th>0</th>\n",
              "      <td>276725</td>\n",
              "      <td>034545104X</td>\n",
              "      <td>0</td>\n",
              "      <td>Flesh Tones: A Novel</td>\n",
              "      <td>M. J. Rose</td>\n",
              "      <td>2002</td>\n",
              "      <td>Ballantine Books</td>\n",
              "      <td>tyler, texas, usa</td>\n",
              "      <td>NaN</td>\n",
              "    </tr>\n",
              "    <tr>\n",
              "      <th>1</th>\n",
              "      <td>2313</td>\n",
              "      <td>034545104X</td>\n",
              "      <td>5</td>\n",
              "      <td>Flesh Tones: A Novel</td>\n",
              "      <td>M. J. Rose</td>\n",
              "      <td>2002</td>\n",
              "      <td>Ballantine Books</td>\n",
              "      <td>cincinnati, ohio, usa</td>\n",
              "      <td>23.0</td>\n",
              "    </tr>\n",
              "    <tr>\n",
              "      <th>2</th>\n",
              "      <td>2313</td>\n",
              "      <td>0812533550</td>\n",
              "      <td>9</td>\n",
              "      <td>Ender's Game (Ender Wiggins Saga (Paperback))</td>\n",
              "      <td>Orson Scott Card</td>\n",
              "      <td>1986</td>\n",
              "      <td>Tor Books</td>\n",
              "      <td>cincinnati, ohio, usa</td>\n",
              "      <td>23.0</td>\n",
              "    </tr>\n",
              "    <tr>\n",
              "      <th>3</th>\n",
              "      <td>2313</td>\n",
              "      <td>0679745580</td>\n",
              "      <td>8</td>\n",
              "      <td>In Cold Blood (Vintage International)</td>\n",
              "      <td>TRUMAN CAPOTE</td>\n",
              "      <td>1994</td>\n",
              "      <td>Vintage</td>\n",
              "      <td>cincinnati, ohio, usa</td>\n",
              "      <td>23.0</td>\n",
              "    </tr>\n",
              "    <tr>\n",
              "      <th>4</th>\n",
              "      <td>2313</td>\n",
              "      <td>0060173289</td>\n",
              "      <td>9</td>\n",
              "      <td>Divine Secrets of the Ya-Ya Sisterhood : A Novel</td>\n",
              "      <td>Rebecca Wells</td>\n",
              "      <td>1996</td>\n",
              "      <td>HarperCollins</td>\n",
              "      <td>cincinnati, ohio, usa</td>\n",
              "      <td>23.0</td>\n",
              "    </tr>\n",
              "  </tbody>\n",
              "</table>\n",
              "</div>"
            ],
            "text/plain": [
              "   userId        ISBN  bookRating  \\\n",
              "0  276725  034545104X  0            \n",
              "1  2313    034545104X  5            \n",
              "2  2313    0812533550  9            \n",
              "3  2313    0679745580  8            \n",
              "4  2313    0060173289  9            \n",
              "\n",
              "                                          bookTitle        bookAuthor  \\\n",
              "0  Flesh Tones: A Novel                              M. J. Rose         \n",
              "1  Flesh Tones: A Novel                              M. J. Rose         \n",
              "2  Ender's Game (Ender Wiggins Saga (Paperback))     Orson Scott Card   \n",
              "3  In Cold Blood (Vintage International)             TRUMAN CAPOTE      \n",
              "4  Divine Secrets of the Ya-Ya Sisterhood : A Novel  Rebecca Wells      \n",
              "\n",
              "   yearOfPublication         publisher               location   age  \n",
              "0  2002               Ballantine Books  tyler, texas, usa     NaN    \n",
              "1  2002               Ballantine Books  cincinnati, ohio, usa  23.0  \n",
              "2  1986               Tor Books         cincinnati, ohio, usa  23.0  \n",
              "3  1994               Vintage           cincinnati, ohio, usa  23.0  \n",
              "4  1996               HarperCollins     cincinnati, ohio, usa  23.0  "
            ]
          },
          "metadata": {
            "tags": []
          },
          "execution_count": 33
        }
      ]
    },
    {
      "metadata": {
        "id": "z-jdj5IueI5R",
        "colab_type": "text"
      },
      "cell_type": "markdown",
      "source": [
        "Let's do some visual understanding of the Data..."
      ]
    },
    {
      "metadata": {
        "id": "mF47ZnyAYGxP",
        "colab_type": "code",
        "colab": {}
      },
      "cell_type": "code",
      "source": [
        "import matplotlib.pyplot as plt\n",
        "import seaborn as sns"
      ],
      "execution_count": 0,
      "outputs": []
    },
    {
      "metadata": {
        "id": "7YPnrD35fjDy",
        "colab_type": "code",
        "colab": {
          "base_uri": "https://localhost:8080/",
          "height": 419
        },
        "outputId": "83530dd4-56f3-49bf-84ea-81801e0c9737"
      },
      "cell_type": "code",
      "source": [
        "sns.countplot(all_ratings.bookRating)\n",
        "plt.show()"
      ],
      "execution_count": 61,
      "outputs": [
        {
          "output_type": "stream",
          "text": [
            "/usr/local/lib/python3.6/dist-packages/seaborn/categorical.py:1428: FutureWarning: remove_na is deprecated and is a private function. Do not use.\n",
            "  stat_data = remove_na(group_data)\n"
          ],
          "name": "stderr"
        },
        {
          "output_type": "display_data",
          "data": {
            "image/png": "[encoded data removed]",
            "text/plain": [
              "<matplotlib.figure.Figure at 0x7fd6a40b6d68>"
            ]
          },
          "metadata": {
            "tags": []
          }
        }
      ]
    },
    {
      "metadata": {
        "id": "GKryxcdEjF6C",
        "colab_type": "text"
      },
      "cell_type": "markdown",
      "source": [
        "We can see that the Dataset has a high degree of Sparcity... Lot's of Cero's \n",
        "As taken from the Book-Crossing Dataset information: \n",
        "\n",
        "\"Ratings (`Book-Rating`) are either **explicit, expressed on a scale from 1-10 **(higher values denoting higher appreciation), or implicit, expressed by 0.\" We may segmentate the data, into a ratings_explicit dataset, and a ratings_implicit dataset."
      ]
    },
    {
      "metadata": {
        "id": "17vY2XX53D1G",
        "colab_type": "code",
        "colab": {}
      },
      "cell_type": "code",
      "source": [
        "#Segragating implicit and explict ratings datasets\n",
        "ratings_explicit = all_ratings[all_ratings.bookRating != 0]\n",
        "ratings_implicit = all_ratings[all_ratings.bookRating == 0]\n"
      ],
      "execution_count": 0,
      "outputs": []
    },
    {
      "metadata": {
        "id": "jSolOuJM3Tn-",
        "colab_type": "code",
        "colab": {
          "base_uri": "https://localhost:8080/",
          "height": 293
        },
        "outputId": "cd84bb68-a5a5-46c2-80d5-f1295502a926"
      },
      "cell_type": "code",
      "source": [
        "ratings_explicit.head()\n",
        "\n"
      ],
      "execution_count": 73,
      "outputs": [
        {
          "output_type": "execute_result",
          "data": {
            "text/html": [
              "<div>\n",
              "<style scoped>\n",
              "    .dataframe tbody tr th:only-of-type {\n",
              "        vertical-align: middle;\n",
              "    }\n",
              "\n",
              "    .dataframe tbody tr th {\n",
              "        vertical-align: top;\n",
              "    }\n",
              "\n",
              "    .dataframe thead th {\n",
              "        text-align: right;\n",
              "    }\n",
              "</style>\n",
              "<table border=\"1\" class=\"dataframe\">\n",
              "  <thead>\n",
              "    <tr style=\"text-align: right;\">\n",
              "      <th></th>\n",
              "      <th>userId</th>\n",
              "      <th>ISBN</th>\n",
              "      <th>bookRating</th>\n",
              "      <th>bookTitle</th>\n",
              "      <th>bookAuthor</th>\n",
              "      <th>yearOfPublication</th>\n",
              "      <th>publisher</th>\n",
              "      <th>location</th>\n",
              "      <th>age</th>\n",
              "    </tr>\n",
              "  </thead>\n",
              "  <tbody>\n",
              "    <tr>\n",
              "      <th>1</th>\n",
              "      <td>2313</td>\n",
              "      <td>034545104X</td>\n",
              "      <td>5</td>\n",
              "      <td>Flesh Tones: A Novel</td>\n",
              "      <td>M. J. Rose</td>\n",
              "      <td>2002</td>\n",
              "      <td>Ballantine Books</td>\n",
              "      <td>cincinnati, ohio, usa</td>\n",
              "      <td>23.0</td>\n",
              "    </tr>\n",
              "    <tr>\n",
              "      <th>2</th>\n",
              "      <td>2313</td>\n",
              "      <td>0812533550</td>\n",
              "      <td>9</td>\n",
              "      <td>Ender's Game (Ender Wiggins Saga (Paperback))</td>\n",
              "      <td>Orson Scott Card</td>\n",
              "      <td>1986</td>\n",
              "      <td>Tor Books</td>\n",
              "      <td>cincinnati, ohio, usa</td>\n",
              "      <td>23.0</td>\n",
              "    </tr>\n",
              "    <tr>\n",
              "      <th>3</th>\n",
              "      <td>2313</td>\n",
              "      <td>0679745580</td>\n",
              "      <td>8</td>\n",
              "      <td>In Cold Blood (Vintage International)</td>\n",
              "      <td>TRUMAN CAPOTE</td>\n",
              "      <td>1994</td>\n",
              "      <td>Vintage</td>\n",
              "      <td>cincinnati, ohio, usa</td>\n",
              "      <td>23.0</td>\n",
              "    </tr>\n",
              "    <tr>\n",
              "      <th>4</th>\n",
              "      <td>2313</td>\n",
              "      <td>0060173289</td>\n",
              "      <td>9</td>\n",
              "      <td>Divine Secrets of the Ya-Ya Sisterhood : A Novel</td>\n",
              "      <td>Rebecca Wells</td>\n",
              "      <td>1996</td>\n",
              "      <td>HarperCollins</td>\n",
              "      <td>cincinnati, ohio, usa</td>\n",
              "      <td>23.0</td>\n",
              "    </tr>\n",
              "    <tr>\n",
              "      <th>5</th>\n",
              "      <td>2313</td>\n",
              "      <td>0385482388</td>\n",
              "      <td>5</td>\n",
              "      <td>The Mistress of Spices</td>\n",
              "      <td>Chitra Banerjee Divakaruni</td>\n",
              "      <td>1998</td>\n",
              "      <td>Anchor Books/Doubleday</td>\n",
              "      <td>cincinnati, ohio, usa</td>\n",
              "      <td>23.0</td>\n",
              "    </tr>\n",
              "  </tbody>\n",
              "</table>\n",
              "</div>"
            ],
            "text/plain": [
              "   userId        ISBN  bookRating  \\\n",
              "1  2313    034545104X  5            \n",
              "2  2313    0812533550  9            \n",
              "3  2313    0679745580  8            \n",
              "4  2313    0060173289  9            \n",
              "5  2313    0385482388  5            \n",
              "\n",
              "                                          bookTitle  \\\n",
              "1  Flesh Tones: A Novel                               \n",
              "2  Ender's Game (Ender Wiggins Saga (Paperback))      \n",
              "3  In Cold Blood (Vintage International)              \n",
              "4  Divine Secrets of the Ya-Ya Sisterhood : A Novel   \n",
              "5  The Mistress of Spices                             \n",
              "\n",
              "                   bookAuthor  yearOfPublication               publisher  \\\n",
              "1  M. J. Rose                  2002               Ballantine Books         \n",
              "2  Orson Scott Card            1986               Tor Books                \n",
              "3  TRUMAN CAPOTE               1994               Vintage                  \n",
              "4  Rebecca Wells               1996               HarperCollins            \n",
              "5  Chitra Banerjee Divakaruni  1998               Anchor Books/Doubleday   \n",
              "\n",
              "                location   age  \n",
              "1  cincinnati, ohio, usa  23.0  \n",
              "2  cincinnati, ohio, usa  23.0  \n",
              "3  cincinnati, ohio, usa  23.0  \n",
              "4  cincinnati, ohio, usa  23.0  \n",
              "5  cincinnati, ohio, usa  23.0  "
            ]
          },
          "metadata": {
            "tags": []
          },
          "execution_count": 73
        }
      ]
    },
    {
      "metadata": {
        "id": "jDSY_h3W4gyv",
        "colab_type": "code",
        "colab": {
          "base_uri": "https://localhost:8080/",
          "height": 74
        },
        "outputId": "49eb94d1-d3f7-4f87-ea48-e875df667c49"
      },
      "cell_type": "code",
      "source": [
        "print (all_ratings.shape)\n",
        "print (ratings_explicit.shape)\n",
        "print (ratings_implicit.shape)"
      ],
      "execution_count": 75,
      "outputs": [
        {
          "output_type": "stream",
          "text": [
            "(1031136, 9)\n",
            "(383842, 9)\n",
            "(647294, 9)\n"
          ],
          "name": "stdout"
        }
      ]
    },
    {
      "metadata": {
        "id": "PIFoeePNyYSE",
        "colab_type": "text"
      },
      "cell_type": "markdown",
      "source": [
        "O.K. Let's Rock n Roll! Time to check out the Data... with Deep Learning!\n",
        "Time to load up** Fast.ai** We can try two versions... one with all_ratings(Explicit, and Implicit), and see if it works, and another without the Implicit ratings... just using the explicit_ratings one... Then, we could in production keep making new ratings lots with books that were not rated and now are, and feed them back to our explicit_ratings learner data bunch... "
      ]
    },
    {
      "metadata": {
        "id": "-wa1LZxJxyks",
        "colab_type": "code",
        "colab": {}
      },
      "cell_type": "code",
      "source": [
        "from fastai import *\n",
        "from fastai.collab import *"
      ],
      "execution_count": 0,
      "outputs": []
    },
    {
      "metadata": {
        "id": "hZGcTf32ztiI",
        "colab_type": "text"
      },
      "cell_type": "markdown",
      "source": [
        "Create a CollabDataBunch with All_ratings..."
      ]
    },
    {
      "metadata": {
        "id": "q17N4VflzyPA",
        "colab_type": "code",
        "colab": {}
      },
      "cell_type": "code",
      "source": [
        "data = CollabDataBunch.from_df(all_ratings, seed=42, pct_val=0.1, item_name=\"bookTitle\")"
      ],
      "execution_count": 0,
      "outputs": []
    },
    {
      "metadata": {
        "id": "7vtznEzh1QC3",
        "colab_type": "code",
        "outputId": "936e3506-aa71-4ffc-b1bf-97b99d176dae",
        "colab": {
          "base_uri": "https://localhost:8080/",
          "height": 698
        }
      },
      "cell_type": "code",
      "source": [
        "data.show_batch()"
      ],
      "execution_count": 78,
      "outputs": [
        {
          "output_type": "display_data",
          "data": {
            "text/html": [
              "<table>  <col width='10px'>  <col width='10px'>  <col width='10px'>  <tr>\n",
              "    <th>userId</th>\n",
              "    <th>bookTitle</th>\n",
              "    <th>target</th>\n",
              "  </tr>\n",
              "  <tr>\n",
              "    <th>80684</th>\n",
              "    <th>L.A. Requiem</th>\n",
              "    <th>0.0</th>\n",
              "  </tr>\n",
              "  <tr>\n",
              "    <th>150968</th>\n",
              "    <th>The Pull of the Moon</th>\n",
              "    <th>0.0</th>\n",
              "  </tr>\n",
              "  <tr>\n",
              "    <th>170518</th>\n",
              "    <th>Christmas Bride (Harlequin Regency Romance, No 112)</th>\n",
              "    <th>0.0</th>\n",
              "  </tr>\n",
              "  <tr>\n",
              "    <th>103940</th>\n",
              "    <th>Vom Interesse und dem Sinn der Langeweile.</th>\n",
              "    <th>5.0</th>\n",
              "  </tr>\n",
              "  <tr>\n",
              "    <th>64436</th>\n",
              "    <th>Wicked Forest (Debeers)</th>\n",
              "    <th>0.0</th>\n",
              "  </tr>\n",
              "  <tr>\n",
              "    <th>19019</th>\n",
              "    <th>Low-Fat Living: Turn Off the Fat-Makers Turn on the Fat-Burners for Longevity Energy Weight Loss Freedom from Disease</th>\n",
              "    <th>0.0</th>\n",
              "  </tr>\n",
              "  <tr>\n",
              "    <th>90984</th>\n",
              "    <th>Long Day's Journey Into Night</th>\n",
              "    <th>5.0</th>\n",
              "  </tr>\n",
              "  <tr>\n",
              "    <th>110973</th>\n",
              "    <th>This Calder Sky</th>\n",
              "    <th>0.0</th>\n",
              "  </tr>\n",
              "</table>\n"
            ],
            "text/plain": [
              "<IPython.core.display.HTML object>"
            ]
          },
          "metadata": {
            "tags": []
          }
        }
      ]
    },
    {
      "metadata": {
        "id": "uYwYEANN6SSY",
        "colab_type": "text"
      },
      "cell_type": "markdown",
      "source": [
        "Create a Collab_learner"
      ]
    },
    {
      "metadata": {
        "id": "y9ZXoU9WiWKQ",
        "colab_type": "code",
        "colab": {}
      },
      "cell_type": "code",
      "source": [
        "learn = collab_learner(data, n_factors=20,  y_range=(0.,10.0))"
      ],
      "execution_count": 0,
      "outputs": []
    },
    {
      "metadata": {
        "id": "jLrb5idCiWtd",
        "colab_type": "code",
        "outputId": "b5dfb79a-9ce2-433e-cbcf-872c129018f1",
        "colab": {
          "base_uri": "https://localhost:8080/",
          "height": 112
        }
      },
      "cell_type": "code",
      "source": [
        "learn.lr_find()"
      ],
      "execution_count": 80,
      "outputs": [
        {
          "output_type": "display_data",
          "data": {
            "text/html": [
              "\n",
              "    <div>\n",
              "        <style>\n",
              "        \t/* Turns off some styling */\n",
              "        \tprogress {\n",
              "\n",
              "            \t/* gets rid of default border in Firefox and Opera. */\n",
              "            \tborder: none;\n",
              "\n",
              "            \t/* Needs to be in here for Safari polyfill so background images work as expected. */\n",
              "            \tbackground-size: auto;\n",
              "            }\n",
              "\n",
              "            .progress-bar-interrupted, .progress-bar-interrupted::-webkit-progress-bar {\n",
              "                background: #F44336;\n",
              "            }\n",
              "        </style>\n",
              "      <progress value='0' class='' max='1', style='width:300px; height:20px; vertical-align: middle;'></progress>\n",
              "      0.00% [0/1 00:00<00:00]\n",
              "    </div>\n",
              "    \n",
              "<table style='width:300px; margin-bottom:10px'>\n",
              "  <tr>\n",
              "    <th>epoch</th>\n",
              "    <th>train_loss</th>\n",
              "    <th>valid_loss</th>\n",
              "  </tr>\n",
              "  <tr>\n",
              "\n",
              "  </tr>\n",
              "</table>\n",
              "\n",
              "\n",
              "    <div>\n",
              "        <style>\n",
              "        \t/* Turns off some styling */\n",
              "        \tprogress {\n",
              "\n",
              "            \t/* gets rid of default border in Firefox and Opera. */\n",
              "            \tborder: none;\n",
              "\n",
              "            \t/* Needs to be in here for Safari polyfill so background images work as expected. */\n",
              "            \tbackground-size: auto;\n",
              "            }\n",
              "\n",
              "            .progress-bar-interrupted, .progress-bar-interrupted::-webkit-progress-bar {\n",
              "                background: #F44336;\n",
              "            }\n",
              "        </style>\n",
              "      <progress value='0' class='progress-bar-interrupted' max='14501', style='width:300px; height:20px; vertical-align: middle;'></progress>\n",
              "      Interrupted\n",
              "    </div>\n",
              "    "
            ],
            "text/plain": [
              "<IPython.core.display.HTML object>"
            ]
          },
          "metadata": {
            "tags": []
          }
        },
        {
          "output_type": "stream",
          "text": [
            "LR Finder is complete, type {learner_name}.recorder.plot() to see the graph.\n"
          ],
          "name": "stdout"
        }
      ]
    },
    {
      "metadata": {
        "id": "09XXahsPiXQW",
        "colab_type": "code",
        "outputId": "3fb7ba97-c5e6-4c5f-ec0a-371f76ae82ed",
        "colab": {
          "base_uri": "https://localhost:8080/",
          "height": 364
        }
      },
      "cell_type": "code",
      "source": [
        "learn.recorder.plot()"
      ],
      "execution_count": 81,
      "outputs": [
        {
          "output_type": "display_data",
          "data": {
            "image/png": "[encoded data removed]",
            "text/plain": [
              "<matplotlib.figure.Figure at 0x7fd6a414c630>"
            ]
          },
          "metadata": {
            "tags": []
          }
        }
      ]
    },
    {
      "metadata": {
        "id": "VYL8o5xrll24",
        "colab_type": "text"
      },
      "cell_type": "markdown",
      "source": [
        "O.k. Now, lets try a Fit...using 20 factors... we see in the plot that we could use the Learning Rate..."
      ]
    },
    {
      "metadata": {
        "id": "4dHvhYwelvr9",
        "colab_type": "code",
        "outputId": "d30d83f5-18cf-4f6e-bed2-772484d3eabb",
        "colab": {
          "base_uri": "https://localhost:8080/",
          "height": 168
        }
      },
      "cell_type": "code",
      "source": [
        "learn.fit_one_cycle(5, 5e-4)"
      ],
      "execution_count": 112,
      "outputs": [
        {
          "output_type": "stream",
          "text": [
            "Total time: 32:48\n",
            "epoch  train_loss  valid_loss\n",
            "1      16.027798   15.991398   (06:24)\n",
            "2      12.586303   12.896973   (06:29)\n",
            "3      11.307889   12.491611   (06:29)\n",
            "4      10.545262   12.446498   (06:44)\n",
            "5      10.251743   12.444500   (06:40)\n",
            "\n"
          ],
          "name": "stdout"
        }
      ]
    },
    {
      "metadata": {
        "id": "bRDOB3JQ6zwO",
        "colab_type": "code",
        "colab": {}
      },
      "cell_type": "code",
      "source": [
        "learn.save('all_ratings_fit1')"
      ],
      "execution_count": 0,
      "outputs": []
    },
    {
      "metadata": {
        "colab_type": "text",
        "id": "ScfbONwOYCRr"
      },
      "cell_type": "markdown",
      "source": [
        "Create a CollabDataBunch with ratings_explicit..."
      ]
    },
    {
      "metadata": {
        "id": "JoPQ56ZsUyoD",
        "colab_type": "code",
        "colab": {}
      },
      "cell_type": "code",
      "source": [
        "data = CollabDataBunch.from_df(ratings_explicit, seed=42, pct_val=0.1, item_name=\"bookTitle\")"
      ],
      "execution_count": 0,
      "outputs": []
    },
    {
      "metadata": {
        "id": "rPORv56sYZJM",
        "colab_type": "code",
        "colab": {
          "base_uri": "https://localhost:8080/",
          "height": 663
        },
        "outputId": "049f145d-827b-43be-d7ce-dd8c2adcbdc5"
      },
      "cell_type": "code",
      "source": [
        "data.show_batch()"
      ],
      "execution_count": 115,
      "outputs": [
        {
          "output_type": "display_data",
          "data": {
            "text/html": [
              "<table>  <col width='10px'>  <col width='10px'>  <col width='10px'>  <tr>\n",
              "    <th>userId</th>\n",
              "    <th>bookTitle</th>\n",
              "    <th>target</th>\n",
              "  </tr>\n",
              "  <tr>\n",
              "    <th>88283</th>\n",
              "    <th>All I Want Is Everything (Gossip Girl, 3)</th>\n",
              "    <th>10.0</th>\n",
              "  </tr>\n",
              "  <tr>\n",
              "    <th>213760</th>\n",
              "    <th>Jemima J: A Novel About Ugly Ducklings and Swans</th>\n",
              "    <th>8.0</th>\n",
              "  </tr>\n",
              "  <tr>\n",
              "    <th>240401</th>\n",
              "    <th>Narcissus and Goldmund</th>\n",
              "    <th>10.0</th>\n",
              "  </tr>\n",
              "  <tr>\n",
              "    <th>114868</th>\n",
              "    <th>The Secret of Red Gate Farm (Nancy Drew Mystery Stories, No 6)</th>\n",
              "    <th>10.0</th>\n",
              "  </tr>\n",
              "  <tr>\n",
              "    <th>153552</th>\n",
              "    <th>El caballero de la armadura oxidada</th>\n",
              "    <th>4.0</th>\n",
              "  </tr>\n",
              "  <tr>\n",
              "    <th>4809</th>\n",
              "    <th>Harry Potter and the Prisoner of Azkaban (Book 3)</th>\n",
              "    <th>9.0</th>\n",
              "  </tr>\n",
              "  <tr>\n",
              "    <th>142745</th>\n",
              "    <th>Small Gods (Discworld Novels (Paperback))</th>\n",
              "    <th>7.0</th>\n",
              "  </tr>\n",
              "  <tr>\n",
              "    <th>164323</th>\n",
              "    <th>Jurassic Park</th>\n",
              "    <th>7.0</th>\n",
              "  </tr>\n",
              "</table>\n"
            ],
            "text/plain": [
              "<IPython.core.display.HTML object>"
            ]
          },
          "metadata": {
            "tags": []
          }
        }
      ]
    },
    {
      "metadata": {
        "colab_type": "text",
        "id": "uR_ZtNzEYmg3"
      },
      "cell_type": "markdown",
      "source": [
        "Create a Collab_learner"
      ]
    },
    {
      "metadata": {
        "id": "lqIk7B_JYn-m",
        "colab_type": "code",
        "colab": {}
      },
      "cell_type": "code",
      "source": [
        "learn = collab_learner(data, n_factors=20,  y_range=(1.0,10.0))"
      ],
      "execution_count": 0,
      "outputs": []
    },
    {
      "metadata": {
        "id": "-A5cmfH4Y2I5",
        "colab_type": "code",
        "colab": {
          "base_uri": "https://localhost:8080/",
          "height": 112
        },
        "outputId": "dd3073a4-3a20-49a5-cc20-675a0c1226ae"
      },
      "cell_type": "code",
      "source": [
        "learn.lr_find()"
      ],
      "execution_count": 117,
      "outputs": [
        {
          "output_type": "display_data",
          "data": {
            "text/html": [
              "\n",
              "    <div>\n",
              "        <style>\n",
              "        \t/* Turns off some styling */\n",
              "        \tprogress {\n",
              "\n",
              "            \t/* gets rid of default border in Firefox and Opera. */\n",
              "            \tborder: none;\n",
              "\n",
              "            \t/* Needs to be in here for Safari polyfill so background images work as expected. */\n",
              "            \tbackground-size: auto;\n",
              "            }\n",
              "\n",
              "            .progress-bar-interrupted, .progress-bar-interrupted::-webkit-progress-bar {\n",
              "                background: #F44336;\n",
              "            }\n",
              "        </style>\n",
              "      <progress value='0' class='' max='1', style='width:300px; height:20px; vertical-align: middle;'></progress>\n",
              "      0.00% [0/1 00:00<00:00]\n",
              "    </div>\n",
              "    \n",
              "<table style='width:300px; margin-bottom:10px'>\n",
              "  <tr>\n",
              "    <th>epoch</th>\n",
              "    <th>train_loss</th>\n",
              "    <th>valid_loss</th>\n",
              "  </tr>\n",
              "  <tr>\n",
              "\n",
              "  </tr>\n",
              "</table>\n",
              "\n",
              "\n",
              "    <div>\n",
              "        <style>\n",
              "        \t/* Turns off some styling */\n",
              "        \tprogress {\n",
              "\n",
              "            \t/* gets rid of default border in Firefox and Opera. */\n",
              "            \tborder: none;\n",
              "\n",
              "            \t/* Needs to be in here for Safari polyfill so background images work as expected. */\n",
              "            \tbackground-size: auto;\n",
              "            }\n",
              "\n",
              "            .progress-bar-interrupted, .progress-bar-interrupted::-webkit-progress-bar {\n",
              "                background: #F44336;\n",
              "            }\n",
              "        </style>\n",
              "      <progress value='0' class='progress-bar-interrupted' max='5398', style='width:300px; height:20px; vertical-align: middle;'></progress>\n",
              "      Interrupted\n",
              "    </div>\n",
              "    "
            ],
            "text/plain": [
              "<IPython.core.display.HTML object>"
            ]
          },
          "metadata": {
            "tags": []
          }
        },
        {
          "output_type": "stream",
          "text": [
            "LR Finder is complete, type {learner_name}.recorder.plot() to see the graph.\n"
          ],
          "name": "stdout"
        }
      ]
    },
    {
      "metadata": {
        "id": "tAomgts2Y6KU",
        "colab_type": "code",
        "colab": {
          "base_uri": "https://localhost:8080/",
          "height": 361
        },
        "outputId": "5ef3c6cf-b92f-4144-8ef0-1212f5739d39"
      },
      "cell_type": "code",
      "source": [
        "learn.recorder.plot()"
      ],
      "execution_count": 118,
      "outputs": [
        {
          "output_type": "display_data",
          "data": {
            "image/png": "[encoded data removed]",
            "text/plain": [
              "<matplotlib.figure.Figure at 0x7fd6ac4d0470>"
            ]
          },
          "metadata": {
            "tags": []
          }
        }
      ]
    },
    {
      "metadata": {
        "id": "Uo9g3XLcZE5A",
        "colab_type": "code",
        "colab": {
          "base_uri": "https://localhost:8080/",
          "height": 168
        },
        "outputId": "d674bd33-2f86-4113-fc55-6683f4039539"
      },
      "cell_type": "code",
      "source": [
        "learn.fit_one_cycle(5, 5e-3)"
      ],
      "execution_count": 119,
      "outputs": [
        {
          "output_type": "stream",
          "text": [
            "Total time: 05:34\n",
            "epoch  train_loss  valid_loss\n",
            "1      4.345759    4.230492    (01:07)\n",
            "2      3.155258    3.401508    (01:08)\n",
            "3      2.141449    3.407387    (01:06)\n",
            "4      1.355150    3.403827    (01:06)\n",
            "5      1.089095    3.413436    (01:06)\n",
            "\n"
          ],
          "name": "stdout"
        }
      ]
    },
    {
      "metadata": {
        "id": "yj188VgNbuHE",
        "colab_type": "code",
        "colab": {}
      },
      "cell_type": "code",
      "source": [
        "learn.save('ratings_explicit_fit1')"
      ],
      "execution_count": 0,
      "outputs": []
    }
  ]
}