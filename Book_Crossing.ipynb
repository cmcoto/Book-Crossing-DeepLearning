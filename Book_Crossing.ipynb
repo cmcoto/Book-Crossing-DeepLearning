{
  "nbformat": 4,
  "nbformat_minor": 0,
  "metadata": {
    "colab": {
      "name": "Book-Crossing.ipynb",
      "version": "0.3.2",
      "provenance": [],
      "collapsed_sections": [],
      "include_colab_link": true
    },
    "kernelspec": {
      "name": "python3",
      "display_name": "Python 3"
    },
    "accelerator": "GPU"
  },
  "cells": [
    {
      "cell_type": "markdown",
      "metadata": {
        "id": "view-in-github",
        "colab_type": "text"
      },
      "source": [
        "<a href=\"https://colab.research.google.com/github/cmcoto/Book-Crossing-DeepLearning/blob/master/Book_Crossing.ipynb\" target=\"_parent\"><img src=\"https://colab.research.google.com/assets/colab-badge.svg\" alt=\"Open In Colab\"/></a>"
      ]
    },
    {
      "metadata": {
        "id": "clDIOmE-Iybb",
        "colab_type": "text"
      },
      "cell_type": "markdown",
      "source": [
        "**First Get Latest version of  FAST.AI So I can use many tools...Don't know yet what I might need!**"
      ]
    },
    {
      "metadata": {
        "id": "c_9g3FCVJAsF",
        "colab_type": "code",
        "outputId": "7ab89981-6ba4-4b61-8cde-eec1aa9c6994",
        "colab": {
          "base_uri": "https://localhost:8080/",
          "height": 1546
        }
      },
      "cell_type": "code",
      "source": [
        "!curl https://course-v3.fast.ai/setup/colab | bash"
      ],
      "execution_count": 0,
      "outputs": [
        {
          "output_type": "stream",
          "text": [
            "  % Total    % Received % Xferd  Average Speed   Time    Time     Time  Current\n",
            "                                 Dload  Upload   Total   Spent    Left  Speed\n",
            "\r  0     0    0     0    0     0      0      0 --:--:-- --:--:-- --:--:--     0\r100   665  100   665    0     0   1692      0 --:--:-- --:--:-- --:--:--  1692\n",
            "Collecting pillow==4.1.1\n",
            "\u001b[?25l  Downloading https://files.pythonhosted.org/packages/36/e5/88b3d60924a3f8476fa74ec086f5fbaba56dd6cee0d82845f883b6b6dd18/Pillow-4.1.1-cp36-cp36m-manylinux1_x86_64.whl (5.7MB)\n",
            "\u001b[K    100% |████████████████████████████████| 5.7MB 7.0MB/s \n",
            "\u001b[?25hRequirement already satisfied, skipping upgrade: olefile in /usr/local/lib/python3.6/dist-packages (from pillow==4.1.1) (0.46)\n",
            "Installing collected packages: pillow\n",
            "  Found existing installation: Pillow 4.0.0\n",
            "    Uninstalling Pillow-4.0.0:\n",
            "      Successfully uninstalled Pillow-4.0.0\n",
            "Successfully installed pillow-4.1.1\n",
            "Looking in links: https://download.pytorch.org/whl/nightly/cu92/torch_nightly.html\n",
            "Collecting torch_nightly\n",
            "\u001b[?25l  Downloading https://download.pytorch.org/whl/nightly/cu92/torch_nightly-1.0.0.dev20181125-cp36-cp36m-linux_x86_64.whl (576.5MB)\n",
            "\u001b[K    100% |████████████████████████████████| 576.5MB 24kB/s \n",
            "tcmalloc: large alloc 1073750016 bytes == 0x61eac000 @  0x7f01b45a12a4 0x591a07 0x5b5d56 0x502e9a 0x506859 0x502209 0x502f3d 0x506859 0x504c28 0x502540 0x502f3d 0x506859 0x504c28 0x502540 0x502f3d 0x506859 0x504c28 0x502540 0x502f3d 0x507641 0x502209 0x502f3d 0x506859 0x504c28 0x502540 0x502f3d 0x507641 0x504c28 0x502540 0x502f3d 0x507641\n",
            "\u001b[?25hInstalling collected packages: torch-nightly\n",
            "Successfully installed torch-nightly-1.0.0.dev20181125\n",
            "Cloning into 'course-v3'...\n",
            "remote: Enumerating objects: 2450, done.\u001b[K\n",
            "remote: Total 2450 (delta 0), reused 0 (delta 0), pack-reused 2450\u001b[K\n",
            "Receiving objects: 100% (2450/2450), 59.09 MiB | 23.75 MiB/s, done.\n",
            "Resolving deltas: 100% (1338/1338), done.\n",
            "Collecting fastai\n",
            "\u001b[?25l  Downloading https://files.pythonhosted.org/packages/9a/fe/9686231cc2ed81a7096abda19d93ca43532d7b130a12d1ada8746ba75e72/fastai-1.0.28-py3-none-any.whl (120kB)\n",
            "\u001b[K    100% |████████████████████████████████| 122kB 7.7MB/s \n",
            "\u001b[?25hRequirement already satisfied, skipping upgrade: matplotlib in /usr/local/lib/python3.6/dist-packages (from fastai) (2.1.2)\n",
            "Collecting torchvision-nightly (from fastai)\n",
            "\u001b[?25l  Downloading https://files.pythonhosted.org/packages/ca/bd/d0f9a33c81c79710eb7ee428b66869b49a8be16c7f1e446c211a7fbfb7be/torchvision_nightly-0.2.1-py2.py3-none-any.whl (54kB)\n",
            "\u001b[K    100% |████████████████████████████████| 61kB 24.6MB/s \n",
            "\u001b[?25hRequirement already satisfied, skipping upgrade: regex in /usr/local/lib/python3.6/dist-packages (from fastai) (2018.1.10)\n",
            "Requirement already satisfied, skipping upgrade: requests in /usr/local/lib/python3.6/dist-packages (from fastai) (2.18.4)\n",
            "Requirement already satisfied, skipping upgrade: spacy==2.0.16 in /usr/local/lib/python3.6/dist-packages (from fastai) (2.0.16)\n",
            "Collecting dataclasses (from fastai)\n",
            "  Downloading https://files.pythonhosted.org/packages/26/2f/1095cdc2868052dd1e64520f7c0d5c8c550ad297e944e641dbf1ffbb9a5d/dataclasses-0.6-py3-none-any.whl\n",
            "Requirement already satisfied, skipping upgrade: cymem==2.0.2 in /usr/local/lib/python3.6/dist-packages (from fastai) (2.0.2)\n",
            "Collecting fastprogress>=0.1.15 (from fastai)\n",
            "  Downloading https://files.pythonhosted.org/packages/dc/b8/7ce2b3c6f886f5cb1b16e62d368456b4fdb7e16bba962571bc50dae49b30/fastprogress-0.1.15-py3-none-any.whl\n",
            "Requirement already satisfied, skipping upgrade: thinc==6.12.0 in /usr/local/lib/python3.6/dist-packages (from fastai) (6.12.0)\n",
            "Requirement already satisfied, skipping upgrade: scipy in /usr/local/lib/python3.6/dist-packages (from fastai) (1.1.0)\n",
            "Collecting bottleneck (from fastai)\n",
            "\u001b[?25l  Downloading https://files.pythonhosted.org/packages/05/ae/cedf5323f398ab4e4ff92d6c431a3e1c6a186f9b41ab3e8258dff786a290/Bottleneck-1.2.1.tar.gz (105kB)\n",
            "\u001b[K    100% |████████████████████████████████| 112kB 29.5MB/s \n",
            "\u001b[?25hCollecting numexpr (from fastai)\n",
            "\u001b[?25l  Downloading https://files.pythonhosted.org/packages/db/ea/efd9e16283637eb5b6c0042b6cc3521f1b9a5b47767ac463c88bbd37670c/numexpr-2.6.8-cp36-cp36m-manylinux1_x86_64.whl (162kB)\n",
            "\u001b[K    100% |████████████████████████████████| 163kB 18.9MB/s \n",
            "\u001b[?25hRequirement already satisfied, skipping upgrade: pyyaml in /usr/local/lib/python3.6/dist-packages (from fastai) (3.13)\n",
            "Requirement already satisfied, skipping upgrade: Pillow in /usr/local/lib/python3.6/dist-packages (from fastai) (4.1.1)\n",
            "Requirement already satisfied, skipping upgrade: pandas in /usr/local/lib/python3.6/dist-packages (from fastai) (0.22.0)\n",
            "Requirement already satisfied, skipping upgrade: numpy>=1.12 in /usr/local/lib/python3.6/dist-packages (from fastai) (1.14.6)\n",
            "Requirement already satisfied, skipping upgrade: typing in /usr/local/lib/python3.6/dist-packages (from fastai) (3.6.6)\n",
            "Requirement already satisfied, skipping upgrade: pyparsing!=2.0.4,!=2.1.2,!=2.1.6,>=2.0.1 in /usr/local/lib/python3.6/dist-packages (from matplotlib->fastai) (2.3.0)\n",
            "Requirement already satisfied, skipping upgrade: cycler>=0.10 in /usr/local/lib/python3.6/dist-packages (from matplotlib->fastai) (0.10.0)\n",
            "Requirement already satisfied, skipping upgrade: six>=1.10 in /usr/local/lib/python3.6/dist-packages (from matplotlib->fastai) (1.11.0)\n",
            "Requirement already satisfied, skipping upgrade: python-dateutil>=2.1 in /usr/local/lib/python3.6/dist-packages (from matplotlib->fastai) (2.5.3)\n",
            "Requirement already satisfied, skipping upgrade: pytz in /usr/local/lib/python3.6/dist-packages (from matplotlib->fastai) (2018.7)\n",
            "Requirement already satisfied, skipping upgrade: tqdm in /usr/local/lib/python3.6/dist-packages (from torchvision-nightly->fastai) (4.28.1)\n",
            "Requirement already satisfied, skipping upgrade: urllib3<1.23,>=1.21.1 in /usr/local/lib/python3.6/dist-packages (from requests->fastai) (1.22)\n",
            "Requirement already satisfied, skipping upgrade: chardet<3.1.0,>=3.0.2 in /usr/local/lib/python3.6/dist-packages (from requests->fastai) (3.0.4)\n",
            "Requirement already satisfied, skipping upgrade: idna<2.7,>=2.5 in /usr/local/lib/python3.6/dist-packages (from requests->fastai) (2.6)\n",
            "Requirement already satisfied, skipping upgrade: certifi>=2017.4.17 in /usr/local/lib/python3.6/dist-packages (from requests->fastai) (2018.10.15)\n",
            "Requirement already satisfied, skipping upgrade: dill<0.3,>=0.2 in /usr/local/lib/python3.6/dist-packages (from spacy==2.0.16->fastai) (0.2.8.2)\n",
            "Requirement already satisfied, skipping upgrade: murmurhash<1.1.0,>=0.28.0 in /usr/local/lib/python3.6/dist-packages (from spacy==2.0.16->fastai) (1.0.1)\n",
            "Requirement already satisfied, skipping upgrade: preshed<2.1.0,>=2.0.1 in /usr/local/lib/python3.6/dist-packages (from spacy==2.0.16->fastai) (2.0.1)\n",
            "Requirement already satisfied, skipping upgrade: ujson>=1.35 in /usr/local/lib/python3.6/dist-packages (from spacy==2.0.16->fastai) (1.35)\n",
            "Requirement already satisfied, skipping upgrade: msgpack-numpy<0.4.4 in /usr/local/lib/python3.6/dist-packages (from spacy==2.0.16->fastai) (0.4.3.2)\n",
            "Requirement already satisfied, skipping upgrade: plac<1.0.0,>=0.9.6 in /usr/local/lib/python3.6/dist-packages (from spacy==2.0.16->fastai) (0.9.6)\n",
            "Requirement already satisfied, skipping upgrade: cytoolz<0.10,>=0.9.0 in /usr/local/lib/python3.6/dist-packages (from thinc==6.12.0->fastai) (0.9.0.1)\n",
            "Requirement already satisfied, skipping upgrade: msgpack<1.0.0,>=0.5.6 in /usr/local/lib/python3.6/dist-packages (from thinc==6.12.0->fastai) (0.5.6)\n",
            "Requirement already satisfied, skipping upgrade: wrapt<1.11.0,>=1.10.0 in /usr/local/lib/python3.6/dist-packages (from thinc==6.12.0->fastai) (1.10.11)\n",
            "Requirement already satisfied, skipping upgrade: olefile in /usr/local/lib/python3.6/dist-packages (from Pillow->fastai) (0.46)\n",
            "Requirement already satisfied, skipping upgrade: toolz>=0.8.0 in /usr/local/lib/python3.6/dist-packages (from cytoolz<0.10,>=0.9.0->thinc==6.12.0->fastai) (0.9.0)\n",
            "Building wheels for collected packages: bottleneck\n",
            "  Running setup.py bdist_wheel for bottleneck ... \u001b[?25l-\b \b\\\b \b|\b \b/\b \b-\b \b\\\b \b|\b \b/\b \bdone\n",
            "\u001b[?25h  Stored in directory: /root/.cache/pip/wheels/f2/bf/ec/e0f39aa27001525ad455139ee57ec7d0776fe074dfd78c97e4\n",
            "Successfully built bottleneck\n",
            "Installing collected packages: torchvision-nightly, dataclasses, fastprogress, bottleneck, numexpr, fastai\n",
            "Successfully installed bottleneck-1.2.1 dataclasses-0.6 fastai-1.0.28 fastprogress-0.1.15 numexpr-2.6.8 torchvision-nightly-0.2.1\n",
            "Already up to date.\n"
          ],
          "name": "stdout"
        }
      ]
    },
    {
      "metadata": {
        "id": "hSx7uLQUJxbA",
        "colab_type": "text"
      },
      "cell_type": "markdown",
      "source": [
        "**Connect Google Drive!**"
      ]
    },
    {
      "metadata": {
        "id": "wbQ-2HmfJ2wF",
        "colab_type": "code",
        "outputId": "aec90a22-dc07-4354-9417-e7b3687c5f3a",
        "colab": {
          "base_uri": "https://localhost:8080/",
          "height": 131
        }
      },
      "cell_type": "code",
      "source": [
        "from google.colab import *\n",
        "drive.mount('/content/gdrive', force_remount=True)"
      ],
      "execution_count": 0,
      "outputs": [
        {
          "output_type": "stream",
          "text": [
            "Go to this URL in a browser: https://accounts.google.com/o/oauth2/auth?client_id=947318989803-6bn6qk8qdgf4n4g3pfee6491hc0brc4i.apps.googleusercontent.com&redirect_uri=urn%3Aietf%3Awg%3Aoauth%3A2.0%3Aoob&scope=email%20https%3A%2F%2Fwww.googleapis.com%2Fauth%2Fdocs.test%20https%3A%2F%2Fwww.googleapis.com%2Fauth%2Fdrive%20https%3A%2F%2Fwww.googleapis.com%2Fauth%2Fdrive.photos.readonly%20https%3A%2F%2Fwww.googleapis.com%2Fauth%2Fpeopleapi.readonly&response_type=code\n",
            "\n",
            "Enter your authorization code:\n",
            "··········\n",
            "Mounted at /content/gdrive\n"
          ],
          "name": "stdout"
        }
      ]
    },
    {
      "metadata": {
        "id": "0-cWM6nsKKFd",
        "colab_type": "text"
      },
      "cell_type": "markdown",
      "source": [
        "Check that it mounted Correctly!"
      ]
    },
    {
      "metadata": {
        "id": "5ic3WBM-KNm8",
        "colab_type": "code",
        "outputId": "2a3429e9-b007-4ef1-bcf2-9a2f1949925c",
        "colab": {
          "base_uri": "https://localhost:8080/",
          "height": 36
        }
      },
      "cell_type": "code",
      "source": [
        "with open('/content/gdrive/My Drive/data/foo.txt', 'w') as f:\n",
        "  f.write('Hello Google Drive!')\n",
        "!cat /content/gdrive/My\\ Drive/foo.txt"
      ],
      "execution_count": 0,
      "outputs": [
        {
          "output_type": "stream",
          "text": [
            "Hello Google Drive!"
          ],
          "name": "stdout"
        }
      ]
    },
    {
      "metadata": {
        "id": "_jiFtBCdN2P_",
        "colab_type": "text"
      },
      "cell_type": "markdown",
      "source": [
        "Get Path! To read csv file"
      ]
    },
    {
      "metadata": {
        "id": "aSvtMbC8OhRk",
        "colab_type": "code",
        "outputId": "7b5aaf69-583e-4a89-f233-89fc34837c86",
        "colab": {
          "base_uri": "https://localhost:8080/",
          "height": 36
        }
      },
      "cell_type": "code",
      "source": [
        "!ls \"/content/gdrive/My Drive/data/bookCrossing\""
      ],
      "execution_count": 0,
      "outputs": [
        {
          "output_type": "stream",
          "text": [
            "BX-Book-Ratings.csv  BX-Books.csv  BX-Users.csv\n"
          ],
          "name": "stdout"
        }
      ]
    },
    {
      "metadata": {
        "id": "ZGu749rEQjKF",
        "colab_type": "text"
      },
      "cell_type": "markdown",
      "source": [
        "GET THE **DATA**"
      ]
    },
    {
      "metadata": {
        "id": "P89E-EmORIPa",
        "colab_type": "code",
        "colab": {}
      },
      "cell_type": "code",
      "source": [
        "import pandas as pd\n",
        "import numpy as np\n"
      ],
      "execution_count": 0,
      "outputs": []
    },
    {
      "metadata": {
        "id": "KFJzWXTKQnBU",
        "colab_type": "code",
        "colab": {}
      },
      "cell_type": "code",
      "source": [
        "ratings = pd.read_csv('/content/gdrive/My Drive/data/bookCrossing/BX-Book-Ratings.csv', delimiter=\";\", encoding=\"latin1\")\n",
        "ratings.columns = ['userId', 'ISBN', 'bookRating']"
      ],
      "execution_count": 0,
      "outputs": []
    },
    {
      "metadata": {
        "id": "1p7If1U9Sg5p",
        "colab_type": "code",
        "outputId": "40aadba1-8f30-4e3e-be36-e210865f29a5",
        "colab": {
          "base_uri": "https://localhost:8080/",
          "height": 206
        }
      },
      "cell_type": "code",
      "source": [
        "ratings.head(5)"
      ],
      "execution_count": 0,
      "outputs": [
        {
          "output_type": "execute_result",
          "data": {
            "text/html": [
              "<div>\n",
              "<style scoped>\n",
              "    .dataframe tbody tr th:only-of-type {\n",
              "        vertical-align: middle;\n",
              "    }\n",
              "\n",
              "    .dataframe tbody tr th {\n",
              "        vertical-align: top;\n",
              "    }\n",
              "\n",
              "    .dataframe thead th {\n",
              "        text-align: right;\n",
              "    }\n",
              "</style>\n",
              "<table border=\"1\" class=\"dataframe\">\n",
              "  <thead>\n",
              "    <tr style=\"text-align: right;\">\n",
              "      <th></th>\n",
              "      <th>userId</th>\n",
              "      <th>ISBN</th>\n",
              "      <th>bookRating</th>\n",
              "    </tr>\n",
              "  </thead>\n",
              "  <tbody>\n",
              "    <tr>\n",
              "      <th>0</th>\n",
              "      <td>276725</td>\n",
              "      <td>034545104X</td>\n",
              "      <td>0</td>\n",
              "    </tr>\n",
              "    <tr>\n",
              "      <th>1</th>\n",
              "      <td>276726</td>\n",
              "      <td>0155061224</td>\n",
              "      <td>5</td>\n",
              "    </tr>\n",
              "    <tr>\n",
              "      <th>2</th>\n",
              "      <td>276727</td>\n",
              "      <td>0446520802</td>\n",
              "      <td>0</td>\n",
              "    </tr>\n",
              "    <tr>\n",
              "      <th>3</th>\n",
              "      <td>276729</td>\n",
              "      <td>052165615X</td>\n",
              "      <td>3</td>\n",
              "    </tr>\n",
              "    <tr>\n",
              "      <th>4</th>\n",
              "      <td>276729</td>\n",
              "      <td>0521795028</td>\n",
              "      <td>6</td>\n",
              "    </tr>\n",
              "  </tbody>\n",
              "</table>\n",
              "</div>"
            ],
            "text/plain": [
              "   userId        ISBN  bookRating\n",
              "0  276725  034545104X           0\n",
              "1  276726  0155061224           5\n",
              "2  276727  0446520802           0\n",
              "3  276729  052165615X           3\n",
              "4  276729  0521795028           6"
            ]
          },
          "metadata": {
            "tags": []
          },
          "execution_count": 7
        }
      ]
    },
    {
      "metadata": {
        "id": "-Tz9khC0Y36R",
        "colab_type": "code",
        "colab": {}
      },
      "cell_type": "code",
      "source": [
        "users = pd.read_csv('/content/gdrive/My Drive/data/bookCrossing/BX-Users.csv', delimiter=\";\", encoding=\"latin1\")\n",
        "users.columns = ['userId', 'location', 'age']"
      ],
      "execution_count": 0,
      "outputs": []
    },
    {
      "metadata": {
        "id": "EQHReTz6Zrvm",
        "colab_type": "code",
        "outputId": "25aaf36f-6519-4007-ea64-3f20d5516d9e",
        "colab": {
          "base_uri": "https://localhost:8080/",
          "height": 206
        }
      },
      "cell_type": "code",
      "source": [
        "users.head()"
      ],
      "execution_count": 0,
      "outputs": [
        {
          "output_type": "execute_result",
          "data": {
            "text/html": [
              "<div>\n",
              "<style scoped>\n",
              "    .dataframe tbody tr th:only-of-type {\n",
              "        vertical-align: middle;\n",
              "    }\n",
              "\n",
              "    .dataframe tbody tr th {\n",
              "        vertical-align: top;\n",
              "    }\n",
              "\n",
              "    .dataframe thead th {\n",
              "        text-align: right;\n",
              "    }\n",
              "</style>\n",
              "<table border=\"1\" class=\"dataframe\">\n",
              "  <thead>\n",
              "    <tr style=\"text-align: right;\">\n",
              "      <th></th>\n",
              "      <th>userId</th>\n",
              "      <th>location</th>\n",
              "      <th>age</th>\n",
              "    </tr>\n",
              "  </thead>\n",
              "  <tbody>\n",
              "    <tr>\n",
              "      <th>0</th>\n",
              "      <td>1</td>\n",
              "      <td>nyc, new york, usa</td>\n",
              "      <td>NaN</td>\n",
              "    </tr>\n",
              "    <tr>\n",
              "      <th>1</th>\n",
              "      <td>2</td>\n",
              "      <td>stockton, california, usa</td>\n",
              "      <td>18.0</td>\n",
              "    </tr>\n",
              "    <tr>\n",
              "      <th>2</th>\n",
              "      <td>3</td>\n",
              "      <td>moscow, yukon territory, russia</td>\n",
              "      <td>NaN</td>\n",
              "    </tr>\n",
              "    <tr>\n",
              "      <th>3</th>\n",
              "      <td>4</td>\n",
              "      <td>porto, v.n.gaia, portugal</td>\n",
              "      <td>17.0</td>\n",
              "    </tr>\n",
              "    <tr>\n",
              "      <th>4</th>\n",
              "      <td>5</td>\n",
              "      <td>farnborough, hants, united kingdom</td>\n",
              "      <td>NaN</td>\n",
              "    </tr>\n",
              "  </tbody>\n",
              "</table>\n",
              "</div>"
            ],
            "text/plain": [
              "   userId                            location   age\n",
              "0       1                  nyc, new york, usa   NaN\n",
              "1       2           stockton, california, usa  18.0\n",
              "2       3     moscow, yukon territory, russia   NaN\n",
              "3       4           porto, v.n.gaia, portugal  17.0\n",
              "4       5  farnborough, hants, united kingdom   NaN"
            ]
          },
          "metadata": {
            "tags": []
          },
          "execution_count": 9
        }
      ]
    },
    {
      "metadata": {
        "id": "fwblV96-klbN",
        "colab_type": "code",
        "outputId": "8512b262-3cad-4017-eeee-04a5458515bf",
        "colab": {
          "base_uri": "https://localhost:8080/",
          "height": 150
        }
      },
      "cell_type": "code",
      "source": [
        "books = pd.read_csv('/content/gdrive/My Drive/data/bookCrossing/BX-Books.csv', delimiter=\";\", encoding=\"latin-1\", error_bad_lines=False)\n",
        "books.columns = ['ISBN', 'bookTitle', 'bookAuthor', 'yearOfPublication', 'publisher', 'imageURLS', 'imageURLM', 'imageURLL']"
      ],
      "execution_count": 0,
      "outputs": [
        {
          "output_type": "stream",
          "text": [
            "b'Skipping line 6452: expected 8 fields, saw 9\\nSkipping line 43667: expected 8 fields, saw 10\\nSkipping line 51751: expected 8 fields, saw 9\\n'\n",
            "b'Skipping line 92038: expected 8 fields, saw 9\\nSkipping line 104319: expected 8 fields, saw 9\\nSkipping line 121768: expected 8 fields, saw 9\\n'\n",
            "b'Skipping line 144058: expected 8 fields, saw 9\\nSkipping line 150789: expected 8 fields, saw 9\\nSkipping line 157128: expected 8 fields, saw 9\\nSkipping line 180189: expected 8 fields, saw 9\\nSkipping line 185738: expected 8 fields, saw 9\\n'\n",
            "b'Skipping line 209388: expected 8 fields, saw 9\\nSkipping line 220626: expected 8 fields, saw 9\\nSkipping line 227933: expected 8 fields, saw 11\\nSkipping line 228957: expected 8 fields, saw 10\\nSkipping line 245933: expected 8 fields, saw 9\\nSkipping line 251296: expected 8 fields, saw 9\\nSkipping line 259941: expected 8 fields, saw 9\\nSkipping line 261529: expected 8 fields, saw 9\\n'\n",
            "/usr/local/lib/python3.6/dist-packages/IPython/core/interactiveshell.py:2718: DtypeWarning: Columns (3) have mixed types. Specify dtype option on import or set low_memory=False.\n",
            "  interactivity=interactivity, compiler=compiler, result=result)\n"
          ],
          "name": "stderr"
        }
      ]
    },
    {
      "metadata": {
        "id": "J4qKDQ0_lOag",
        "colab_type": "code",
        "outputId": "6aa1d44e-f002-49ad-d0c1-1dc855269b8e",
        "colab": {
          "base_uri": "https://localhost:8080/",
          "height": 415
        }
      },
      "cell_type": "code",
      "source": [
        "books.head()"
      ],
      "execution_count": 0,
      "outputs": [
        {
          "output_type": "execute_result",
          "data": {
            "text/html": [
              "<div>\n",
              "<style scoped>\n",
              "    .dataframe tbody tr th:only-of-type {\n",
              "        vertical-align: middle;\n",
              "    }\n",
              "\n",
              "    .dataframe tbody tr th {\n",
              "        vertical-align: top;\n",
              "    }\n",
              "\n",
              "    .dataframe thead th {\n",
              "        text-align: right;\n",
              "    }\n",
              "</style>\n",
              "<table border=\"1\" class=\"dataframe\">\n",
              "  <thead>\n",
              "    <tr style=\"text-align: right;\">\n",
              "      <th></th>\n",
              "      <th>ISBN</th>\n",
              "      <th>bookTitle</th>\n",
              "      <th>bookAuthor</th>\n",
              "      <th>yearOfPublication</th>\n",
              "      <th>publisher</th>\n",
              "      <th>imageURLS</th>\n",
              "      <th>imageURLM</th>\n",
              "      <th>imageURLL</th>\n",
              "    </tr>\n",
              "  </thead>\n",
              "  <tbody>\n",
              "    <tr>\n",
              "      <th>0</th>\n",
              "      <td>0195153448</td>\n",
              "      <td>Classical Mythology</td>\n",
              "      <td>Mark P. O. Morford</td>\n",
              "      <td>2002</td>\n",
              "      <td>Oxford University Press</td>\n",
              "      <td>http://images.amazon.com/images/P/0195153448.0...</td>\n",
              "      <td>http://images.amazon.com/images/P/0195153448.0...</td>\n",
              "      <td>http://images.amazon.com/images/P/0195153448.0...</td>\n",
              "    </tr>\n",
              "    <tr>\n",
              "      <th>1</th>\n",
              "      <td>0002005018</td>\n",
              "      <td>Clara Callan</td>\n",
              "      <td>Richard Bruce Wright</td>\n",
              "      <td>2001</td>\n",
              "      <td>HarperFlamingo Canada</td>\n",
              "      <td>http://images.amazon.com/images/P/0002005018.0...</td>\n",
              "      <td>http://images.amazon.com/images/P/0002005018.0...</td>\n",
              "      <td>http://images.amazon.com/images/P/0002005018.0...</td>\n",
              "    </tr>\n",
              "    <tr>\n",
              "      <th>2</th>\n",
              "      <td>0060973129</td>\n",
              "      <td>Decision in Normandy</td>\n",
              "      <td>Carlo D'Este</td>\n",
              "      <td>1991</td>\n",
              "      <td>HarperPerennial</td>\n",
              "      <td>http://images.amazon.com/images/P/0060973129.0...</td>\n",
              "      <td>http://images.amazon.com/images/P/0060973129.0...</td>\n",
              "      <td>http://images.amazon.com/images/P/0060973129.0...</td>\n",
              "    </tr>\n",
              "    <tr>\n",
              "      <th>3</th>\n",
              "      <td>0374157065</td>\n",
              "      <td>Flu: The Story of the Great Influenza Pandemic...</td>\n",
              "      <td>Gina Bari Kolata</td>\n",
              "      <td>1999</td>\n",
              "      <td>Farrar Straus Giroux</td>\n",
              "      <td>http://images.amazon.com/images/P/0374157065.0...</td>\n",
              "      <td>http://images.amazon.com/images/P/0374157065.0...</td>\n",
              "      <td>http://images.amazon.com/images/P/0374157065.0...</td>\n",
              "    </tr>\n",
              "    <tr>\n",
              "      <th>4</th>\n",
              "      <td>0393045218</td>\n",
              "      <td>The Mummies of Urumchi</td>\n",
              "      <td>E. J. W. Barber</td>\n",
              "      <td>1999</td>\n",
              "      <td>W. W. Norton &amp;amp; Company</td>\n",
              "      <td>http://images.amazon.com/images/P/0393045218.0...</td>\n",
              "      <td>http://images.amazon.com/images/P/0393045218.0...</td>\n",
              "      <td>http://images.amazon.com/images/P/0393045218.0...</td>\n",
              "    </tr>\n",
              "  </tbody>\n",
              "</table>\n",
              "</div>"
            ],
            "text/plain": [
              "         ISBN                                          bookTitle  \\\n",
              "0  0195153448                                Classical Mythology   \n",
              "1  0002005018                                       Clara Callan   \n",
              "2  0060973129                               Decision in Normandy   \n",
              "3  0374157065  Flu: The Story of the Great Influenza Pandemic...   \n",
              "4  0393045218                             The Mummies of Urumchi   \n",
              "\n",
              "             bookAuthor yearOfPublication                   publisher  \\\n",
              "0    Mark P. O. Morford              2002     Oxford University Press   \n",
              "1  Richard Bruce Wright              2001       HarperFlamingo Canada   \n",
              "2          Carlo D'Este              1991             HarperPerennial   \n",
              "3      Gina Bari Kolata              1999        Farrar Straus Giroux   \n",
              "4       E. J. W. Barber              1999  W. W. Norton &amp; Company   \n",
              "\n",
              "                                           imageURLS  \\\n",
              "0  http://images.amazon.com/images/P/0195153448.0...   \n",
              "1  http://images.amazon.com/images/P/0002005018.0...   \n",
              "2  http://images.amazon.com/images/P/0060973129.0...   \n",
              "3  http://images.amazon.com/images/P/0374157065.0...   \n",
              "4  http://images.amazon.com/images/P/0393045218.0...   \n",
              "\n",
              "                                           imageURLM  \\\n",
              "0  http://images.amazon.com/images/P/0195153448.0...   \n",
              "1  http://images.amazon.com/images/P/0002005018.0...   \n",
              "2  http://images.amazon.com/images/P/0060973129.0...   \n",
              "3  http://images.amazon.com/images/P/0374157065.0...   \n",
              "4  http://images.amazon.com/images/P/0393045218.0...   \n",
              "\n",
              "                                           imageURLL  \n",
              "0  http://images.amazon.com/images/P/0195153448.0...  \n",
              "1  http://images.amazon.com/images/P/0002005018.0...  \n",
              "2  http://images.amazon.com/images/P/0060973129.0...  \n",
              "3  http://images.amazon.com/images/P/0374157065.0...  \n",
              "4  http://images.amazon.com/images/P/0393045218.0...  "
            ]
          },
          "metadata": {
            "tags": []
          },
          "execution_count": 11
        }
      ]
    },
    {
      "metadata": {
        "id": "-ddZtFaOYaa6",
        "colab_type": "code",
        "outputId": "fc1b6610-dde9-4a01-d0ba-919967325f6c",
        "colab": {
          "base_uri": "https://localhost:8080/",
          "height": 74
        }
      },
      "cell_type": "code",
      "source": [
        "print(ratings.shape)\n",
        "print(users.shape)\n",
        "print(books.shape)\n"
      ],
      "execution_count": 0,
      "outputs": [
        {
          "output_type": "stream",
          "text": [
            "(1149780, 3)\n",
            "(278858, 3)\n",
            "(271360, 8)\n"
          ],
          "name": "stdout"
        }
      ]
    },
    {
      "metadata": {
        "id": "UuAuds91b3HO",
        "colab_type": "text"
      },
      "cell_type": "markdown",
      "source": [
        "Do we need the images column in Books? Probably not."
      ]
    },
    {
      "metadata": {
        "id": "d1tGoaG1b2NL",
        "colab_type": "code",
        "colab": {}
      },
      "cell_type": "code",
      "source": [
        "books.drop(['imageURLS','imageURLM','imageURLL'], axis=1, inplace=True)"
      ],
      "execution_count": 0,
      "outputs": []
    },
    {
      "metadata": {
        "id": "2VnxugpxfIVL",
        "colab_type": "code",
        "outputId": "41f6cf4a-fa97-4885-e60e-5cf1be4fa5fe",
        "colab": {
          "base_uri": "https://localhost:8080/",
          "height": 206
        }
      },
      "cell_type": "code",
      "source": [
        "books.head()"
      ],
      "execution_count": 0,
      "outputs": [
        {
          "output_type": "execute_result",
          "data": {
            "text/html": [
              "<div>\n",
              "<style scoped>\n",
              "    .dataframe tbody tr th:only-of-type {\n",
              "        vertical-align: middle;\n",
              "    }\n",
              "\n",
              "    .dataframe tbody tr th {\n",
              "        vertical-align: top;\n",
              "    }\n",
              "\n",
              "    .dataframe thead th {\n",
              "        text-align: right;\n",
              "    }\n",
              "</style>\n",
              "<table border=\"1\" class=\"dataframe\">\n",
              "  <thead>\n",
              "    <tr style=\"text-align: right;\">\n",
              "      <th></th>\n",
              "      <th>ISBN</th>\n",
              "      <th>bookTitle</th>\n",
              "      <th>bookAuthor</th>\n",
              "      <th>yearOfPublication</th>\n",
              "      <th>publisher</th>\n",
              "    </tr>\n",
              "  </thead>\n",
              "  <tbody>\n",
              "    <tr>\n",
              "      <th>0</th>\n",
              "      <td>0195153448</td>\n",
              "      <td>Classical Mythology</td>\n",
              "      <td>Mark P. O. Morford</td>\n",
              "      <td>2002</td>\n",
              "      <td>Oxford University Press</td>\n",
              "    </tr>\n",
              "    <tr>\n",
              "      <th>1</th>\n",
              "      <td>0002005018</td>\n",
              "      <td>Clara Callan</td>\n",
              "      <td>Richard Bruce Wright</td>\n",
              "      <td>2001</td>\n",
              "      <td>HarperFlamingo Canada</td>\n",
              "    </tr>\n",
              "    <tr>\n",
              "      <th>2</th>\n",
              "      <td>0060973129</td>\n",
              "      <td>Decision in Normandy</td>\n",
              "      <td>Carlo D'Este</td>\n",
              "      <td>1991</td>\n",
              "      <td>HarperPerennial</td>\n",
              "    </tr>\n",
              "    <tr>\n",
              "      <th>3</th>\n",
              "      <td>0374157065</td>\n",
              "      <td>Flu: The Story of the Great Influenza Pandemic...</td>\n",
              "      <td>Gina Bari Kolata</td>\n",
              "      <td>1999</td>\n",
              "      <td>Farrar Straus Giroux</td>\n",
              "    </tr>\n",
              "    <tr>\n",
              "      <th>4</th>\n",
              "      <td>0393045218</td>\n",
              "      <td>The Mummies of Urumchi</td>\n",
              "      <td>E. J. W. Barber</td>\n",
              "      <td>1999</td>\n",
              "      <td>W. W. Norton &amp;amp; Company</td>\n",
              "    </tr>\n",
              "  </tbody>\n",
              "</table>\n",
              "</div>"
            ],
            "text/plain": [
              "         ISBN                                          bookTitle  \\\n",
              "0  0195153448                                Classical Mythology   \n",
              "1  0002005018                                       Clara Callan   \n",
              "2  0060973129                               Decision in Normandy   \n",
              "3  0374157065  Flu: The Story of the Great Influenza Pandemic...   \n",
              "4  0393045218                             The Mummies of Urumchi   \n",
              "\n",
              "             bookAuthor yearOfPublication                   publisher  \n",
              "0    Mark P. O. Morford              2002     Oxford University Press  \n",
              "1  Richard Bruce Wright              2001       HarperFlamingo Canada  \n",
              "2          Carlo D'Este              1991             HarperPerennial  \n",
              "3      Gina Bari Kolata              1999        Farrar Straus Giroux  \n",
              "4       E. J. W. Barber              1999  W. W. Norton &amp; Company  "
            ]
          },
          "metadata": {
            "tags": []
          },
          "execution_count": 14
        }
      ]
    },
    {
      "metadata": {
        "id": "WAiJt0zPrYHp",
        "colab_type": "text"
      },
      "cell_type": "markdown",
      "source": [
        "**DATA WRANGLING**"
      ]
    },
    {
      "metadata": {
        "id": "nkR5TUrYfg8-",
        "colab_type": "text"
      },
      "cell_type": "markdown",
      "source": [
        "Let's check the Data Types... \n"
      ]
    },
    {
      "metadata": {
        "id": "om-_iaB_fgIN",
        "colab_type": "code",
        "outputId": "14f7ab35-6da1-4225-afdf-164f6f05fd7e",
        "colab": {
          "base_uri": "https://localhost:8080/",
          "height": 92
        }
      },
      "cell_type": "code",
      "source": [
        "ratings.dtypes"
      ],
      "execution_count": 0,
      "outputs": [
        {
          "output_type": "execute_result",
          "data": {
            "text/plain": [
              "userId         int64\n",
              "ISBN          object\n",
              "bookRating     int64\n",
              "dtype: object"
            ]
          },
          "metadata": {
            "tags": []
          },
          "execution_count": 15
        }
      ]
    },
    {
      "metadata": {
        "id": "vOqUAxuHlBA3",
        "colab_type": "code",
        "colab": {}
      },
      "cell_type": "code",
      "source": [
        "pd.set_option('display.max_colwidth', -1)"
      ],
      "execution_count": 0,
      "outputs": []
    },
    {
      "metadata": {
        "id": "5g6NsJRCjvke",
        "colab_type": "code",
        "outputId": "fbb7ac8e-1025-4a3d-b255-274d0abd11e4",
        "colab": {
          "base_uri": "https://localhost:8080/",
          "height": 36
        }
      },
      "cell_type": "code",
      "source": [
        "ratings['bookRating'].unique()"
      ],
      "execution_count": 0,
      "outputs": [
        {
          "output_type": "execute_result",
          "data": {
            "text/plain": [
              "array([ 0,  5,  3,  6,  8,  7, 10,  9,  4,  1,  2])"
            ]
          },
          "metadata": {
            "tags": []
          },
          "execution_count": 17
        }
      ]
    },
    {
      "metadata": {
        "id": "9rgORuj1rlpc",
        "colab_type": "code",
        "outputId": "460d2c11-0698-47d8-c9bf-01bcca75315d",
        "colab": {
          "base_uri": "https://localhost:8080/",
          "height": 92
        }
      },
      "cell_type": "code",
      "source": [
        "users.dtypes"
      ],
      "execution_count": 0,
      "outputs": [
        {
          "output_type": "execute_result",
          "data": {
            "text/plain": [
              "userId      int64  \n",
              "location    object \n",
              "age         float64\n",
              "dtype: object"
            ]
          },
          "metadata": {
            "tags": []
          },
          "execution_count": 18
        }
      ]
    },
    {
      "metadata": {
        "id": "zrjsuiG9rrlZ",
        "colab_type": "code",
        "outputId": "be93589a-f079-41a3-ed96-7da1a247921c",
        "colab": {
          "base_uri": "https://localhost:8080/",
          "height": 130
        }
      },
      "cell_type": "code",
      "source": [
        "books.dtypes\n"
      ],
      "execution_count": 0,
      "outputs": [
        {
          "output_type": "execute_result",
          "data": {
            "text/plain": [
              "ISBN                 object\n",
              "bookTitle            object\n",
              "bookAuthor           object\n",
              "yearOfPublication    object\n",
              "publisher            object\n",
              "dtype: object"
            ]
          },
          "metadata": {
            "tags": []
          },
          "execution_count": 19
        }
      ]
    },
    {
      "metadata": {
        "id": "2455-ehotj3l",
        "colab_type": "text"
      },
      "cell_type": "markdown",
      "source": [
        "For Data wrangling, I will follow some of the steps used by Chhavi Saluja, in: [TowardsDataScience](https://towardsdatascience.com/my-journey-to-building-book-recommendation-system-5ec959c41847)"
      ]
    },
    {
      "metadata": {
        "id": "qVaht6-Jr6GZ",
        "colab_type": "code",
        "outputId": "886a2478-1f05-4ddd-e697-85748b6c0bf9",
        "colab": {
          "base_uri": "https://localhost:8080/",
          "height": 451
        }
      },
      "cell_type": "code",
      "source": [
        "books.yearOfPublication.unique()"
      ],
      "execution_count": 0,
      "outputs": [
        {
          "output_type": "execute_result",
          "data": {
            "text/plain": [
              "array([2002, 2001, 1991, 1999, 2000, 1993, 1996, 1988, 2004, 1998, 1994,\n",
              "       2003, 1997, 1983, 1979, 1995, 1982, 1985, 1992, 1986, 1978, 1980,\n",
              "       1952, 1987, 1990, 1981, 1989, 1984, 0, 1968, 1961, 1958, 1974,\n",
              "       1976, 1971, 1977, 1975, 1965, 1941, 1970, 1962, 1973, 1972, 1960,\n",
              "       1966, 1920, 1956, 1959, 1953, 1951, 1942, 1963, 1964, 1969, 1954,\n",
              "       1950, 1967, 2005, 1957, 1940, 1937, 1955, 1946, 1936, 1930, 2011,\n",
              "       1925, 1948, 1943, 1947, 1945, 1923, 2020, 1939, 1926, 1938, 2030,\n",
              "       1911, 1904, 1949, 1932, 1928, 1929, 1927, 1931, 1914, 2050, 1934,\n",
              "       1910, 1933, 1902, 1924, 1921, 1900, 2038, 2026, 1944, 1917, 1901,\n",
              "       2010, 1908, 1906, 1935, 1806, 2021, '2000', '1995', '1999', '2004',\n",
              "       '2003', '1990', '1994', '1986', '1989', '2002', '1981', '1993',\n",
              "       '1983', '1982', '1976', '1991', '1977', '1998', '1992', '1996',\n",
              "       '0', '1997', '2001', '1974', '1968', '1987', '1984', '1988',\n",
              "       '1963', '1956', '1970', '1985', '1978', '1973', '1980', '1979',\n",
              "       '1975', '1969', '1961', '1965', '1939', '1958', '1950', '1953',\n",
              "       '1966', '1971', '1959', '1972', '1955', '1957', '1945', '1960',\n",
              "       '1967', '1932', '1924', '1964', '2012', '1911', '1927', '1948',\n",
              "       '1962', '2006', '1952', '1940', '1951', '1931', '1954', '2005',\n",
              "       '1930', '1941', '1944', 'DK Publishing Inc', '1943', '1938',\n",
              "       '1900', '1942', '1923', '1920', '1933', 'Gallimard', '1909',\n",
              "       '1946', '2008', '1378', '2030', '1936', '1947', '2011', '2020',\n",
              "       '1919', '1949', '1922', '1897', '2024', '1376', '1926', '2037'],\n",
              "      dtype=object)"
            ]
          },
          "metadata": {
            "tags": []
          },
          "execution_count": 20
        }
      ]
    },
    {
      "metadata": {
        "id": "EA9AHbLTJLKW",
        "colab_type": "text"
      },
      "cell_type": "markdown",
      "source": [
        "The Types are mixed, between Integers and Strings... Must set one type. Then there are wrong Data, in that they have set Publisher instead of year of publication 'Dk Publishing' and ''Gallimard'. There are also some numbers that make no sense...like 0, # > 2004... Need to take care of them also."
      ]
    },
    {
      "metadata": {
        "id": "9wMDtFzkIy8g",
        "colab_type": "code",
        "outputId": "840bb24b-355e-43dc-ebd3-fb6d2cf6b996",
        "colab": {
          "base_uri": "https://localhost:8080/",
          "height": 147
        }
      },
      "cell_type": "code",
      "source": [
        "books.loc[books.yearOfPublication == 'DK Publishing Inc',:]"
      ],
      "execution_count": 0,
      "outputs": [
        {
          "output_type": "execute_result",
          "data": {
            "text/html": [
              "<div>\n",
              "<style scoped>\n",
              "    .dataframe tbody tr th:only-of-type {\n",
              "        vertical-align: middle;\n",
              "    }\n",
              "\n",
              "    .dataframe tbody tr th {\n",
              "        vertical-align: top;\n",
              "    }\n",
              "\n",
              "    .dataframe thead th {\n",
              "        text-align: right;\n",
              "    }\n",
              "</style>\n",
              "<table border=\"1\" class=\"dataframe\">\n",
              "  <thead>\n",
              "    <tr style=\"text-align: right;\">\n",
              "      <th></th>\n",
              "      <th>ISBN</th>\n",
              "      <th>bookTitle</th>\n",
              "      <th>bookAuthor</th>\n",
              "      <th>yearOfPublication</th>\n",
              "      <th>publisher</th>\n",
              "    </tr>\n",
              "  </thead>\n",
              "  <tbody>\n",
              "    <tr>\n",
              "      <th>209538</th>\n",
              "      <td>078946697X</td>\n",
              "      <td>DK Readers: Creating the X-Men, How It All Began (Level 4: Proficient Readers)\\\";Michael Teitelbaum\"</td>\n",
              "      <td>2000</td>\n",
              "      <td>DK Publishing Inc</td>\n",
              "      <td>http://images.amazon.com/images/P/078946697X.01.THUMBZZZ.jpg</td>\n",
              "    </tr>\n",
              "    <tr>\n",
              "      <th>221678</th>\n",
              "      <td>0789466953</td>\n",
              "      <td>DK Readers: Creating the X-Men, How Comic Books Come to Life (Level 4: Proficient Readers)\\\";James Buckley\"</td>\n",
              "      <td>2000</td>\n",
              "      <td>DK Publishing Inc</td>\n",
              "      <td>http://images.amazon.com/images/P/0789466953.01.THUMBZZZ.jpg</td>\n",
              "    </tr>\n",
              "  </tbody>\n",
              "</table>\n",
              "</div>"
            ],
            "text/plain": [
              "              ISBN  \\\n",
              "209538  078946697X   \n",
              "221678  0789466953   \n",
              "\n",
              "                                                                                                          bookTitle  \\\n",
              "209538  DK Readers: Creating the X-Men, How It All Began (Level 4: Proficient Readers)\\\";Michael Teitelbaum\"          \n",
              "221678  DK Readers: Creating the X-Men, How Comic Books Come to Life (Level 4: Proficient Readers)\\\";James Buckley\"   \n",
              "\n",
              "       bookAuthor  yearOfPublication  \\\n",
              "209538  2000       DK Publishing Inc   \n",
              "221678  2000       DK Publishing Inc   \n",
              "\n",
              "                                                           publisher  \n",
              "209538  http://images.amazon.com/images/P/078946697X.01.THUMBZZZ.jpg  \n",
              "221678  http://images.amazon.com/images/P/0789466953.01.THUMBZZZ.jpg  "
            ]
          },
          "metadata": {
            "tags": []
          },
          "execution_count": 21
        }
      ]
    },
    {
      "metadata": {
        "id": "SUL52CLVNp4n",
        "colab_type": "code",
        "colab": {}
      },
      "cell_type": "code",
      "source": [
        "books.loc[books.ISBN == '078946697X','yearOfPublication'] = 2000\n",
        "books.loc[books.ISBN == '078946697X','bookAuthor'] = \"Michael Teitelbaum\"\n",
        "books.loc[books.ISBN == '078946697X','publisher'] = \"DK Publishing Inc\"\n",
        "\n"
      ],
      "execution_count": 0,
      "outputs": []
    },
    {
      "metadata": {
        "id": "eCullCcBPCWq",
        "colab_type": "code",
        "colab": {}
      },
      "cell_type": "code",
      "source": [
        "books.loc[books.ISBN == '0789466953', 'yearOfPublication'] = 2000\n",
        "books.loc[books.ISBN == '0789466953', 'bookAuthor'] = \"James Buckley\"\n",
        "books.loc[books.ISBN == '0789466953', 'publisher'] = \"DK Publishing Inc\""
      ],
      "execution_count": 0,
      "outputs": []
    },
    {
      "metadata": {
        "id": "IK936XN1MxcP",
        "colab_type": "code",
        "outputId": "41e78611-5d81-418c-d95e-5179805ee7b9",
        "colab": {
          "base_uri": "https://localhost:8080/",
          "height": 98
        }
      },
      "cell_type": "code",
      "source": [
        "books.loc[books.yearOfPublication == 'Gallimard']"
      ],
      "execution_count": 0,
      "outputs": [
        {
          "output_type": "execute_result",
          "data": {
            "text/html": [
              "<div>\n",
              "<style scoped>\n",
              "    .dataframe tbody tr th:only-of-type {\n",
              "        vertical-align: middle;\n",
              "    }\n",
              "\n",
              "    .dataframe tbody tr th {\n",
              "        vertical-align: top;\n",
              "    }\n",
              "\n",
              "    .dataframe thead th {\n",
              "        text-align: right;\n",
              "    }\n",
              "</style>\n",
              "<table border=\"1\" class=\"dataframe\">\n",
              "  <thead>\n",
              "    <tr style=\"text-align: right;\">\n",
              "      <th></th>\n",
              "      <th>ISBN</th>\n",
              "      <th>bookTitle</th>\n",
              "      <th>bookAuthor</th>\n",
              "      <th>yearOfPublication</th>\n",
              "      <th>publisher</th>\n",
              "    </tr>\n",
              "  </thead>\n",
              "  <tbody>\n",
              "    <tr>\n",
              "      <th>220731</th>\n",
              "      <td>2070426769</td>\n",
              "      <td>Peuple du ciel, suivi de 'Les Bergers\\\";Jean-Marie Gustave Le ClÃ?Â©zio\"</td>\n",
              "      <td>2003</td>\n",
              "      <td>Gallimard</td>\n",
              "      <td>http://images.amazon.com/images/P/2070426769.01.THUMBZZZ.jpg</td>\n",
              "    </tr>\n",
              "  </tbody>\n",
              "</table>\n",
              "</div>"
            ],
            "text/plain": [
              "              ISBN  \\\n",
              "220731  2070426769   \n",
              "\n",
              "                                                                       bookTitle  \\\n",
              "220731  Peuple du ciel, suivi de 'Les Bergers\\\";Jean-Marie Gustave Le ClÃ?Â©zio\"   \n",
              "\n",
              "       bookAuthor yearOfPublication  \\\n",
              "220731  2003       Gallimard          \n",
              "\n",
              "                                                           publisher  \n",
              "220731  http://images.amazon.com/images/P/2070426769.01.THUMBZZZ.jpg  "
            ]
          },
          "metadata": {
            "tags": []
          },
          "execution_count": 24
        }
      ]
    },
    {
      "metadata": {
        "id": "le8IrzlxRpZj",
        "colab_type": "code",
        "colab": {}
      },
      "cell_type": "code",
      "source": [
        "books.loc[books.ISBN == '2070426769','yearOfPublication'] = 2003\n",
        "books.loc[books.ISBN == '2070426769','bookAuthor'] = 'Jean-Marie Gustave Le ClÃ?Â©zio'\n",
        "books.loc[books.ISBN == '2070426769','publisher'] = 'Gallimard'"
      ],
      "execution_count": 0,
      "outputs": []
    },
    {
      "metadata": {
        "id": "mt80HYp5TY0R",
        "colab_type": "code",
        "colab": {}
      },
      "cell_type": "code",
      "source": [
        "books.yearOfPublication = pd.to_numeric(books.yearOfPublication)"
      ],
      "execution_count": 0,
      "outputs": []
    },
    {
      "metadata": {
        "id": "2b7WY7PdsWE7",
        "colab_type": "code",
        "outputId": "dc3e72f8-1458-4106-a834-17f57bc3b5a1",
        "colab": {
          "base_uri": "https://localhost:8080/",
          "height": 2206
        }
      },
      "cell_type": "code",
      "source": [
        "sorted(books['yearOfPublication'].unique())"
      ],
      "execution_count": 0,
      "outputs": [
        {
          "output_type": "execute_result",
          "data": {
            "text/plain": [
              "[0,\n",
              " 1376,\n",
              " 1378,\n",
              " 1806,\n",
              " 1897,\n",
              " 1900,\n",
              " 1901,\n",
              " 1902,\n",
              " 1904,\n",
              " 1906,\n",
              " 1908,\n",
              " 1909,\n",
              " 1910,\n",
              " 1911,\n",
              " 1914,\n",
              " 1917,\n",
              " 1919,\n",
              " 1920,\n",
              " 1921,\n",
              " 1922,\n",
              " 1923,\n",
              " 1924,\n",
              " 1925,\n",
              " 1926,\n",
              " 1927,\n",
              " 1928,\n",
              " 1929,\n",
              " 1930,\n",
              " 1931,\n",
              " 1932,\n",
              " 1933,\n",
              " 1934,\n",
              " 1935,\n",
              " 1936,\n",
              " 1937,\n",
              " 1938,\n",
              " 1939,\n",
              " 1940,\n",
              " 1941,\n",
              " 1942,\n",
              " 1943,\n",
              " 1944,\n",
              " 1945,\n",
              " 1946,\n",
              " 1947,\n",
              " 1948,\n",
              " 1949,\n",
              " 1950,\n",
              " 1951,\n",
              " 1952,\n",
              " 1953,\n",
              " 1954,\n",
              " 1955,\n",
              " 1956,\n",
              " 1957,\n",
              " 1958,\n",
              " 1959,\n",
              " 1960,\n",
              " 1961,\n",
              " 1962,\n",
              " 1963,\n",
              " 1964,\n",
              " 1965,\n",
              " 1966,\n",
              " 1967,\n",
              " 1968,\n",
              " 1969,\n",
              " 1970,\n",
              " 1971,\n",
              " 1972,\n",
              " 1973,\n",
              " 1974,\n",
              " 1975,\n",
              " 1976,\n",
              " 1977,\n",
              " 1978,\n",
              " 1979,\n",
              " 1980,\n",
              " 1981,\n",
              " 1982,\n",
              " 1983,\n",
              " 1984,\n",
              " 1985,\n",
              " 1986,\n",
              " 1987,\n",
              " 1988,\n",
              " 1989,\n",
              " 1990,\n",
              " 1991,\n",
              " 1992,\n",
              " 1993,\n",
              " 1994,\n",
              " 1995,\n",
              " 1996,\n",
              " 1997,\n",
              " 1998,\n",
              " 1999,\n",
              " 2000,\n",
              " 2001,\n",
              " 2002,\n",
              " 2003,\n",
              " 2004,\n",
              " 2005,\n",
              " 2006,\n",
              " 2008,\n",
              " 2010,\n",
              " 2011,\n",
              " 2012,\n",
              " 2020,\n",
              " 2021,\n",
              " 2024,\n",
              " 2026,\n",
              " 2030,\n",
              " 2037,\n",
              " 2038,\n",
              " 2050]"
            ]
          },
          "metadata": {
            "tags": []
          },
          "execution_count": 27
        }
      ]
    },
    {
      "metadata": {
        "id": "ZuWc8wpQVKqg",
        "colab_type": "code",
        "outputId": "0815f20d-39d3-4f26-f565-4112fc9b5bee",
        "colab": {
          "base_uri": "https://localhost:8080/",
          "height": 2027
        }
      },
      "cell_type": "code",
      "source": [
        "books.loc[books.yearOfPublication == 0,:]"
      ],
      "execution_count": 0,
      "outputs": [
        {
          "output_type": "execute_result",
          "data": {
            "text/html": [
              "<div>\n",
              "<style scoped>\n",
              "    .dataframe tbody tr th:only-of-type {\n",
              "        vertical-align: middle;\n",
              "    }\n",
              "\n",
              "    .dataframe tbody tr th {\n",
              "        vertical-align: top;\n",
              "    }\n",
              "\n",
              "    .dataframe thead th {\n",
              "        text-align: right;\n",
              "    }\n",
              "</style>\n",
              "<table border=\"1\" class=\"dataframe\">\n",
              "  <thead>\n",
              "    <tr style=\"text-align: right;\">\n",
              "      <th></th>\n",
              "      <th>ISBN</th>\n",
              "      <th>bookTitle</th>\n",
              "      <th>bookAuthor</th>\n",
              "      <th>yearOfPublication</th>\n",
              "      <th>publisher</th>\n",
              "    </tr>\n",
              "  </thead>\n",
              "  <tbody>\n",
              "    <tr>\n",
              "      <th>176</th>\n",
              "      <td>3150000335</td>\n",
              "      <td>Kabale Und Liebe</td>\n",
              "      <td>Schiller</td>\n",
              "      <td>0</td>\n",
              "      <td>Philipp Reclam, Jun Verlag GmbH</td>\n",
              "    </tr>\n",
              "    <tr>\n",
              "      <th>188</th>\n",
              "      <td>342311360X</td>\n",
              "      <td>Die Liebe in Den Zelten</td>\n",
              "      <td>Gabriel Garcia Marquez</td>\n",
              "      <td>0</td>\n",
              "      <td>Deutscher Taschenbuch Verlag (DTV)</td>\n",
              "    </tr>\n",
              "    <tr>\n",
              "      <th>288</th>\n",
              "      <td>0571197639</td>\n",
              "      <td>Poisonwood Bible Edition Uk</td>\n",
              "      <td>Barbara Kingsolver</td>\n",
              "      <td>0</td>\n",
              "      <td>Faber Faber Inc</td>\n",
              "    </tr>\n",
              "    <tr>\n",
              "      <th>351</th>\n",
              "      <td>3596214629</td>\n",
              "      <td>Herr Der Fliegen (Fiction, Poetry and Drama)</td>\n",
              "      <td>Golding</td>\n",
              "      <td>0</td>\n",
              "      <td>Fischer Taschenbuch Verlag GmbH</td>\n",
              "    </tr>\n",
              "    <tr>\n",
              "      <th>542</th>\n",
              "      <td>8845229041</td>\n",
              "      <td>Biblioteca Universale Rizzoli: Sulla Sponda Del Fiume Piedra</td>\n",
              "      <td>P Coelho</td>\n",
              "      <td>0</td>\n",
              "      <td>Fabbri - RCS Libri</td>\n",
              "    </tr>\n",
              "    <tr>\n",
              "      <th>641</th>\n",
              "      <td>0345251733</td>\n",
              "      <td>Rainbow the Stormy Life of Judy Garland</td>\n",
              "      <td>Christopher Finch</td>\n",
              "      <td>0</td>\n",
              "      <td>Ballantine Books</td>\n",
              "    </tr>\n",
              "    <tr>\n",
              "      <th>646</th>\n",
              "      <td>0590021117</td>\n",
              "      <td>Little House On the Prairie</td>\n",
              "      <td>Laura Ingall Wilder</td>\n",
              "      <td>0</td>\n",
              "      <td>Scholastic Inc</td>\n",
              "    </tr>\n",
              "    <tr>\n",
              "      <th>728</th>\n",
              "      <td>2070362388</td>\n",
              "      <td>Ravage</td>\n",
              "      <td>Rene Barjavel</td>\n",
              "      <td>0</td>\n",
              "      <td>Gallimard French</td>\n",
              "    </tr>\n",
              "    <tr>\n",
              "      <th>732</th>\n",
              "      <td>2266033689</td>\n",
              "      <td>Le Diable Au Corps</td>\n",
              "      <td>Raymond Radiguet</td>\n",
              "      <td>0</td>\n",
              "      <td>Presses Pocket French</td>\n",
              "    </tr>\n",
              "    <tr>\n",
              "      <th>735</th>\n",
              "      <td>2070334368</td>\n",
              "      <td>La Guerre Des Boutons</td>\n",
              "      <td>Pergaud</td>\n",
              "      <td>0</td>\n",
              "      <td>Livre de Poche</td>\n",
              "    </tr>\n",
              "    <tr>\n",
              "      <th>797</th>\n",
              "      <td>0718144538</td>\n",
              "      <td>Shattered Uk</td>\n",
              "      <td>Dick Francis</td>\n",
              "      <td>0</td>\n",
              "      <td>Michael Joseph Ltd</td>\n",
              "    </tr>\n",
              "    <tr>\n",
              "      <th>810</th>\n",
              "      <td>0349101779</td>\n",
              "      <td>The Wasp Factory</td>\n",
              "      <td>Iain Banks</td>\n",
              "      <td>0</td>\n",
              "      <td>Abacus</td>\n",
              "    </tr>\n",
              "    <tr>\n",
              "      <th>820</th>\n",
              "      <td>1860198597</td>\n",
              "      <td>How to Draw Celtic Knotwork: A Practical Handbook</td>\n",
              "      <td>Andy Sloss</td>\n",
              "      <td>0</td>\n",
              "      <td>Brockhampton Press</td>\n",
              "    </tr>\n",
              "    <tr>\n",
              "      <th>924</th>\n",
              "      <td>0753804700</td>\n",
              "      <td>Reader</td>\n",
              "      <td>Bernhard Schlink</td>\n",
              "      <td>0</td>\n",
              "      <td>Phoenix Books</td>\n",
              "    </tr>\n",
              "    <tr>\n",
              "      <th>1058</th>\n",
              "      <td>3473540420</td>\n",
              "      <td>Das Kurze Leben Der Sophie Scholl (Fiction, Poetry and Drama)</td>\n",
              "      <td>Vinke</td>\n",
              "      <td>0</td>\n",
              "      <td>Ravensburger Buchverlag Otto Maier GmbH</td>\n",
              "    </tr>\n",
              "    <tr>\n",
              "      <th>1095</th>\n",
              "      <td>1566193966</td>\n",
              "      <td>History of Croatia</td>\n",
              "      <td>Stephen Gazi</td>\n",
              "      <td>0</td>\n",
              "      <td>Barnes Noble Books</td>\n",
              "    </tr>\n",
              "    <tr>\n",
              "      <th>1165</th>\n",
              "      <td>3423009152</td>\n",
              "      <td>Der Geteilte Himmel</td>\n",
              "      <td>Christa Wolf</td>\n",
              "      <td>0</td>\n",
              "      <td>Deutscher Taschenbuch Verlag</td>\n",
              "    </tr>\n",
              "    <tr>\n",
              "      <th>1227</th>\n",
              "      <td>0140620338</td>\n",
              "      <td>Picture of Dorian Gray</td>\n",
              "      <td>Oscar Wilde</td>\n",
              "      <td>0</td>\n",
              "      <td>Penguin Putnam~mass</td>\n",
              "    </tr>\n",
              "    <tr>\n",
              "      <th>1253</th>\n",
              "      <td>0571200389</td>\n",
              "      <td>Golden Gate</td>\n",
              "      <td>Vikram Seth</td>\n",
              "      <td>0</td>\n",
              "      <td>Faber Faber Inc</td>\n",
              "    </tr>\n",
              "    <tr>\n",
              "      <th>1261</th>\n",
              "      <td>000649840X</td>\n",
              "      <td>Angelas Ashes</td>\n",
              "      <td>Frank Mccourt</td>\n",
              "      <td>0</td>\n",
              "      <td>Harpercollins Uk</td>\n",
              "    </tr>\n",
              "    <tr>\n",
              "      <th>1263</th>\n",
              "      <td>0099771519</td>\n",
              "      <td>Memoirs of a Geisha Uk</td>\n",
              "      <td>Arthur Golden</td>\n",
              "      <td>0</td>\n",
              "      <td>Trafalgar Square</td>\n",
              "    </tr>\n",
              "    <tr>\n",
              "      <th>1381</th>\n",
              "      <td>0552996009</td>\n",
              "      <td>Notes From a Small Planet</td>\n",
              "      <td>Bill Bryson</td>\n",
              "      <td>0</td>\n",
              "      <td>Bantam Doubleday Dell</td>\n",
              "    </tr>\n",
              "    <tr>\n",
              "      <th>1390</th>\n",
              "      <td>0855030224</td>\n",
              "      <td>An ABC for You and Me</td>\n",
              "      <td>Margaret Tempest</td>\n",
              "      <td>0</td>\n",
              "      <td>The Medici Society Ltd</td>\n",
              "    </tr>\n",
              "    <tr>\n",
              "      <th>1448</th>\n",
              "      <td>1566197155</td>\n",
              "      <td>Little Princess</td>\n",
              "      <td>Frances Hodgson Burnett</td>\n",
              "      <td>0</td>\n",
              "      <td>Barnes Noble Books</td>\n",
              "    </tr>\n",
              "    <tr>\n",
              "      <th>1623</th>\n",
              "      <td>2070363104</td>\n",
              "      <td>Histoires Extraordinaires</td>\n",
              "      <td>Edgar Allan Poe</td>\n",
              "      <td>0</td>\n",
              "      <td>Gallimard French</td>\n",
              "    </tr>\n",
              "    <tr>\n",
              "      <th>1631</th>\n",
              "      <td>2266000489</td>\n",
              "      <td>La Nuit Des Temps</td>\n",
              "      <td>Rene Barjavel</td>\n",
              "      <td>0</td>\n",
              "      <td>Presses De La Cite French</td>\n",
              "    </tr>\n",
              "    <tr>\n",
              "      <th>1637</th>\n",
              "      <td>0307177092</td>\n",
              "      <td>Peters Welcom Tell a Tale Book</td>\n",
              "      <td>Maida Silverman</td>\n",
              "      <td>0</td>\n",
              "      <td>Golden Books</td>\n",
              "    </tr>\n",
              "    <tr>\n",
              "      <th>1734</th>\n",
              "      <td>3518368540</td>\n",
              "      <td>Homo Faber</td>\n",
              "      <td>Max Frisch</td>\n",
              "      <td>0</td>\n",
              "      <td>Distribooks Int'l+inc</td>\n",
              "    </tr>\n",
              "    <tr>\n",
              "      <th>1743</th>\n",
              "      <td>0450542912</td>\n",
              "      <td>Rain Uk</td>\n",
              "      <td>Stephen Gallagher</td>\n",
              "      <td>0</td>\n",
              "      <td>Trafalgar Square</td>\n",
              "    </tr>\n",
              "    <tr>\n",
              "      <th>1814</th>\n",
              "      <td>0684821192</td>\n",
              "      <td>Ramses the Son of Light</td>\n",
              "      <td>Christian Jacq</td>\n",
              "      <td>0</td>\n",
              "      <td>Simon Schuster Trade</td>\n",
              "    </tr>\n",
              "    <tr>\n",
              "      <th>...</th>\n",
              "      <td>...</td>\n",
              "      <td>...</td>\n",
              "      <td>...</td>\n",
              "      <td>...</td>\n",
              "      <td>...</td>\n",
              "    </tr>\n",
              "    <tr>\n",
              "      <th>268819</th>\n",
              "      <td>2038700648</td>\n",
              "      <td>Les Miserables 1*</td>\n",
              "      <td>Hugo</td>\n",
              "      <td>0</td>\n",
              "      <td>Editions Larousse</td>\n",
              "    </tr>\n",
              "    <tr>\n",
              "      <th>268820</th>\n",
              "      <td>2038700656</td>\n",
              "      <td>Les Miserables 2*</td>\n",
              "      <td>Hugo</td>\n",
              "      <td>0</td>\n",
              "      <td>Editions Larousse</td>\n",
              "    </tr>\n",
              "    <tr>\n",
              "      <th>268822</th>\n",
              "      <td>2070360172</td>\n",
              "      <td>Le Rouge Et Le Noir</td>\n",
              "      <td>Stendhal</td>\n",
              "      <td>0</td>\n",
              "      <td>Folio</td>\n",
              "    </tr>\n",
              "    <tr>\n",
              "      <th>268824</th>\n",
              "      <td>2253034304</td>\n",
              "      <td>Les Allumettes Suedoises</td>\n",
              "      <td>Robert Sabatier</td>\n",
              "      <td>0</td>\n",
              "      <td>Livre De Poche French</td>\n",
              "    </tr>\n",
              "    <tr>\n",
              "      <th>269023</th>\n",
              "      <td>1579900445</td>\n",
              "      <td>Weekend Crafter Painting Glass</td>\n",
              "      <td>Moira Neal</td>\n",
              "      <td>0</td>\n",
              "      <td>Lark Books(sterling Publ Co</td>\n",
              "    </tr>\n",
              "    <tr>\n",
              "      <th>269031</th>\n",
              "      <td>1858370116</td>\n",
              "      <td>Soups and Starters the Country Kitchen</td>\n",
              "      <td>Anne Chapman</td>\n",
              "      <td>0</td>\n",
              "      <td>Aidc</td>\n",
              "    </tr>\n",
              "    <tr>\n",
              "      <th>269386</th>\n",
              "      <td>0965455130</td>\n",
              "      <td>Me Five Years From Now the Life Planning</td>\n",
              "      <td>Sheree Bykofsky</td>\n",
              "      <td>0</td>\n",
              "      <td>Hyperion</td>\n",
              "    </tr>\n",
              "    <tr>\n",
              "      <th>269663</th>\n",
              "      <td>0345277074</td>\n",
              "      <td>Bridge at Remagen Prem</td>\n",
              "      <td>Ken Hechler</td>\n",
              "      <td>0</td>\n",
              "      <td>Ballantine Books</td>\n",
              "    </tr>\n",
              "    <tr>\n",
              "      <th>269834</th>\n",
              "      <td>2070334384</td>\n",
              "      <td>Le Poney Rouge</td>\n",
              "      <td>Steinbeck</td>\n",
              "      <td>0</td>\n",
              "      <td>Livre de Poche</td>\n",
              "    </tr>\n",
              "    <tr>\n",
              "      <th>269840</th>\n",
              "      <td>2277125180</td>\n",
              "      <td>Maxime Ou La Dechirure</td>\n",
              "      <td>F Groult</td>\n",
              "      <td>0</td>\n",
              "      <td>Editions 84</td>\n",
              "    </tr>\n",
              "    <tr>\n",
              "      <th>269841</th>\n",
              "      <td>2277211745</td>\n",
              "      <td>Ni Tout a Fait La Meme Ni Tout a Fait Une Autre</td>\n",
              "      <td>F Groult</td>\n",
              "      <td>0</td>\n",
              "      <td>Editions 84</td>\n",
              "    </tr>\n",
              "    <tr>\n",
              "      <th>269962</th>\n",
              "      <td>3442075750</td>\n",
              "      <td>Effi Briest</td>\n",
              "      <td>Fontane</td>\n",
              "      <td>0</td>\n",
              "      <td>Wilhelm Goldmann Verlag GmbH</td>\n",
              "    </tr>\n",
              "    <tr>\n",
              "      <th>270247</th>\n",
              "      <td>0760702535</td>\n",
              "      <td>Cthulu Mythos</td>\n",
              "      <td>August Derleth</td>\n",
              "      <td>0</td>\n",
              "      <td>Barnes Noble Books</td>\n",
              "    </tr>\n",
              "    <tr>\n",
              "      <th>270312</th>\n",
              "      <td>1852791578</td>\n",
              "      <td>Your First Kitten (Your First...series)</td>\n",
              "      <td>Marianne Mays</td>\n",
              "      <td>0</td>\n",
              "      <td>TFH Publications</td>\n",
              "    </tr>\n",
              "    <tr>\n",
              "      <th>270320</th>\n",
              "      <td>0713715200</td>\n",
              "      <td>American Filmmakers Today</td>\n",
              "      <td>Dian Smith</td>\n",
              "      <td>0</td>\n",
              "      <td>Sterling*+ Publishing Company</td>\n",
              "    </tr>\n",
              "    <tr>\n",
              "      <th>270358</th>\n",
              "      <td>3126752004</td>\n",
              "      <td>Wirtschaft Im Ohr - Level 1: Ubungsbuch 1</td>\n",
              "      <td>Dondoux-Liberge</td>\n",
              "      <td>0</td>\n",
              "      <td>Ernst Klett Verlag GmbH</td>\n",
              "    </tr>\n",
              "    <tr>\n",
              "      <th>270359</th>\n",
              "      <td>3126752020</td>\n",
              "      <td>Wirtschaft Im Ohr - Level 1: Cassetten 1 (2)</td>\n",
              "      <td>Dondoux-Liberge</td>\n",
              "      <td>0</td>\n",
              "      <td>Ernst Klett Verlag GmbH</td>\n",
              "    </tr>\n",
              "    <tr>\n",
              "      <th>270360</th>\n",
              "      <td>3126752055</td>\n",
              "      <td>Wirtschaft Im Ohr - Level 2: Cassette 2</td>\n",
              "      <td>Dondoux-Liberge</td>\n",
              "      <td>0</td>\n",
              "      <td>Ernst Klett Verlag GmbH</td>\n",
              "    </tr>\n",
              "    <tr>\n",
              "      <th>270374</th>\n",
              "      <td>0553026828</td>\n",
              "      <td>Dissertation</td>\n",
              "      <td>R M Koster</td>\n",
              "      <td>0</td>\n",
              "      <td>Bantam Doubleday Dell</td>\n",
              "    </tr>\n",
              "    <tr>\n",
              "      <th>270397</th>\n",
              "      <td>0517209802</td>\n",
              "      <td>Christmas Memories With Recipes</td>\n",
              "      <td>Compilation</td>\n",
              "      <td>0</td>\n",
              "      <td>Random House</td>\n",
              "    </tr>\n",
              "    <tr>\n",
              "      <th>270484</th>\n",
              "      <td>0571204163</td>\n",
              "      <td>Headlong</td>\n",
              "      <td>Michael Frayn</td>\n",
              "      <td>0</td>\n",
              "      <td>Faber Faber Inc</td>\n",
              "    </tr>\n",
              "    <tr>\n",
              "      <th>270524</th>\n",
              "      <td>0747512302</td>\n",
              "      <td>Clockers</td>\n",
              "      <td>Richard Price</td>\n",
              "      <td>0</td>\n",
              "      <td>Bloomsbury Pub Ltd, London</td>\n",
              "    </tr>\n",
              "    <tr>\n",
              "      <th>270637</th>\n",
              "      <td>0710510683</td>\n",
              "      <td>Stories to Treasure</td>\n",
              "      <td>Haddock Peter</td>\n",
              "      <td>0</td>\n",
              "      <td>Peter Haddock</td>\n",
              "    </tr>\n",
              "    <tr>\n",
              "      <th>270679</th>\n",
              "      <td>0752841092</td>\n",
              "      <td>The Ex-files</td>\n",
              "      <td>Jane Moore</td>\n",
              "      <td>0</td>\n",
              "      <td>Orion mass market paperback</td>\n",
              "    </tr>\n",
              "    <tr>\n",
              "      <th>270777</th>\n",
              "      <td>207036318X</td>\n",
              "      <td>Trou</td>\n",
              "      <td>Jose Giovanni</td>\n",
              "      <td>0</td>\n",
              "      <td>Gallimard French</td>\n",
              "    </tr>\n",
              "    <tr>\n",
              "      <th>270794</th>\n",
              "      <td>014029953X</td>\n",
              "      <td>Foe (Essential.penguin S.)</td>\n",
              "      <td>J.M. Coetzee</td>\n",
              "      <td>0</td>\n",
              "      <td>Penguin Books Ltd</td>\n",
              "    </tr>\n",
              "    <tr>\n",
              "      <th>270913</th>\n",
              "      <td>0340571187</td>\n",
              "      <td>Postmens House</td>\n",
              "      <td>Maggie Hemingway</td>\n",
              "      <td>0</td>\n",
              "      <td>Trafalgar Square</td>\n",
              "    </tr>\n",
              "    <tr>\n",
              "      <th>271094</th>\n",
              "      <td>8427201079</td>\n",
              "      <td>El Misterio De Sittaford</td>\n",
              "      <td>Agatha Christie</td>\n",
              "      <td>0</td>\n",
              "      <td>Editorial Molino</td>\n",
              "    </tr>\n",
              "    <tr>\n",
              "      <th>271182</th>\n",
              "      <td>0887781721</td>\n",
              "      <td>Tom Penny</td>\n",
              "      <td>Tony German</td>\n",
              "      <td>0</td>\n",
              "      <td>P. Martin Associates</td>\n",
              "    </tr>\n",
              "    <tr>\n",
              "      <th>271196</th>\n",
              "      <td>3150013763</td>\n",
              "      <td>Der Hofmeister</td>\n",
              "      <td>Jakob Lenz</td>\n",
              "      <td>0</td>\n",
              "      <td>Philipp Reclam, Jun Verlag GmbH</td>\n",
              "    </tr>\n",
              "  </tbody>\n",
              "</table>\n",
              "<p>4618 rows × 5 columns</p>\n",
              "</div>"
            ],
            "text/plain": [
              "              ISBN  \\\n",
              "176     3150000335   \n",
              "188     342311360X   \n",
              "288     0571197639   \n",
              "351     3596214629   \n",
              "542     8845229041   \n",
              "641     0345251733   \n",
              "646     0590021117   \n",
              "728     2070362388   \n",
              "732     2266033689   \n",
              "735     2070334368   \n",
              "797     0718144538   \n",
              "810     0349101779   \n",
              "820     1860198597   \n",
              "924     0753804700   \n",
              "1058    3473540420   \n",
              "1095    1566193966   \n",
              "1165    3423009152   \n",
              "1227    0140620338   \n",
              "1253    0571200389   \n",
              "1261    000649840X   \n",
              "1263    0099771519   \n",
              "1381    0552996009   \n",
              "1390    0855030224   \n",
              "1448    1566197155   \n",
              "1623    2070363104   \n",
              "1631    2266000489   \n",
              "1637    0307177092   \n",
              "1734    3518368540   \n",
              "1743    0450542912   \n",
              "1814    0684821192   \n",
              "...            ...   \n",
              "268819  2038700648   \n",
              "268820  2038700656   \n",
              "268822  2070360172   \n",
              "268824  2253034304   \n",
              "269023  1579900445   \n",
              "269031  1858370116   \n",
              "269386  0965455130   \n",
              "269663  0345277074   \n",
              "269834  2070334384   \n",
              "269840  2277125180   \n",
              "269841  2277211745   \n",
              "269962  3442075750   \n",
              "270247  0760702535   \n",
              "270312  1852791578   \n",
              "270320  0713715200   \n",
              "270358  3126752004   \n",
              "270359  3126752020   \n",
              "270360  3126752055   \n",
              "270374  0553026828   \n",
              "270397  0517209802   \n",
              "270484  0571204163   \n",
              "270524  0747512302   \n",
              "270637  0710510683   \n",
              "270679  0752841092   \n",
              "270777  207036318X   \n",
              "270794  014029953X   \n",
              "270913  0340571187   \n",
              "271094  8427201079   \n",
              "271182  0887781721   \n",
              "271196  3150013763   \n",
              "\n",
              "                                                            bookTitle  \\\n",
              "176     Kabale Und Liebe                                                \n",
              "188     Die Liebe in Den Zelten                                         \n",
              "288     Poisonwood Bible Edition Uk                                     \n",
              "351     Herr Der Fliegen (Fiction, Poetry and Drama)                    \n",
              "542     Biblioteca Universale Rizzoli: Sulla Sponda Del Fiume Piedra    \n",
              "641     Rainbow the Stormy Life of Judy Garland                         \n",
              "646     Little House On the Prairie                                     \n",
              "728     Ravage                                                          \n",
              "732     Le Diable Au Corps                                              \n",
              "735     La Guerre Des Boutons                                           \n",
              "797     Shattered Uk                                                    \n",
              "810     The Wasp Factory                                                \n",
              "820     How to Draw Celtic Knotwork: A Practical Handbook               \n",
              "924     Reader                                                          \n",
              "1058    Das Kurze Leben Der Sophie Scholl (Fiction, Poetry and Drama)   \n",
              "1095    History of Croatia                                              \n",
              "1165    Der Geteilte Himmel                                             \n",
              "1227    Picture of Dorian Gray                                          \n",
              "1253    Golden Gate                                                     \n",
              "1261    Angelas Ashes                                                   \n",
              "1263    Memoirs of a Geisha Uk                                          \n",
              "1381    Notes From a Small Planet                                       \n",
              "1390    An ABC for You and Me                                           \n",
              "1448    Little Princess                                                 \n",
              "1623    Histoires Extraordinaires                                       \n",
              "1631    La Nuit Des Temps                                               \n",
              "1637    Peters Welcom Tell a Tale Book                                  \n",
              "1734    Homo Faber                                                      \n",
              "1743    Rain Uk                                                         \n",
              "1814    Ramses the Son of Light                                         \n",
              "...                         ...                                         \n",
              "268819  Les Miserables 1*                                               \n",
              "268820  Les Miserables 2*                                               \n",
              "268822  Le Rouge Et Le Noir                                             \n",
              "268824  Les Allumettes Suedoises                                        \n",
              "269023  Weekend Crafter Painting Glass                                  \n",
              "269031  Soups and Starters the Country Kitchen                          \n",
              "269386  Me Five Years From Now the Life Planning                        \n",
              "269663  Bridge at Remagen Prem                                          \n",
              "269834  Le Poney Rouge                                                  \n",
              "269840  Maxime Ou La Dechirure                                          \n",
              "269841  Ni Tout a Fait La Meme Ni Tout a Fait Une Autre                 \n",
              "269962  Effi Briest                                                     \n",
              "270247  Cthulu Mythos                                                   \n",
              "270312  Your First Kitten (Your First...series)                         \n",
              "270320  American Filmmakers Today                                       \n",
              "270358  Wirtschaft Im Ohr - Level 1: Ubungsbuch 1                       \n",
              "270359  Wirtschaft Im Ohr - Level 1: Cassetten 1 (2)                    \n",
              "270360  Wirtschaft Im Ohr - Level 2: Cassette 2                         \n",
              "270374  Dissertation                                                    \n",
              "270397  Christmas Memories With Recipes                                 \n",
              "270484  Headlong                                                        \n",
              "270524  Clockers                                                        \n",
              "270637  Stories to Treasure                                             \n",
              "270679  The Ex-files                                                    \n",
              "270777  Trou                                                            \n",
              "270794  Foe (Essential.penguin S.)                                      \n",
              "270913  Postmens House                                                  \n",
              "271094  El Misterio De Sittaford                                        \n",
              "271182  Tom Penny                                                       \n",
              "271196  Der Hofmeister                                                  \n",
              "\n",
              "                     bookAuthor  yearOfPublication  \\\n",
              "176     Schiller                 0                   \n",
              "188     Gabriel Garcia Marquez   0                   \n",
              "288     Barbara Kingsolver       0                   \n",
              "351     Golding                  0                   \n",
              "542     P Coelho                 0                   \n",
              "641     Christopher Finch        0                   \n",
              "646     Laura Ingall Wilder      0                   \n",
              "728     Rene Barjavel            0                   \n",
              "732     Raymond Radiguet         0                   \n",
              "735     Pergaud                  0                   \n",
              "797     Dick Francis             0                   \n",
              "810     Iain Banks               0                   \n",
              "820     Andy Sloss               0                   \n",
              "924     Bernhard Schlink         0                   \n",
              "1058    Vinke                    0                   \n",
              "1095    Stephen Gazi             0                   \n",
              "1165    Christa Wolf             0                   \n",
              "1227    Oscar Wilde              0                   \n",
              "1253    Vikram Seth              0                   \n",
              "1261    Frank Mccourt            0                   \n",
              "1263    Arthur Golden            0                   \n",
              "1381    Bill Bryson              0                   \n",
              "1390    Margaret Tempest         0                   \n",
              "1448    Frances Hodgson Burnett  0                   \n",
              "1623    Edgar Allan Poe          0                   \n",
              "1631    Rene Barjavel            0                   \n",
              "1637    Maida Silverman          0                   \n",
              "1734    Max Frisch               0                   \n",
              "1743    Stephen Gallagher        0                   \n",
              "1814    Christian Jacq           0                   \n",
              "...                ...          ..                   \n",
              "268819  Hugo                     0                   \n",
              "268820  Hugo                     0                   \n",
              "268822  Stendhal                 0                   \n",
              "268824  Robert Sabatier          0                   \n",
              "269023  Moira Neal               0                   \n",
              "269031  Anne Chapman             0                   \n",
              "269386  Sheree Bykofsky          0                   \n",
              "269663  Ken Hechler              0                   \n",
              "269834  Steinbeck                0                   \n",
              "269840  F Groult                 0                   \n",
              "269841  F Groult                 0                   \n",
              "269962  Fontane                  0                   \n",
              "270247  August Derleth           0                   \n",
              "270312  Marianne Mays            0                   \n",
              "270320  Dian Smith               0                   \n",
              "270358  Dondoux-Liberge          0                   \n",
              "270359  Dondoux-Liberge          0                   \n",
              "270360  Dondoux-Liberge          0                   \n",
              "270374  R M Koster               0                   \n",
              "270397  Compilation              0                   \n",
              "270484  Michael Frayn            0                   \n",
              "270524  Richard Price            0                   \n",
              "270637  Haddock Peter            0                   \n",
              "270679  Jane Moore               0                   \n",
              "270777  Jose Giovanni            0                   \n",
              "270794  J.M. Coetzee             0                   \n",
              "270913  Maggie Hemingway         0                   \n",
              "271094  Agatha Christie          0                   \n",
              "271182  Tony German              0                   \n",
              "271196  Jakob Lenz               0                   \n",
              "\n",
              "                                      publisher  \n",
              "176     Philipp Reclam, Jun Verlag GmbH          \n",
              "188     Deutscher Taschenbuch Verlag (DTV)       \n",
              "288     Faber Faber Inc                          \n",
              "351     Fischer Taschenbuch Verlag GmbH          \n",
              "542     Fabbri - RCS Libri                       \n",
              "641     Ballantine Books                         \n",
              "646     Scholastic Inc                           \n",
              "728     Gallimard French                         \n",
              "732     Presses Pocket French                    \n",
              "735     Livre de Poche                           \n",
              "797     Michael Joseph Ltd                       \n",
              "810     Abacus                                   \n",
              "820     Brockhampton Press                       \n",
              "924     Phoenix Books                            \n",
              "1058    Ravensburger Buchverlag Otto Maier GmbH  \n",
              "1095    Barnes Noble Books                       \n",
              "1165    Deutscher Taschenbuch Verlag             \n",
              "1227    Penguin Putnam~mass                      \n",
              "1253    Faber Faber Inc                          \n",
              "1261    Harpercollins Uk                         \n",
              "1263    Trafalgar Square                         \n",
              "1381    Bantam Doubleday Dell                    \n",
              "1390    The Medici Society Ltd                   \n",
              "1448    Barnes Noble Books                       \n",
              "1623    Gallimard French                         \n",
              "1631    Presses De La Cite French                \n",
              "1637    Golden Books                             \n",
              "1734    Distribooks Int'l+inc                    \n",
              "1743    Trafalgar Square                         \n",
              "1814    Simon Schuster Trade                     \n",
              "...                      ...                     \n",
              "268819  Editions Larousse                        \n",
              "268820  Editions Larousse                        \n",
              "268822  Folio                                    \n",
              "268824  Livre De Poche French                    \n",
              "269023  Lark Books(sterling Publ Co              \n",
              "269031  Aidc                                     \n",
              "269386  Hyperion                                 \n",
              "269663  Ballantine Books                         \n",
              "269834  Livre de Poche                           \n",
              "269840  Editions 84                              \n",
              "269841  Editions 84                              \n",
              "269962  Wilhelm Goldmann Verlag GmbH             \n",
              "270247  Barnes Noble Books                       \n",
              "270312  TFH Publications                         \n",
              "270320  Sterling*+ Publishing Company            \n",
              "270358  Ernst Klett Verlag GmbH                  \n",
              "270359  Ernst Klett Verlag GmbH                  \n",
              "270360  Ernst Klett Verlag GmbH                  \n",
              "270374  Bantam Doubleday Dell                    \n",
              "270397  Random House                             \n",
              "270484  Faber Faber Inc                          \n",
              "270524  Bloomsbury Pub Ltd, London               \n",
              "270637  Peter Haddock                            \n",
              "270679  Orion mass market paperback              \n",
              "270777  Gallimard French                         \n",
              "270794  Penguin Books Ltd                        \n",
              "270913  Trafalgar Square                         \n",
              "271094  Editorial Molino                         \n",
              "271182  P. Martin Associates                     \n",
              "271196  Philipp Reclam, Jun Verlag GmbH          \n",
              "\n",
              "[4618 rows x 5 columns]"
            ]
          },
          "metadata": {
            "tags": []
          },
          "execution_count": 28
        }
      ]
    },
    {
      "metadata": {
        "id": "R1SfPMpiVmiB",
        "colab_type": "text"
      },
      "cell_type": "markdown",
      "source": [
        "O.k. so there are a lot of books with yearOfPublication == 0. "
      ]
    },
    {
      "metadata": {
        "id": "kR-lX6o4U2dy",
        "colab_type": "code",
        "outputId": "ed821f3a-9e6d-4612-a389-0e828852ff44",
        "colab": {
          "base_uri": "https://localhost:8080/",
          "height": 81
        }
      },
      "cell_type": "code",
      "source": [
        "books.loc[books.yearOfPublication == 1376,:]\n"
      ],
      "execution_count": 0,
      "outputs": [
        {
          "output_type": "execute_result",
          "data": {
            "text/html": [
              "<div>\n",
              "<style scoped>\n",
              "    .dataframe tbody tr th:only-of-type {\n",
              "        vertical-align: middle;\n",
              "    }\n",
              "\n",
              "    .dataframe tbody tr th {\n",
              "        vertical-align: top;\n",
              "    }\n",
              "\n",
              "    .dataframe thead th {\n",
              "        text-align: right;\n",
              "    }\n",
              "</style>\n",
              "<table border=\"1\" class=\"dataframe\">\n",
              "  <thead>\n",
              "    <tr style=\"text-align: right;\">\n",
              "      <th></th>\n",
              "      <th>ISBN</th>\n",
              "      <th>bookTitle</th>\n",
              "      <th>bookAuthor</th>\n",
              "      <th>yearOfPublication</th>\n",
              "      <th>publisher</th>\n",
              "    </tr>\n",
              "  </thead>\n",
              "  <tbody>\n",
              "    <tr>\n",
              "      <th>253750</th>\n",
              "      <td>964442011X</td>\n",
              "      <td>Tasht-i khun</td>\n",
              "      <td>IsmaÂ°il Fasih</td>\n",
              "      <td>1376</td>\n",
              "      <td>Nashr-i Alburz</td>\n",
              "    </tr>\n",
              "  </tbody>\n",
              "</table>\n",
              "</div>"
            ],
            "text/plain": [
              "              ISBN     bookTitle      bookAuthor  yearOfPublication  \\\n",
              "253750  964442011X  Tasht-i khun  IsmaÂ°il Fasih  1376                \n",
              "\n",
              "             publisher  \n",
              "253750  Nashr-i Alburz  "
            ]
          },
          "metadata": {
            "tags": []
          },
          "execution_count": 29
        }
      ]
    },
    {
      "metadata": {
        "id": "pzpYUOptrUbN",
        "colab_type": "text"
      },
      "cell_type": "markdown",
      "source": [
        "O.k. So Now that we have the data ready... let's prepare our dataset, combining some parts of the three tables into one that means something, at least to me...?!"
      ]
    },
    {
      "metadata": {
        "id": "xs0dbOLBrlO3",
        "colab_type": "text"
      },
      "cell_type": "markdown",
      "source": [
        "Let's use Pandas merge function to merge the ratings table with parts of the book table... "
      ]
    },
    {
      "metadata": {
        "id": "K8gr6k6Fri79",
        "colab_type": "code",
        "colab": {}
      },
      "cell_type": "code",
      "source": [
        "rating_book = pd.merge(ratings, books, on='ISBN')"
      ],
      "execution_count": 0,
      "outputs": []
    },
    {
      "metadata": {
        "id": "-Dncqo73vgsz",
        "colab_type": "code",
        "outputId": "81800067-8345-4398-f962-6e711e07cfe1",
        "colab": {
          "base_uri": "https://localhost:8080/",
          "height": 206
        }
      },
      "cell_type": "code",
      "source": [
        "rating_book.head()"
      ],
      "execution_count": 0,
      "outputs": [
        {
          "output_type": "execute_result",
          "data": {
            "text/html": [
              "<div>\n",
              "<style scoped>\n",
              "    .dataframe tbody tr th:only-of-type {\n",
              "        vertical-align: middle;\n",
              "    }\n",
              "\n",
              "    .dataframe tbody tr th {\n",
              "        vertical-align: top;\n",
              "    }\n",
              "\n",
              "    .dataframe thead th {\n",
              "        text-align: right;\n",
              "    }\n",
              "</style>\n",
              "<table border=\"1\" class=\"dataframe\">\n",
              "  <thead>\n",
              "    <tr style=\"text-align: right;\">\n",
              "      <th></th>\n",
              "      <th>userId</th>\n",
              "      <th>ISBN</th>\n",
              "      <th>bookRating</th>\n",
              "      <th>bookTitle</th>\n",
              "      <th>bookAuthor</th>\n",
              "      <th>yearOfPublication</th>\n",
              "      <th>publisher</th>\n",
              "    </tr>\n",
              "  </thead>\n",
              "  <tbody>\n",
              "    <tr>\n",
              "      <th>0</th>\n",
              "      <td>276725</td>\n",
              "      <td>034545104X</td>\n",
              "      <td>0</td>\n",
              "      <td>Flesh Tones: A Novel</td>\n",
              "      <td>M. J. Rose</td>\n",
              "      <td>2002</td>\n",
              "      <td>Ballantine Books</td>\n",
              "    </tr>\n",
              "    <tr>\n",
              "      <th>1</th>\n",
              "      <td>2313</td>\n",
              "      <td>034545104X</td>\n",
              "      <td>5</td>\n",
              "      <td>Flesh Tones: A Novel</td>\n",
              "      <td>M. J. Rose</td>\n",
              "      <td>2002</td>\n",
              "      <td>Ballantine Books</td>\n",
              "    </tr>\n",
              "    <tr>\n",
              "      <th>2</th>\n",
              "      <td>6543</td>\n",
              "      <td>034545104X</td>\n",
              "      <td>0</td>\n",
              "      <td>Flesh Tones: A Novel</td>\n",
              "      <td>M. J. Rose</td>\n",
              "      <td>2002</td>\n",
              "      <td>Ballantine Books</td>\n",
              "    </tr>\n",
              "    <tr>\n",
              "      <th>3</th>\n",
              "      <td>8680</td>\n",
              "      <td>034545104X</td>\n",
              "      <td>5</td>\n",
              "      <td>Flesh Tones: A Novel</td>\n",
              "      <td>M. J. Rose</td>\n",
              "      <td>2002</td>\n",
              "      <td>Ballantine Books</td>\n",
              "    </tr>\n",
              "    <tr>\n",
              "      <th>4</th>\n",
              "      <td>10314</td>\n",
              "      <td>034545104X</td>\n",
              "      <td>9</td>\n",
              "      <td>Flesh Tones: A Novel</td>\n",
              "      <td>M. J. Rose</td>\n",
              "      <td>2002</td>\n",
              "      <td>Ballantine Books</td>\n",
              "    </tr>\n",
              "  </tbody>\n",
              "</table>\n",
              "</div>"
            ],
            "text/plain": [
              "   userId        ISBN  bookRating             bookTitle  bookAuthor  \\\n",
              "0  276725  034545104X  0           Flesh Tones: A Novel  M. J. Rose   \n",
              "1  2313    034545104X  5           Flesh Tones: A Novel  M. J. Rose   \n",
              "2  6543    034545104X  0           Flesh Tones: A Novel  M. J. Rose   \n",
              "3  8680    034545104X  5           Flesh Tones: A Novel  M. J. Rose   \n",
              "4  10314   034545104X  9           Flesh Tones: A Novel  M. J. Rose   \n",
              "\n",
              "   yearOfPublication         publisher  \n",
              "0  2002               Ballantine Books  \n",
              "1  2002               Ballantine Books  \n",
              "2  2002               Ballantine Books  \n",
              "3  2002               Ballantine Books  \n",
              "4  2002               Ballantine Books  "
            ]
          },
          "metadata": {
            "tags": []
          },
          "execution_count": 31
        }
      ]
    },
    {
      "metadata": {
        "id": "pPfQ61ZewAc7",
        "colab_type": "text"
      },
      "cell_type": "markdown",
      "source": [
        "Keep merging the Tables..."
      ]
    },
    {
      "metadata": {
        "id": "OZ_ygWMOwFQr",
        "colab_type": "code",
        "colab": {}
      },
      "cell_type": "code",
      "source": [
        "all_ratings = pd.merge(rating_book, users, on='userId')"
      ],
      "execution_count": 0,
      "outputs": []
    },
    {
      "metadata": {
        "id": "dC2iop5rxgha",
        "colab_type": "text"
      },
      "cell_type": "markdown",
      "source": [
        "**Check the new Data Set...**"
      ]
    },
    {
      "metadata": {
        "id": "54OJWUiJxk_Y",
        "colab_type": "code",
        "outputId": "2ec237a6-d390-4e23-c939-37a12a08df3a",
        "colab": {
          "base_uri": "https://localhost:8080/",
          "height": 293
        }
      },
      "cell_type": "code",
      "source": [
        "all_ratings.head()"
      ],
      "execution_count": 0,
      "outputs": [
        {
          "output_type": "execute_result",
          "data": {
            "text/html": [
              "<div>\n",
              "<style scoped>\n",
              "    .dataframe tbody tr th:only-of-type {\n",
              "        vertical-align: middle;\n",
              "    }\n",
              "\n",
              "    .dataframe tbody tr th {\n",
              "        vertical-align: top;\n",
              "    }\n",
              "\n",
              "    .dataframe thead th {\n",
              "        text-align: right;\n",
              "    }\n",
              "</style>\n",
              "<table border=\"1\" class=\"dataframe\">\n",
              "  <thead>\n",
              "    <tr style=\"text-align: right;\">\n",
              "      <th></th>\n",
              "      <th>userId</th>\n",
              "      <th>ISBN</th>\n",
              "      <th>bookRating</th>\n",
              "      <th>bookTitle</th>\n",
              "      <th>bookAuthor</th>\n",
              "      <th>yearOfPublication</th>\n",
              "      <th>publisher</th>\n",
              "      <th>location</th>\n",
              "      <th>age</th>\n",
              "    </tr>\n",
              "  </thead>\n",
              "  <tbody>\n",
              "    <tr>\n",
              "      <th>0</th>\n",
              "      <td>276725</td>\n",
              "      <td>034545104X</td>\n",
              "      <td>0</td>\n",
              "      <td>Flesh Tones: A Novel</td>\n",
              "      <td>M. J. Rose</td>\n",
              "      <td>2002</td>\n",
              "      <td>Ballantine Books</td>\n",
              "      <td>tyler, texas, usa</td>\n",
              "      <td>NaN</td>\n",
              "    </tr>\n",
              "    <tr>\n",
              "      <th>1</th>\n",
              "      <td>2313</td>\n",
              "      <td>034545104X</td>\n",
              "      <td>5</td>\n",
              "      <td>Flesh Tones: A Novel</td>\n",
              "      <td>M. J. Rose</td>\n",
              "      <td>2002</td>\n",
              "      <td>Ballantine Books</td>\n",
              "      <td>cincinnati, ohio, usa</td>\n",
              "      <td>23.0</td>\n",
              "    </tr>\n",
              "    <tr>\n",
              "      <th>2</th>\n",
              "      <td>2313</td>\n",
              "      <td>0812533550</td>\n",
              "      <td>9</td>\n",
              "      <td>Ender's Game (Ender Wiggins Saga (Paperback))</td>\n",
              "      <td>Orson Scott Card</td>\n",
              "      <td>1986</td>\n",
              "      <td>Tor Books</td>\n",
              "      <td>cincinnati, ohio, usa</td>\n",
              "      <td>23.0</td>\n",
              "    </tr>\n",
              "    <tr>\n",
              "      <th>3</th>\n",
              "      <td>2313</td>\n",
              "      <td>0679745580</td>\n",
              "      <td>8</td>\n",
              "      <td>In Cold Blood (Vintage International)</td>\n",
              "      <td>TRUMAN CAPOTE</td>\n",
              "      <td>1994</td>\n",
              "      <td>Vintage</td>\n",
              "      <td>cincinnati, ohio, usa</td>\n",
              "      <td>23.0</td>\n",
              "    </tr>\n",
              "    <tr>\n",
              "      <th>4</th>\n",
              "      <td>2313</td>\n",
              "      <td>0060173289</td>\n",
              "      <td>9</td>\n",
              "      <td>Divine Secrets of the Ya-Ya Sisterhood : A Novel</td>\n",
              "      <td>Rebecca Wells</td>\n",
              "      <td>1996</td>\n",
              "      <td>HarperCollins</td>\n",
              "      <td>cincinnati, ohio, usa</td>\n",
              "      <td>23.0</td>\n",
              "    </tr>\n",
              "  </tbody>\n",
              "</table>\n",
              "</div>"
            ],
            "text/plain": [
              "   userId        ISBN  bookRating  \\\n",
              "0  276725  034545104X  0            \n",
              "1  2313    034545104X  5            \n",
              "2  2313    0812533550  9            \n",
              "3  2313    0679745580  8            \n",
              "4  2313    0060173289  9            \n",
              "\n",
              "                                          bookTitle        bookAuthor  \\\n",
              "0  Flesh Tones: A Novel                              M. J. Rose         \n",
              "1  Flesh Tones: A Novel                              M. J. Rose         \n",
              "2  Ender's Game (Ender Wiggins Saga (Paperback))     Orson Scott Card   \n",
              "3  In Cold Blood (Vintage International)             TRUMAN CAPOTE      \n",
              "4  Divine Secrets of the Ya-Ya Sisterhood : A Novel  Rebecca Wells      \n",
              "\n",
              "   yearOfPublication         publisher               location   age  \n",
              "0  2002               Ballantine Books  tyler, texas, usa     NaN    \n",
              "1  2002               Ballantine Books  cincinnati, ohio, usa  23.0  \n",
              "2  1986               Tor Books         cincinnati, ohio, usa  23.0  \n",
              "3  1994               Vintage           cincinnati, ohio, usa  23.0  \n",
              "4  1996               HarperCollins     cincinnati, ohio, usa  23.0  "
            ]
          },
          "metadata": {
            "tags": []
          },
          "execution_count": 33
        }
      ]
    },
    {
      "metadata": {
        "id": "z-jdj5IueI5R",
        "colab_type": "text"
      },
      "cell_type": "markdown",
      "source": [
        "Let's do some visual understanding of the Data..."
      ]
    },
    {
      "metadata": {
        "id": "mF47ZnyAYGxP",
        "colab_type": "code",
        "colab": {}
      },
      "cell_type": "code",
      "source": [
        "import matplotlib.pyplot as plt\n",
        "import seaborn as sns"
      ],
      "execution_count": 0,
      "outputs": []
    },
    {
      "metadata": {
        "id": "7YPnrD35fjDy",
        "colab_type": "code",
        "outputId": "919a8774-27a3-4115-9f9e-969e23ddc559",
        "colab": {
          "base_uri": "https://localhost:8080/",
          "height": 419
        }
      },
      "cell_type": "code",
      "source": [
        "sns.countplot(all_ratings.bookRating)\n",
        "plt.show()"
      ],
      "execution_count": 0,
      "outputs": [
        {
          "output_type": "stream",
          "text": [
            "/usr/local/lib/python3.6/dist-packages/seaborn/categorical.py:1428: FutureWarning: remove_na is deprecated and is a private function. Do not use.\n",
            "  stat_data = remove_na(group_data)\n"
          ],
          "name": "stderr"
        },
        {
          "output_type": "display_data",
          "data": {
            "image/png": "[encoded data removed]",
            "text/plain": [
              "<matplotlib.figure.Figure at 0x7fdbed5e3518>"
            ]
          },
          "metadata": {
            "tags": []
          }
        }
      ]
    },
    {
      "metadata": {
        "id": "GKryxcdEjF6C",
        "colab_type": "text"
      },
      "cell_type": "markdown",
      "source": [
        "We can see that the Dataset has a high degree of Sparcity... Lot's of Cero's \n",
        "As taken from the Book-Crossing Dataset information: \n",
        "\n",
        "\"Ratings (`Book-Rating`) are either **explicit, expressed on a scale from 1-10 **(higher values denoting higher appreciation), or implicit, expressed by 0.\" We may segmentate the data, into a ratings_explicit dataset, and a ratings_implicit dataset."
      ]
    },
    {
      "metadata": {
        "id": "17vY2XX53D1G",
        "colab_type": "code",
        "colab": {}
      },
      "cell_type": "code",
      "source": [
        "#Segragating implicit and explict ratings datasets\n",
        "ratings_explicit = all_ratings[all_ratings.bookRating != 0]\n",
        "ratings_implicit = all_ratings[all_ratings.bookRating == 0]\n"
      ],
      "execution_count": 0,
      "outputs": []
    },
    {
      "metadata": {
        "id": "jSolOuJM3Tn-",
        "colab_type": "code",
        "outputId": "9a72b258-3edd-4313-dbf6-4e8fe77fba91",
        "colab": {
          "base_uri": "https://localhost:8080/",
          "height": 293
        }
      },
      "cell_type": "code",
      "source": [
        "ratings_explicit.head()\n",
        "\n"
      ],
      "execution_count": 0,
      "outputs": [
        {
          "output_type": "execute_result",
          "data": {
            "text/html": [
              "<div>\n",
              "<style scoped>\n",
              "    .dataframe tbody tr th:only-of-type {\n",
              "        vertical-align: middle;\n",
              "    }\n",
              "\n",
              "    .dataframe tbody tr th {\n",
              "        vertical-align: top;\n",
              "    }\n",
              "\n",
              "    .dataframe thead th {\n",
              "        text-align: right;\n",
              "    }\n",
              "</style>\n",
              "<table border=\"1\" class=\"dataframe\">\n",
              "  <thead>\n",
              "    <tr style=\"text-align: right;\">\n",
              "      <th></th>\n",
              "      <th>userId</th>\n",
              "      <th>ISBN</th>\n",
              "      <th>bookRating</th>\n",
              "      <th>bookTitle</th>\n",
              "      <th>bookAuthor</th>\n",
              "      <th>yearOfPublication</th>\n",
              "      <th>publisher</th>\n",
              "      <th>location</th>\n",
              "      <th>age</th>\n",
              "    </tr>\n",
              "  </thead>\n",
              "  <tbody>\n",
              "    <tr>\n",
              "      <th>1</th>\n",
              "      <td>2313</td>\n",
              "      <td>034545104X</td>\n",
              "      <td>5</td>\n",
              "      <td>Flesh Tones: A Novel</td>\n",
              "      <td>M. J. Rose</td>\n",
              "      <td>2002</td>\n",
              "      <td>Ballantine Books</td>\n",
              "      <td>cincinnati, ohio, usa</td>\n",
              "      <td>23.0</td>\n",
              "    </tr>\n",
              "    <tr>\n",
              "      <th>2</th>\n",
              "      <td>2313</td>\n",
              "      <td>0812533550</td>\n",
              "      <td>9</td>\n",
              "      <td>Ender's Game (Ender Wiggins Saga (Paperback))</td>\n",
              "      <td>Orson Scott Card</td>\n",
              "      <td>1986</td>\n",
              "      <td>Tor Books</td>\n",
              "      <td>cincinnati, ohio, usa</td>\n",
              "      <td>23.0</td>\n",
              "    </tr>\n",
              "    <tr>\n",
              "      <th>3</th>\n",
              "      <td>2313</td>\n",
              "      <td>0679745580</td>\n",
              "      <td>8</td>\n",
              "      <td>In Cold Blood (Vintage International)</td>\n",
              "      <td>TRUMAN CAPOTE</td>\n",
              "      <td>1994</td>\n",
              "      <td>Vintage</td>\n",
              "      <td>cincinnati, ohio, usa</td>\n",
              "      <td>23.0</td>\n",
              "    </tr>\n",
              "    <tr>\n",
              "      <th>4</th>\n",
              "      <td>2313</td>\n",
              "      <td>0060173289</td>\n",
              "      <td>9</td>\n",
              "      <td>Divine Secrets of the Ya-Ya Sisterhood : A Novel</td>\n",
              "      <td>Rebecca Wells</td>\n",
              "      <td>1996</td>\n",
              "      <td>HarperCollins</td>\n",
              "      <td>cincinnati, ohio, usa</td>\n",
              "      <td>23.0</td>\n",
              "    </tr>\n",
              "    <tr>\n",
              "      <th>5</th>\n",
              "      <td>2313</td>\n",
              "      <td>0385482388</td>\n",
              "      <td>5</td>\n",
              "      <td>The Mistress of Spices</td>\n",
              "      <td>Chitra Banerjee Divakaruni</td>\n",
              "      <td>1998</td>\n",
              "      <td>Anchor Books/Doubleday</td>\n",
              "      <td>cincinnati, ohio, usa</td>\n",
              "      <td>23.0</td>\n",
              "    </tr>\n",
              "  </tbody>\n",
              "</table>\n",
              "</div>"
            ],
            "text/plain": [
              "   userId        ISBN  bookRating  \\\n",
              "1  2313    034545104X  5            \n",
              "2  2313    0812533550  9            \n",
              "3  2313    0679745580  8            \n",
              "4  2313    0060173289  9            \n",
              "5  2313    0385482388  5            \n",
              "\n",
              "                                          bookTitle  \\\n",
              "1  Flesh Tones: A Novel                               \n",
              "2  Ender's Game (Ender Wiggins Saga (Paperback))      \n",
              "3  In Cold Blood (Vintage International)              \n",
              "4  Divine Secrets of the Ya-Ya Sisterhood : A Novel   \n",
              "5  The Mistress of Spices                             \n",
              "\n",
              "                   bookAuthor  yearOfPublication               publisher  \\\n",
              "1  M. J. Rose                  2002               Ballantine Books         \n",
              "2  Orson Scott Card            1986               Tor Books                \n",
              "3  TRUMAN CAPOTE               1994               Vintage                  \n",
              "4  Rebecca Wells               1996               HarperCollins            \n",
              "5  Chitra Banerjee Divakaruni  1998               Anchor Books/Doubleday   \n",
              "\n",
              "                location   age  \n",
              "1  cincinnati, ohio, usa  23.0  \n",
              "2  cincinnati, ohio, usa  23.0  \n",
              "3  cincinnati, ohio, usa  23.0  \n",
              "4  cincinnati, ohio, usa  23.0  \n",
              "5  cincinnati, ohio, usa  23.0  "
            ]
          },
          "metadata": {
            "tags": []
          },
          "execution_count": 37
        }
      ]
    },
    {
      "metadata": {
        "id": "jDSY_h3W4gyv",
        "colab_type": "code",
        "outputId": "1a7abcd5-b201-4298-94ef-09584fbd69e6",
        "colab": {
          "base_uri": "https://localhost:8080/",
          "height": 74
        }
      },
      "cell_type": "code",
      "source": [
        "print (all_ratings.shape)\n",
        "print (ratings_explicit.shape)\n",
        "print (ratings_implicit.shape)"
      ],
      "execution_count": 0,
      "outputs": [
        {
          "output_type": "stream",
          "text": [
            "(1031136, 9)\n",
            "(383842, 9)\n",
            "(647294, 9)\n"
          ],
          "name": "stdout"
        }
      ]
    },
    {
      "metadata": {
        "id": "PIFoeePNyYSE",
        "colab_type": "text"
      },
      "cell_type": "markdown",
      "source": [
        "O.K. Let's Rock n Roll! Time to check out the Data... with Deep Learning!\n",
        "Time to load up** Fast.ai** We can try two versions... one with all_ratings(Explicit, and Implicit), and see if it works, and another without the Implicit ratings... just using the explicit_ratings one... Then, we could in production keep making new ratings lots with books that were not rated and now are, and feed them back to our explicit_ratings learner data bunch... "
      ]
    },
    {
      "metadata": {
        "id": "-wa1LZxJxyks",
        "colab_type": "code",
        "colab": {}
      },
      "cell_type": "code",
      "source": [
        "from fastai import *\n",
        "from fastai.collab import *"
      ],
      "execution_count": 0,
      "outputs": []
    },
    {
      "metadata": {
        "id": "hZGcTf32ztiI",
        "colab_type": "text"
      },
      "cell_type": "markdown",
      "source": [
        "Create a CollabDataBunch with All_ratings..."
      ]
    },
    {
      "metadata": {
        "id": "q17N4VflzyPA",
        "colab_type": "code",
        "colab": {}
      },
      "cell_type": "code",
      "source": [
        "data = CollabDataBunch.from_df(all_ratings, seed=42, pct_val=0.1, item_name=\"bookTitle\")"
      ],
      "execution_count": 0,
      "outputs": []
    },
    {
      "metadata": {
        "id": "7vtznEzh1QC3",
        "colab_type": "code",
        "outputId": "c741e18f-1a44-4740-f146-712d5e205b41",
        "colab": {
          "base_uri": "https://localhost:8080/",
          "height": 541
        }
      },
      "cell_type": "code",
      "source": [
        "data.show_batch()"
      ],
      "execution_count": 0,
      "outputs": [
        {
          "output_type": "display_data",
          "data": {
            "text/html": [
              "<table>  <col width='10px'>  <col width='10px'>  <col width='10px'>  <tr>\n",
              "    <th>userId</th>\n",
              "    <th>bookTitle</th>\n",
              "    <th>target</th>\n",
              "  </tr>\n",
              "  <tr>\n",
              "    <th>89602</th>\n",
              "    <th>A Wild Sheep Chase: A Novel (Plume Contemporary Fiction)</th>\n",
              "    <th>7.0</th>\n",
              "  </tr>\n",
              "  <tr>\n",
              "    <th>278418</th>\n",
              "    <th>Dolores Claiborne</th>\n",
              "    <th>0.0</th>\n",
              "  </tr>\n",
              "  <tr>\n",
              "    <th>261829</th>\n",
              "    <th>The Cold One</th>\n",
              "    <th>0.0</th>\n",
              "  </tr>\n",
              "  <tr>\n",
              "    <th>50141</th>\n",
              "    <th>Thief of Souls</th>\n",
              "    <th>0.0</th>\n",
              "  </tr>\n",
              "  <tr>\n",
              "    <th>37208</th>\n",
              "    <th>On Her Doorstep</th>\n",
              "    <th>8.0</th>\n",
              "  </tr>\n",
              "  <tr>\n",
              "    <th>153662</th>\n",
              "    <th>Big Sky Lawman (Montana Mavericks) (Montana Mavericks)</th>\n",
              "    <th>0.0</th>\n",
              "  </tr>\n",
              "  <tr>\n",
              "    <th>161946</th>\n",
              "    <th>Charlie and the Chocolate Factory (Puffin Novels)</th>\n",
              "    <th>8.0</th>\n",
              "  </tr>\n",
              "  <tr>\n",
              "    <th>127429</th>\n",
              "    <th>RAMONA THE PEST (Ramona Quimby (Paperback))</th>\n",
              "    <th>0.0</th>\n",
              "  </tr>\n",
              "</table>\n"
            ],
            "text/plain": [
              "<IPython.core.display.HTML object>"
            ]
          },
          "metadata": {
            "tags": []
          }
        }
      ]
    },
    {
      "metadata": {
        "id": "uYwYEANN6SSY",
        "colab_type": "text"
      },
      "cell_type": "markdown",
      "source": [
        "Create a Collab_learner"
      ]
    },
    {
      "metadata": {
        "id": "y9ZXoU9WiWKQ",
        "colab_type": "code",
        "colab": {}
      },
      "cell_type": "code",
      "source": [
        "learn = collab_learner(data, n_factors=20,  y_range=(0.,10.0), wd=1e-1)"
      ],
      "execution_count": 0,
      "outputs": []
    },
    {
      "metadata": {
        "id": "jLrb5idCiWtd",
        "colab_type": "code",
        "outputId": "d537f721-22c6-4dd9-ab4d-4228c08fee05",
        "colab": {
          "base_uri": "https://localhost:8080/",
          "height": 112
        }
      },
      "cell_type": "code",
      "source": [
        "learn.lr_find()"
      ],
      "execution_count": 0,
      "outputs": [
        {
          "output_type": "display_data",
          "data": {
            "text/html": [
              "\n",
              "    <div>\n",
              "        <style>\n",
              "        \t/* Turns off some styling */\n",
              "        \tprogress {\n",
              "\n",
              "            \t/* gets rid of default border in Firefox and Opera. */\n",
              "            \tborder: none;\n",
              "\n",
              "            \t/* Needs to be in here for Safari polyfill so background images work as expected. */\n",
              "            \tbackground-size: auto;\n",
              "            }\n",
              "\n",
              "            .progress-bar-interrupted, .progress-bar-interrupted::-webkit-progress-bar {\n",
              "                background: #F44336;\n",
              "            }\n",
              "        </style>\n",
              "      <progress value='0' class='' max='1', style='width:300px; height:20px; vertical-align: middle;'></progress>\n",
              "      0.00% [0/1 00:00<00:00]\n",
              "    </div>\n",
              "    \n",
              "<table style='width:300px; margin-bottom:10px'>\n",
              "  <tr>\n",
              "    <th>epoch</th>\n",
              "    <th>train_loss</th>\n",
              "    <th>valid_loss</th>\n",
              "  </tr>\n",
              "  <tr>\n",
              "\n",
              "  </tr>\n",
              "</table>\n",
              "\n",
              "\n",
              "    <div>\n",
              "        <style>\n",
              "        \t/* Turns off some styling */\n",
              "        \tprogress {\n",
              "\n",
              "            \t/* gets rid of default border in Firefox and Opera. */\n",
              "            \tborder: none;\n",
              "\n",
              "            \t/* Needs to be in here for Safari polyfill so background images work as expected. */\n",
              "            \tbackground-size: auto;\n",
              "            }\n",
              "\n",
              "            .progress-bar-interrupted, .progress-bar-interrupted::-webkit-progress-bar {\n",
              "                background: #F44336;\n",
              "            }\n",
              "        </style>\n",
              "      <progress value='0' class='progress-bar-interrupted' max='14501', style='width:300px; height:20px; vertical-align: middle;'></progress>\n",
              "      Interrupted\n",
              "    </div>\n",
              "    "
            ],
            "text/plain": [
              "<IPython.core.display.HTML object>"
            ]
          },
          "metadata": {
            "tags": []
          }
        },
        {
          "output_type": "stream",
          "text": [
            "LR Finder is complete, type {learner_name}.recorder.plot() to see the graph.\n"
          ],
          "name": "stdout"
        }
      ]
    },
    {
      "metadata": {
        "id": "09XXahsPiXQW",
        "colab_type": "code",
        "outputId": "66f9462b-59ff-4379-935e-2416499e1b98",
        "colab": {
          "base_uri": "https://localhost:8080/",
          "height": 361
        }
      },
      "cell_type": "code",
      "source": [
        "learn.recorder.plot()"
      ],
      "execution_count": 0,
      "outputs": [
        {
          "output_type": "display_data",
          "data": {
            "image/png": "[encoded data removed]",
            "text/plain": [
              "<matplotlib.figure.Figure at 0x7fdba43ea588>"
            ]
          },
          "metadata": {
            "tags": []
          }
        }
      ]
    },
    {
      "metadata": {
        "id": "VYL8o5xrll24",
        "colab_type": "text"
      },
      "cell_type": "markdown",
      "source": [
        "O.k. Now, lets try a Fit...using 20 factors... we see in the plot that we could use the Learning Rate..."
      ]
    },
    {
      "metadata": {
        "id": "4dHvhYwelvr9",
        "colab_type": "code",
        "outputId": "0e8dfe12-0110-44e8-9e7d-311a64bfb8f2",
        "colab": {
          "base_uri": "https://localhost:8080/",
          "height": 168
        }
      },
      "cell_type": "code",
      "source": [
        "learn.fit_one_cycle(5, 5e-2)"
      ],
      "execution_count": 0,
      "outputs": [
        {
          "output_type": "stream",
          "text": [
            "Total time: 16:15\n",
            "epoch  train_loss  valid_loss\n",
            "1      13.539260   13.907741   (03:12)\n",
            "2      14.242652   14.153863   (03:16)\n",
            "3      13.978994   13.902764   (03:14)\n",
            "4      13.377132   13.454253   (03:15)\n",
            "5      13.097713   13.061069   (03:16)\n",
            "\n"
          ],
          "name": "stdout"
        }
      ]
    },
    {
      "metadata": {
        "id": "bRDOB3JQ6zwO",
        "colab_type": "code",
        "colab": {}
      },
      "cell_type": "code",
      "source": [
        "learn.save('all_ratings_fit1')"
      ],
      "execution_count": 0,
      "outputs": []
    },
    {
      "metadata": {
        "id": "JoPQ56ZsUyoD",
        "colab_type": "code",
        "colab": {}
      },
      "cell_type": "code",
      "source": [
        "data = CollabDataBunch.from_df(ratings_explicit, seed=42, pct_val=0.1, item_name=\"bookTitle\")"
      ],
      "execution_count": 0,
      "outputs": []
    },
    {
      "metadata": {
        "colab_type": "text",
        "id": "ScfbONwOYCRr"
      },
      "cell_type": "markdown",
      "source": [
        "Create a CollabDataBunch with ratings_explicit..."
      ]
    },
    {
      "metadata": {
        "id": "rPORv56sYZJM",
        "colab_type": "code",
        "outputId": "e50230ea-71a1-46a4-969a-aa96a6d11798",
        "colab": {
          "base_uri": "https://localhost:8080/",
          "height": 663
        }
      },
      "cell_type": "code",
      "source": [
        "data.show_batch()"
      ],
      "execution_count": 0,
      "outputs": [
        {
          "output_type": "display_data",
          "data": {
            "text/html": [
              "<table>  <col width='10px'>  <col width='10px'>  <col width='10px'>  <tr>\n",
              "    <th>userId</th>\n",
              "    <th>bookTitle</th>\n",
              "    <th>target</th>\n",
              "  </tr>\n",
              "  <tr>\n",
              "    <th>157945</th>\n",
              "    <th>Chain of Evidence</th>\n",
              "    <th>5.0</th>\n",
              "  </tr>\n",
              "  <tr>\n",
              "    <th>75585</th>\n",
              "    <th>And Then There Were None : A Novel</th>\n",
              "    <th>8.0</th>\n",
              "  </tr>\n",
              "  <tr>\n",
              "    <th>248259</th>\n",
              "    <th>Teach Yourself VISUALLY Flash 5</th>\n",
              "    <th>10.0</th>\n",
              "  </tr>\n",
              "  <tr>\n",
              "    <th>28448</th>\n",
              "    <th>Anne Frank: The Diary of a Young Girl</th>\n",
              "    <th>9.0</th>\n",
              "  </tr>\n",
              "  <tr>\n",
              "    <th>41449</th>\n",
              "    <th>Memories of a Catholic Girlhood (A Harvest/Hbj Book)</th>\n",
              "    <th>9.0</th>\n",
              "  </tr>\n",
              "  <tr>\n",
              "    <th>189104</th>\n",
              "    <th>Exit to Eden</th>\n",
              "    <th>10.0</th>\n",
              "  </tr>\n",
              "  <tr>\n",
              "    <th>204430</th>\n",
              "    <th>Animal Homes (First Discovery Look-It-Up Board Books)</th>\n",
              "    <th>8.0</th>\n",
              "  </tr>\n",
              "  <tr>\n",
              "    <th>252695</th>\n",
              "    <th>Chile Death: A China Bayles Mystery (China Bayles Mysteries (Hardcover))</th>\n",
              "    <th>8.0</th>\n",
              "  </tr>\n",
              "</table>\n"
            ],
            "text/plain": [
              "<IPython.core.display.HTML object>"
            ]
          },
          "metadata": {
            "tags": []
          }
        }
      ]
    },
    {
      "metadata": {
        "colab_type": "text",
        "id": "uR_ZtNzEYmg3"
      },
      "cell_type": "markdown",
      "source": [
        "Create a Collab_learner"
      ]
    },
    {
      "metadata": {
        "id": "lqIk7B_JYn-m",
        "colab_type": "code",
        "colab": {}
      },
      "cell_type": "code",
      "source": [
        "learn = collab_learner(data, n_factors=20,  y_range=(1.0,10.0), wd=1e-1)"
      ],
      "execution_count": 0,
      "outputs": []
    },
    {
      "metadata": {
        "id": "-A5cmfH4Y2I5",
        "colab_type": "code",
        "outputId": "9e56ea30-fe2e-4b73-e73d-db0b664447f2",
        "colab": {
          "base_uri": "https://localhost:8080/",
          "height": 112
        }
      },
      "cell_type": "code",
      "source": [
        "learn.lr_find()"
      ],
      "execution_count": 0,
      "outputs": [
        {
          "output_type": "display_data",
          "data": {
            "text/html": [
              "\n",
              "    <div>\n",
              "        <style>\n",
              "        \t/* Turns off some styling */\n",
              "        \tprogress {\n",
              "\n",
              "            \t/* gets rid of default border in Firefox and Opera. */\n",
              "            \tborder: none;\n",
              "\n",
              "            \t/* Needs to be in here for Safari polyfill so background images work as expected. */\n",
              "            \tbackground-size: auto;\n",
              "            }\n",
              "\n",
              "            .progress-bar-interrupted, .progress-bar-interrupted::-webkit-progress-bar {\n",
              "                background: #F44336;\n",
              "            }\n",
              "        </style>\n",
              "      <progress value='0' class='' max='1', style='width:300px; height:20px; vertical-align: middle;'></progress>\n",
              "      0.00% [0/1 00:00<00:00]\n",
              "    </div>\n",
              "    \n",
              "<table style='width:300px; margin-bottom:10px'>\n",
              "  <tr>\n",
              "    <th>epoch</th>\n",
              "    <th>train_loss</th>\n",
              "    <th>valid_loss</th>\n",
              "  </tr>\n",
              "  <tr>\n",
              "\n",
              "  </tr>\n",
              "</table>\n",
              "\n",
              "\n",
              "    <div>\n",
              "        <style>\n",
              "        \t/* Turns off some styling */\n",
              "        \tprogress {\n",
              "\n",
              "            \t/* gets rid of default border in Firefox and Opera. */\n",
              "            \tborder: none;\n",
              "\n",
              "            \t/* Needs to be in here for Safari polyfill so background images work as expected. */\n",
              "            \tbackground-size: auto;\n",
              "            }\n",
              "\n",
              "            .progress-bar-interrupted, .progress-bar-interrupted::-webkit-progress-bar {\n",
              "                background: #F44336;\n",
              "            }\n",
              "        </style>\n",
              "      <progress value='0' class='progress-bar-interrupted' max='5398', style='width:300px; height:20px; vertical-align: middle;'></progress>\n",
              "      Interrupted\n",
              "    </div>\n",
              "    "
            ],
            "text/plain": [
              "<IPython.core.display.HTML object>"
            ]
          },
          "metadata": {
            "tags": []
          }
        },
        {
          "output_type": "stream",
          "text": [
            "LR Finder is complete, type {learner_name}.recorder.plot() to see the graph.\n"
          ],
          "name": "stdout"
        }
      ]
    },
    {
      "metadata": {
        "id": "tAomgts2Y6KU",
        "colab_type": "code",
        "outputId": "df877a00-492f-4b04-8c91-fee460199e82",
        "colab": {
          "base_uri": "https://localhost:8080/",
          "height": 361
        }
      },
      "cell_type": "code",
      "source": [
        "learn.recorder.plot()"
      ],
      "execution_count": 0,
      "outputs": [
        {
          "output_type": "display_data",
          "data": {
            "image/png": "[encoded data removed]",
            "text/plain": [
              "<matplotlib.figure.Figure at 0x7fdba2b5f400>"
            ]
          },
          "metadata": {
            "tags": []
          }
        }
      ]
    },
    {
      "metadata": {
        "id": "Uo9g3XLcZE5A",
        "colab_type": "code",
        "outputId": "9f4c5cbc-6f44-4615-baa9-bcd4c6bfb82c",
        "colab": {
          "base_uri": "https://localhost:8080/",
          "height": 168
        }
      },
      "cell_type": "code",
      "source": [
        "learn.fit_one_cycle(5, 5e-3)"
      ],
      "execution_count": 0,
      "outputs": [
        {
          "output_type": "stream",
          "text": [
            "Total time: 04:53\n",
            "epoch  train_loss  valid_loss\n",
            "1      4.878034    4.788813    (00:59)\n",
            "2      4.153859    4.349168    (00:58)\n",
            "3      4.267548    4.282271    (00:57)\n",
            "4      4.005231    4.241577    (00:59)\n",
            "5      3.639077    4.234578    (00:58)\n",
            "\n"
          ],
          "name": "stdout"
        }
      ]
    },
    {
      "metadata": {
        "id": "yj188VgNbuHE",
        "colab_type": "code",
        "colab": {}
      },
      "cell_type": "code",
      "source": [
        "learn.save('ratings_explicit_fit1')"
      ],
      "execution_count": 0,
      "outputs": []
    },
    {
      "metadata": {
        "id": "WjDfTds09_oD",
        "colab_type": "code",
        "outputId": "32266848-5798-423e-d96b-a83105e0a767",
        "colab": {
          "base_uri": "https://localhost:8080/",
          "height": 528
        }
      },
      "cell_type": "code",
      "source": [
        "learn.load('ratings_explicit_fit1')"
      ],
      "execution_count": 0,
      "outputs": [
        {
          "output_type": "execute_result",
          "data": {
            "text/plain": [
              "CollabLearner(data=TabularDataBunch;\n",
              "Train: LabelList\n",
              "y: FloatList (345458 items)\n",
              "[FloatItem 5.0, FloatItem 9.0, FloatItem 8.0, FloatItem 9.0, FloatItem 5.0]...\n",
              "Path: .\n",
              "x: CollabList (345458 items)\n",
              "[CollabLine userId 2313; bookTitle Flesh Tones: A Novel; , CollabLine userId 2313; bookTitle Ender's Game (Ender Wiggins Saga (Paperback)); , CollabLine userId 2313; bookTitle In Cold Blood (Vintage International); , CollabLine userId 2313; bookTitle Divine Secrets of the Ya-Ya Sisterhood : A Novel; , CollabLine userId 2313; bookTitle The Mistress of Spices; ]...\n",
              "Path: .;\n",
              "Valid: LabelList\n",
              "y: FloatList (38384 items)\n",
              "[FloatItem 9.0, FloatItem 6.0, FloatItem 9.0, FloatItem 10.0, FloatItem 9.0]...\n",
              "Path: .\n",
              "x: CollabList (38384 items)\n",
              "[CollabLine userId 248479; bookTitle What to Expect When You're Expecting, Third Edition; , CollabLine userId 6789; bookTitle Miss Zukas Shelves the Evidence (Miss Zukas Mysteries); , CollabLine userId 136348; bookTitle A Tree Grows in Brooklyn; , CollabLine userId 2110; bookTitle The Time Machine; , CollabLine userId 100906; bookTitle #na#; ]...\n",
              "Path: .;\n",
              "Test: None, model=EmbeddingDotBias(\n",
              "  (u_weight): Embedding(64126, 20)\n",
              "  (i_weight): Embedding(126487, 20)\n",
              "  (u_bias): Embedding(64126, 1)\n",
              "  (i_bias): Embedding(126487, 1)\n",
              "), opt_func=functools.partial(<class 'torch.optim.adam.Adam'>, betas=(0.9, 0.99)), loss_func=MSELossFlat(), metrics=[], true_wd=True, bn_wd=True, wd=0.1, train_bn=True, path=PosixPath('.'), model_dir='models', callback_fns=[<class 'fastai.basic_train.Recorder'>], callbacks=[], layer_groups=[Sequential(\n",
              "  (0): Embedding(64126, 20)\n",
              "  (1): Embedding(126487, 20)\n",
              "  (2): Embedding(64126, 1)\n",
              "  (3): Embedding(126487, 1)\n",
              ")])"
            ]
          },
          "metadata": {
            "tags": []
          },
          "execution_count": 54
        }
      ]
    },
    {
      "metadata": {
        "id": "rXGZ8HI_-Esc",
        "colab_type": "code",
        "outputId": "5a17403e-8647-459d-e9b8-18ff1fa7f599",
        "colab": {
          "base_uri": "https://localhost:8080/",
          "height": 130
        }
      },
      "cell_type": "code",
      "source": [
        "learn.model"
      ],
      "execution_count": 0,
      "outputs": [
        {
          "output_type": "execute_result",
          "data": {
            "text/plain": [
              "EmbeddingDotBias(\n",
              "  (u_weight): Embedding(64126, 20)\n",
              "  (i_weight): Embedding(126487, 20)\n",
              "  (u_bias): Embedding(64126, 1)\n",
              "  (i_bias): Embedding(126487, 1)\n",
              ")"
            ]
          },
          "metadata": {
            "tags": []
          },
          "execution_count": 55
        }
      ]
    },
    {
      "metadata": {
        "id": "tevm3jFMAWn1",
        "colab_type": "text"
      },
      "cell_type": "markdown",
      "source": [
        "**Top Rated Books**"
      ]
    },
    {
      "metadata": {
        "id": "5_JfvENA8z8-",
        "colab_type": "code",
        "outputId": "37b43e24-306d-428f-958a-e7b02dc35c12",
        "colab": {
          "base_uri": "https://localhost:8080/",
          "height": 74
        }
      },
      "cell_type": "code",
      "source": [
        "g = ratings_explicit.groupby(ratings_explicit.bookTitle)['bookRating'].count()\n",
        "top_books = g.sort_values(ascending=False).index.values[:1000]\n",
        "top_books[:10]"
      ],
      "execution_count": 0,
      "outputs": [
        {
          "output_type": "execute_result",
          "data": {
            "text/plain": [
              "array(['The Lovely Bones: A Novel', 'Wild Animus', 'The Da Vinci Code', 'The Secret Life of Bees',\n",
              "       'The Nanny Diaries: A Novel', 'The Red Tent (Bestselling Backlist)', \"Bridget Jones's Diary\", 'A Painted House',\n",
              "       'Life of Pi', 'Harry Potter and the Chamber of Secrets (Book 2)'], dtype=object)"
            ]
          },
          "metadata": {
            "tags": []
          },
          "execution_count": 58
        }
      ]
    },
    {
      "metadata": {
        "id": "QtY5CV1sAbij",
        "colab_type": "text"
      },
      "cell_type": "markdown",
      "source": [
        " **Book Bias**"
      ]
    },
    {
      "metadata": {
        "id": "3G9y46CUAnKt",
        "colab_type": "code",
        "outputId": "56bbdb10-07d4-482e-d2b1-5d47fba26105",
        "colab": {
          "base_uri": "https://localhost:8080/",
          "height": 36
        }
      },
      "cell_type": "code",
      "source": [
        "book_bias = learn.bias(top_books, is_item=True)\n",
        "book_bias.shape"
      ],
      "execution_count": 0,
      "outputs": [
        {
          "output_type": "execute_result",
          "data": {
            "text/plain": [
              "torch.Size([1000])"
            ]
          },
          "metadata": {
            "tags": []
          },
          "execution_count": 59
        }
      ]
    },
    {
      "metadata": {
        "id": "6kM85CrfBZF6",
        "colab_type": "code",
        "colab": {}
      },
      "cell_type": "code",
      "source": [
        "mean_ratings = ratings_explicit.groupby(ratings_explicit.bookTitle)['bookRating'].mean()\n",
        "book_ratings = [(b, i, mean_ratings.loc[i]) for i,b in zip(top_books, book_bias)]"
      ],
      "execution_count": 0,
      "outputs": []
    },
    {
      "metadata": {
        "id": "bk8uyWl1DMrV",
        "colab_type": "code",
        "colab": {}
      },
      "cell_type": "code",
      "source": [
        "item0 = lambda o:o[0]"
      ],
      "execution_count": 0,
      "outputs": []
    },
    {
      "metadata": {
        "id": "MyGyziuhG-Np",
        "colab_type": "text"
      },
      "cell_type": "markdown",
      "source": [
        "The following Books are Biased, meaning rated better than expected... or something "
      ]
    },
    {
      "metadata": {
        "id": "Pdnm7UTxDYUz",
        "colab_type": "code",
        "outputId": "8bbe8978-1441-4d4c-b458-acc0b61a2a3e",
        "colab": {
          "base_uri": "https://localhost:8080/",
          "height": 413
        }
      },
      "cell_type": "code",
      "source": [
        "sorted(book_ratings, key=item0)[:15]"
      ],
      "execution_count": 0,
      "outputs": [
        {
          "output_type": "execute_result",
          "data": {
            "text/plain": [
              "[(tensor(-0.3036), 'Wild Animus', 4.3907056798623065),\n",
              " (tensor(-0.0968), 'Four Blondes', 5.393939393939394),\n",
              " (tensor(-0.0568), 'Isle of Dogs', 5.433962264150943),\n",
              " (tensor(-0.0262), '4 Blondes', 5.653846153846154),\n",
              " (tensor(0.0363), 'Sex &amp; the City', 6.184210526315789),\n",
              " (tensor(0.0463), 'Wifey', 6.696428571428571),\n",
              " (tensor(0.0490), 'Violin', 6.1063829787234045),\n",
              " (tensor(0.0513),\n",
              "  'Scarlett : The Sequel to Margaret Mitchell\\'s \\\\Gone With the Wind\\\\\"\"',\n",
              "  7.0),\n",
              " (tensor(0.0521),\n",
              "  \"Full Tilt (Janet Evanovich's Full Series)\",\n",
              "  6.568627450980392),\n",
              " (tensor(0.0575), 'The Little Friend', 6.2727272727272725),\n",
              " (tensor(0.0652), \"Dr. Atkins' New Diet Revolution\", 6.813953488372093),\n",
              " (tensor(0.0672),\n",
              "  'Forever... : A Novel of Good and Evil, Love and Hope',\n",
              "  6.945945945945946),\n",
              " (tensor(0.0673), 'The Sky Is Falling', 6.341463414634147),\n",
              " (tensor(0.0679), 'September', 7.0),\n",
              " (tensor(0.0682), 'The Voice of the Night', 6.951219512195122)]"
            ]
          },
          "metadata": {
            "tags": []
          },
          "execution_count": 63
        }
      ]
    },
    {
      "metadata": {
        "id": "2M19v_n1Gep3",
        "colab_type": "text"
      },
      "cell_type": "markdown",
      "source": [
        "The Following Books, are **Highly Biased to be good** and they are **really Rated good. **"
      ]
    },
    {
      "metadata": {
        "id": "YjF8iA7EEn5U",
        "colab_type": "code",
        "outputId": "c7c5fd02-d395-4ac8-af6f-be7841e94767",
        "colab": {
          "base_uri": "https://localhost:8080/",
          "height": 602
        }
      },
      "cell_type": "code",
      "source": [
        "sorted(book_ratings, key=lambda o: o[0], reverse=True)[:15]"
      ],
      "execution_count": 0,
      "outputs": [
        {
          "output_type": "execute_result",
          "data": {
            "text/plain": [
              "[(tensor(0.8557),\n",
              "  \"Harry Potter and the Sorcerer's Stone (Harry Potter (Paperback))\",\n",
              "  8.936507936507937),\n",
              " (tensor(0.8187), 'The Secret Life of Bees', 8.47783251231527),\n",
              " (tensor(0.8160), 'The Lovely Bones: A Novel', 8.185289957567186),\n",
              " (tensor(0.7714), 'To Kill a Mockingbird', 8.97752808988764),\n",
              " (tensor(0.7679), 'The Da Vinci Code', 8.43927125506073),\n",
              " (tensor(0.7115),\n",
              "  \"Ender's Game (Ender Wiggins Saga (Paperback))\",\n",
              "  8.920529801324504),\n",
              " (tensor(0.7027),\n",
              "  \"Tuesdays with Morrie: An Old Man, a Young Man, and Life's Greatest Lesson\",\n",
              "  8.588),\n",
              " (tensor(0.6901),\n",
              "  'Harry Potter and the Chamber of Secrets (Book 2)',\n",
              "  8.840490797546012),\n",
              " (tensor(0.6757), 'The Red Tent (Bestselling Backlist)', 8.182767624020888),\n",
              " (tensor(0.6587),\n",
              "  'Harry Potter and the Prisoner of Azkaban (Book 3)',\n",
              "  9.04332129963899),\n",
              " (tensor(0.6583), 'A Prayer for Owen Meany', 8.615384615384615),\n",
              " (tensor(0.6356),\n",
              "  \"Where the Heart Is (Oprah's Book Club (Paperback))\",\n",
              "  8.142372881355932),\n",
              " (tensor(0.6353), 'Fahrenheit 451', 8.549019607843137),\n",
              " (tensor(0.6283),\n",
              "  'Harry Potter and the Goblet of Fire (Book 4)',\n",
              "  9.125506072874494),\n",
              " (tensor(0.6175),\n",
              "  'Fast Food Nation: The Dark Side of the All-American Meal',\n",
              "  8.415584415584416)]"
            ]
          },
          "metadata": {
            "tags": []
          },
          "execution_count": 64
        }
      ]
    },
    {
      "metadata": {
        "id": "fxDQT2CHHZbu",
        "colab_type": "text"
      },
      "cell_type": "markdown",
      "source": [
        "**Book Weights** These are the weights used for our Learner in n_factors...in which case we used 20, so there should be 20 weights, or factors. "
      ]
    },
    {
      "metadata": {
        "id": "uSel9GWqG62M",
        "colab_type": "code",
        "outputId": "9745dc3d-8af0-4545-8190-838082357b31",
        "colab": {
          "base_uri": "https://localhost:8080/",
          "height": 36
        }
      },
      "cell_type": "code",
      "source": [
        "book_weights = learn.weight(top_books, is_item=True)\n",
        "book_weights.shape"
      ],
      "execution_count": 0,
      "outputs": [
        {
          "output_type": "execute_result",
          "data": {
            "text/plain": [
              "torch.Size([1000, 20])"
            ]
          },
          "metadata": {
            "tags": []
          },
          "execution_count": 65
        }
      ]
    },
    {
      "metadata": {
        "id": "wWpOPRa_IDer",
        "colab_type": "text"
      },
      "cell_type": "markdown",
      "source": [
        "Good, we fed it 1000 of the items, and we asked for n_factors = 20, as we can see, the torch size is 1000 x 20..."
      ]
    }
  ]
}